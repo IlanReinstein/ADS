{
 "cells": [
  {
   "cell_type": "code",
   "execution_count": 2,
   "metadata": {
    "collapsed": false
   },
   "outputs": [],
   "source": [
    "import pandas as pd\n",
    "import numpy as np\n",
    "import statsmodels.formula.api as smf\n",
    "import matplotlib.pylab as plt\n",
    "%matplotlib inline"
   ]
  },
  {
   "cell_type": "markdown",
   "metadata": {},
   "source": [
    "# Bi-variate linear regression\n",
    "\n",
    "# 1.1. Basic approach - least square estimate\n",
    "One of the basic models to try, while learning dependence between two real-valued variables $X$ and $Y$ is linear:\n",
    "$$\n",
    "y=w_1 x + w_0.\n",
    "$$\n",
    "Admitting that the model's accuracy is not be absolute: \n",
    "$$\n",
    "y=w_1 x + w_0 +\\varepsilon,\\hspace{5ex} (1)\n",
    "$$\n",
    "where $\\varepsilon$ is the model's error (often called noise or residual).\n",
    "\n",
    "The objective is to learn $b$ given a training set of $\\{(x_i, y_i), i=1..N\\}$. Usually the objetive is to find $w=(w_1,w_0)$ providing the best possible fit of the model, i.e. minimizing absolute values of the errors\n",
    "$\\varepsilon_i=x_i-w_1 y_i-w_0$.\n",
    "\n",
    "Most common quality function for the given model is the residual sum of squares:\n",
    "$$\n",
    "RSS(w)=\\sum\\limits_i \\varepsilon_i^2=\\sum\\limits_i (y_i-w_1 x_i-w_0)^2. \\hspace{5ex} (2)\n",
    "$$\n",
    "Minimizing $RSS(w)\\to min$ is called a least square approach. With respect to this criteria, regression becomes an optimization problem\n",
    "$$\n",
    "\\hat{w}=argmin_w RSS(w). \\hspace{5ex} (3)\n",
    "$$\n",
    "Luckily this problem has a precise analytic solution following from function's shape and local extremum criteria:\n",
    "$$\n",
    "\\left\\{\\begin{array}{c}\\frac{\\partial RSS(\\hat{w})}{\\partial w_1}=0,\\\\ \\frac{\\partial RSS(\\hat{w})}{\\partial w_0}=0.\\end{array}\\right.\n",
    "$$\n",
    "i.e.\n",
    "$$\n",
    "\\left\\{\\begin{array}{c}\\sum\\limits_i 2x_i(y_i-\\hat{w}_1 x_i-\\hat{w}_0)=0,\\\\ \\sum\\limits_i 2(y_i-\\hat{w}_1 x_i-\\hat{w}_0)=0,\\end{array}\\right.\n",
    "$$\n",
    "$$\n",
    "\\left\\{\\begin{array}{c}\\hat{w}_1\\left(\\sum\\limits_i (x_i)^2\\right)+\\hat{w}_0\\left(\\sum\\limits_i x_i\\right)=\\sum\\limits_i x_i y_i,\\\\ \\hat{w}_1\\left(\\sum\\limits_i x_i\\right)+N \\hat{w}_0=\\sum\\limits_i y_i,\\end{array}\\right.\n",
    "$$\n",
    "$$\n",
    "\\left\\{\\begin{array}{c}\\hat{w}_1=\\frac{\\sum\\limits_i x_i y_i-\\left(\\sum\\limits_i y_i\\right)\\left(\\sum\\limits_i x_i\\right)/N}{\\sum\\limits_i (x_i)^2-\\left(\\sum\\limits_i x_i\\right)^2/N}=\\frac{E[XY]-E[X]E[Y]}{E[X^2]-E[X]^2}=\\frac{E[X-E[X]][Y-E[X]]}{var[X]}=\\frac{cov(X,Y)}{var[X]}=corr[X,Y]\\frac{std[Y]}{std[X]},\\\\\n",
    "\\hat{w}_0=\\frac{\\sum\\limits_i y_i-\\hat{w}_1\\left(\\sum\\limits_i x_i\\right)}{N}=E[Y]-E[X]\\hat{w}_1\\end{array}\\right.\n",
    "$$"
   ]
  },
  {
   "cell_type": "markdown",
   "metadata": {},
   "source": [
    "# 1.2. Probabilistic approach\n",
    "\n",
    "Uncertainty of the model (1) prediction can be expressed by considering $\\varepsilon$ as a random variable representing deviations of the actual values of $y$ from the estimates provided by the precise linear model. A basic assumption is to have $\\varepsilon\\sim{\\cal N}(0,\\sigma^2)$ (mean is zero as otherwise the intercept term $w_0$ could be corrected accordingly). \n",
    "\n",
    "Often observations $y_i,x_i$ are spread in time ($i$ - could be time of the observation). \n",
    "Classical regression assumptions (Gauss-Markov): $\\sigma$ is the same for all observations (does not depend on time) and errors $\\varepsilon_i$ following ${\\cal N}(0,\\sigma^2)$ are mutually uncorrelated, i.e. $cov(\\epsilon_i,\\epsilon_j)=0$ for $i\\neq j$. \n",
    "\n",
    "An alternative way of representing this linear model is by considering $y$ a random variable and expressing it's conditional probability density function with respect to given $x$ and $w$ as\n",
    "$$\n",
    "p(y|x,w)={\\cal N}(y|w_1 x+w_0,\\sigma^2).\\hspace{5ex} (4)\n",
    "$$\n",
    "\n",
    "This way it is actually the mean of the distribution (4) which is predicted by a linear model/\n",
    "Now the problem is to fit unknown parameters of the model $w_1,w_0,\\sigma$ (the last one $\\sigma$ represents how usually close are the values of $y$ to the linear prediction), so that the model is the most consistent with the training data $\\{(x_j,y_j), j=1..N\\}$.\n",
    "\n",
    "Fitting could be done through through maximizing the likelihood that the observed data $y_j$ actually follows the suggested distribution (4). Likelihood is defined as a product of probability density values $\\prod\\limits_j p(y_j|x_j)$. But it's actually more practical to maximize the log-likelihood (which is equivalent):\n",
    "$$\n",
    "\\log\\left(\\prod\\limits_j p(y_j|x_j)\\right)=\\sum\\limits_j \\log\\left({\\cal N}(y|w_1 x+w_0,\\sigma^2)\\right)=\n",
    "$$$$\n",
    "=-\\sum\\limits_j \\frac{(y_j-w_1 x_j+w_0)^2}{2\\sigma^2}- N \\log(\\sigma)-N \\log(\\sqrt{2\\pi})\\to\\max\n",
    "$$\n",
    "Optimization with respect to $w$ turns out to be equivalent to the above least-square minimization (3). Then for minimal $RSS(\\hat{w})$ acheived, $\\sigma$ could be found from\n",
    "$$\n",
    "\\frac{RSS(\\hat{w})}{2\\sigma^2}+N\\log(\\sigma)\\to\\min\n",
    "$$$$\n",
    "\\frac{\\partial\\frac{RSS(\\hat{w})}{2\\sigma^2}+N\\log(\\sigma)}{\\partial \\sigma}=0,\n",
    "$$$$\n",
    "-\\frac{RSS(\\hat{w})}{\\sigma^3}+\\frac{N}{\\sigma}=0,\n",
    "$$$$\n",
    "\\sigma^2=\\frac{RSS(\\hat{w})}{N}.\n",
    "$$"
   ]
  },
  {
   "cell_type": "code",
   "execution_count": null,
   "metadata": {
    "collapsed": true
   },
   "outputs": [],
   "source": []
  },
  {
   "cell_type": "code",
   "execution_count": null,
   "metadata": {
    "collapsed": true
   },
   "outputs": [],
   "source": []
  },
  {
   "cell_type": "markdown",
   "metadata": {},
   "source": [
    "### Example One: Toy example.\n",
    "$y=5x+10+\\varepsilon$\n",
    "\n",
    "$\\varepsilon\\sim{\\cal N}(0,\\sigma^2)$ and $\\sigma=10$"
   ]
  },
  {
   "cell_type": "code",
   "execution_count": 3,
   "metadata": {
    "collapsed": false
   },
   "outputs": [],
   "source": [
    "#Generate data:\n",
    "np.random.seed(100)\n",
    "error=np.random.normal(0,10,10)\n",
    "X=range(10)"
   ]
  },
  {
   "cell_type": "code",
   "execution_count": 4,
   "metadata": {
    "collapsed": false
   },
   "outputs": [
    {
     "data": {
      "text/plain": [
       "array([-17.49765473,   3.42680403,  11.53035803,  -2.52436037,\n",
       "         9.81320787,   5.14218841,   2.21179669, -10.70043331,\n",
       "        -1.89495831,   2.55001444])"
      ]
     },
     "execution_count": 4,
     "metadata": {},
     "output_type": "execute_result"
    }
   ],
   "source": [
    "error"
   ]
  },
  {
   "cell_type": "code",
   "execution_count": 5,
   "metadata": {
    "collapsed": false
   },
   "outputs": [
    {
     "data": {
      "text/plain": [
       "[0, 1, 2, 3, 4, 5, 6, 7, 8, 9]"
      ]
     },
     "execution_count": 5,
     "metadata": {},
     "output_type": "execute_result"
    }
   ],
   "source": [
    "X"
   ]
  },
  {
   "cell_type": "markdown",
   "metadata": {},
   "source": [
    "#### (1) Let's generate y and prepare the data for using"
   ]
  },
  {
   "cell_type": "code",
   "execution_count": 6,
   "metadata": {
    "collapsed": false
   },
   "outputs": [
    {
     "name": "stdout",
     "output_type": "stream",
     "text": [
      "<type 'list'>\n",
      "<type 'numpy.ndarray'>\n"
     ]
    }
   ],
   "source": [
    "#1. What is the type of X,error?\n",
    "print type(X)\n",
    "print type(error)"
   ]
  },
  {
   "cell_type": "code",
   "execution_count": 7,
   "metadata": {
    "collapsed": true
   },
   "outputs": [],
   "source": [
    "#2. Change the type of X, to np array\n",
    "X=np.asarray(X)"
   ]
  },
  {
   "cell_type": "code",
   "execution_count": 8,
   "metadata": {
    "collapsed": false
   },
   "outputs": [
    {
     "name": "stdout",
     "output_type": "stream",
     "text": [
      "<type 'numpy.ndarray'>\n",
      "<type 'numpy.ndarray'>\n"
     ]
    }
   ],
   "source": [
    "print type(X)\n",
    "print type(error)"
   ]
  },
  {
   "cell_type": "code",
   "execution_count": 9,
   "metadata": {
    "collapsed": false
   },
   "outputs": [
    {
     "data": {
      "text/plain": [
       "array([ -7.49765473,  18.42680403,  31.53035803,  22.47563963,\n",
       "        39.81320787,  40.14218841,  42.21179669,  34.29956669,\n",
       "        48.10504169,  57.55001444])"
      ]
     },
     "execution_count": 9,
     "metadata": {},
     "output_type": "execute_result"
    }
   ],
   "source": [
    "#3.Generate y\n",
    "y=5*X+10+error\n",
    "y"
   ]
  },
  {
   "cell_type": "code",
   "execution_count": 10,
   "metadata": {
    "collapsed": false
   },
   "outputs": [
    {
     "data": {
      "text/html": [
       "<div>\n",
       "<table border=\"1\" class=\"dataframe\">\n",
       "  <thead>\n",
       "    <tr style=\"text-align: right;\">\n",
       "      <th></th>\n",
       "      <th>0</th>\n",
       "      <th>1</th>\n",
       "    </tr>\n",
       "  </thead>\n",
       "  <tbody>\n",
       "    <tr>\n",
       "      <th>0</th>\n",
       "      <td>0.0</td>\n",
       "      <td>-7.497655</td>\n",
       "    </tr>\n",
       "    <tr>\n",
       "      <th>1</th>\n",
       "      <td>1.0</td>\n",
       "      <td>18.426804</td>\n",
       "    </tr>\n",
       "    <tr>\n",
       "      <th>2</th>\n",
       "      <td>2.0</td>\n",
       "      <td>31.530358</td>\n",
       "    </tr>\n",
       "  </tbody>\n",
       "</table>\n",
       "</div>"
      ],
      "text/plain": [
       "     0          1\n",
       "0  0.0  -7.497655\n",
       "1  1.0  18.426804\n",
       "2  2.0  31.530358"
      ]
     },
     "execution_count": 10,
     "metadata": {},
     "output_type": "execute_result"
    }
   ],
   "source": [
    "# Pandas Data frame\n",
    "#1.Make the pandas dataframe.\n",
    "data=pd.DataFrame([list(X),list(y)]).T\n",
    "data.head(3)"
   ]
  },
  {
   "cell_type": "code",
   "execution_count": 11,
   "metadata": {
    "collapsed": false
   },
   "outputs": [
    {
     "data": {
      "text/html": [
       "<div>\n",
       "<table border=\"1\" class=\"dataframe\">\n",
       "  <thead>\n",
       "    <tr style=\"text-align: right;\">\n",
       "      <th></th>\n",
       "      <th>x</th>\n",
       "      <th>y</th>\n",
       "    </tr>\n",
       "  </thead>\n",
       "  <tbody>\n",
       "    <tr>\n",
       "      <th>0</th>\n",
       "      <td>0.0</td>\n",
       "      <td>-7.497655</td>\n",
       "    </tr>\n",
       "    <tr>\n",
       "      <th>1</th>\n",
       "      <td>1.0</td>\n",
       "      <td>18.426804</td>\n",
       "    </tr>\n",
       "    <tr>\n",
       "      <th>2</th>\n",
       "      <td>2.0</td>\n",
       "      <td>31.530358</td>\n",
       "    </tr>\n",
       "    <tr>\n",
       "      <th>3</th>\n",
       "      <td>3.0</td>\n",
       "      <td>22.475640</td>\n",
       "    </tr>\n",
       "    <tr>\n",
       "      <th>4</th>\n",
       "      <td>4.0</td>\n",
       "      <td>39.813208</td>\n",
       "    </tr>\n",
       "    <tr>\n",
       "      <th>5</th>\n",
       "      <td>5.0</td>\n",
       "      <td>40.142188</td>\n",
       "    </tr>\n",
       "    <tr>\n",
       "      <th>6</th>\n",
       "      <td>6.0</td>\n",
       "      <td>42.211797</td>\n",
       "    </tr>\n",
       "    <tr>\n",
       "      <th>7</th>\n",
       "      <td>7.0</td>\n",
       "      <td>34.299567</td>\n",
       "    </tr>\n",
       "    <tr>\n",
       "      <th>8</th>\n",
       "      <td>8.0</td>\n",
       "      <td>48.105042</td>\n",
       "    </tr>\n",
       "    <tr>\n",
       "      <th>9</th>\n",
       "      <td>9.0</td>\n",
       "      <td>57.550014</td>\n",
       "    </tr>\n",
       "  </tbody>\n",
       "</table>\n",
       "</div>"
      ],
      "text/plain": [
       "     x          y\n",
       "0  0.0  -7.497655\n",
       "1  1.0  18.426804\n",
       "2  2.0  31.530358\n",
       "3  3.0  22.475640\n",
       "4  4.0  39.813208\n",
       "5  5.0  40.142188\n",
       "6  6.0  42.211797\n",
       "7  7.0  34.299567\n",
       "8  8.0  48.105042\n",
       "9  9.0  57.550014"
      ]
     },
     "execution_count": 11,
     "metadata": {},
     "output_type": "execute_result"
    }
   ],
   "source": [
    "#2. Change the name for column 0 and 1\n",
    "data.columns=[\"x\",\"y\"]\n",
    "data"
   ]
  },
  {
   "cell_type": "code",
   "execution_count": 12,
   "metadata": {
    "collapsed": false
   },
   "outputs": [
    {
     "data": {
      "image/png": "[encoded data removed]",
      "text/plain": [
       "<matplotlib.figure.Figure at 0x1141c5050>"
      ]
     },
     "metadata": {},
     "output_type": "display_data"
    }
   ],
   "source": [
    "#visulize the data.\n",
    "import matplotlib.pylab as plt\n",
    "%matplotlib inline\n",
    "plt.scatter(data.x,data.y)\n",
    "plt.show()"
   ]
  },
  {
   "cell_type": "markdown",
   "metadata": {},
   "source": [
    "#### (2) Use OLS to estimate the coefficients by hands"
   ]
  },
  {
   "cell_type": "code",
   "execution_count": 13,
   "metadata": {
    "collapsed": false
   },
   "outputs": [
    {
     "data": {
      "text/html": [
       "<div>\n",
       "<table border=\"1\" class=\"dataframe\">\n",
       "  <thead>\n",
       "    <tr style=\"text-align: right;\">\n",
       "      <th></th>\n",
       "      <th>x</th>\n",
       "      <th>y</th>\n",
       "    </tr>\n",
       "  </thead>\n",
       "  <tbody>\n",
       "    <tr>\n",
       "      <th>count</th>\n",
       "      <td>10.00000</td>\n",
       "      <td>10.000000</td>\n",
       "    </tr>\n",
       "    <tr>\n",
       "      <th>mean</th>\n",
       "      <td>4.50000</td>\n",
       "      <td>32.705696</td>\n",
       "    </tr>\n",
       "    <tr>\n",
       "      <th>std</th>\n",
       "      <td>3.02765</td>\n",
       "      <td>18.194432</td>\n",
       "    </tr>\n",
       "    <tr>\n",
       "      <th>min</th>\n",
       "      <td>0.00000</td>\n",
       "      <td>-7.497655</td>\n",
       "    </tr>\n",
       "    <tr>\n",
       "      <th>25%</th>\n",
       "      <td>2.25000</td>\n",
       "      <td>24.739319</td>\n",
       "    </tr>\n",
       "    <tr>\n",
       "      <th>50%</th>\n",
       "      <td>4.50000</td>\n",
       "      <td>37.056387</td>\n",
       "    </tr>\n",
       "    <tr>\n",
       "      <th>75%</th>\n",
       "      <td>6.75000</td>\n",
       "      <td>41.694395</td>\n",
       "    </tr>\n",
       "    <tr>\n",
       "      <th>max</th>\n",
       "      <td>9.00000</td>\n",
       "      <td>57.550014</td>\n",
       "    </tr>\n",
       "  </tbody>\n",
       "</table>\n",
       "</div>"
      ],
      "text/plain": [
       "              x          y\n",
       "count  10.00000  10.000000\n",
       "mean    4.50000  32.705696\n",
       "std     3.02765  18.194432\n",
       "min     0.00000  -7.497655\n",
       "25%     2.25000  24.739319\n",
       "50%     4.50000  37.056387\n",
       "75%     6.75000  41.694395\n",
       "max     9.00000  57.550014"
      ]
     },
     "execution_count": 13,
     "metadata": {},
     "output_type": "execute_result"
    }
   ],
   "source": [
    "#Take a quick look at the data\n",
    "data.describe()"
   ]
  },
  {
   "cell_type": "markdown",
   "metadata": {},
   "source": [
    "#### Correlation. Very important for linear model. If you don't know what is it, check:https://en.wikipedia.org/wiki/Correlation_and_dependence "
   ]
  },
  {
   "cell_type": "code",
   "execution_count": 14,
   "metadata": {
    "collapsed": false
   },
   "outputs": [
    {
     "data": {
      "text/html": [
       "<div>\n",
       "<table border=\"1\" class=\"dataframe\">\n",
       "  <thead>\n",
       "    <tr style=\"text-align: right;\">\n",
       "      <th></th>\n",
       "      <th>x</th>\n",
       "      <th>y</th>\n",
       "    </tr>\n",
       "  </thead>\n",
       "  <tbody>\n",
       "    <tr>\n",
       "      <th>x</th>\n",
       "      <td>1.000000</td>\n",
       "      <td>0.873941</td>\n",
       "    </tr>\n",
       "    <tr>\n",
       "      <th>y</th>\n",
       "      <td>0.873941</td>\n",
       "      <td>1.000000</td>\n",
       "    </tr>\n",
       "  </tbody>\n",
       "</table>\n",
       "</div>"
      ],
      "text/plain": [
       "          x         y\n",
       "x  1.000000  0.873941\n",
       "y  0.873941  1.000000"
      ]
     },
     "execution_count": 14,
     "metadata": {},
     "output_type": "execute_result"
    }
   ],
   "source": [
    "#Take a look the correlation of X and y\n",
    "data.corr()"
   ]
  },
  {
   "cell_type": "code",
   "execution_count": 15,
   "metadata": {
    "collapsed": true
   },
   "outputs": [],
   "source": [
    "#Calculate the coefficient. We have closed form for it by OLS."
   ]
  },
  {
   "cell_type": "markdown",
   "metadata": {},
   "source": [
    "$$\n",
    "\\left\\{\\begin{array}{c}\\hat{w}_1=\\frac{\\sum\\limits_i x_i y_i-\\left(\\sum\\limits_i y_i\\right)\\left(\\sum\\limits_i x_i\\right)/N}{\\sum\\limits_i (x_i)^2-\\left(\\sum\\limits_i x_i\\right)^2/N}\\\\\n",
    "\\hat{w}_0=\\frac{\\sum\\limits_i y_i-\\hat{w}_1\\left(\\sum\\limits_i x_i\\right)}{N}\\end{array}\\right.\n",
    "$$"
   ]
  },
  {
   "cell_type": "code",
   "execution_count": 16,
   "metadata": {
    "collapsed": false
   },
   "outputs": [
    {
     "data": {
      "text/html": [
       "<div>\n",
       "<table border=\"1\" class=\"dataframe\">\n",
       "  <thead>\n",
       "    <tr style=\"text-align: right;\">\n",
       "      <th></th>\n",
       "      <th>x</th>\n",
       "      <th>y</th>\n",
       "      <th>x_sqr</th>\n",
       "      <th>xy</th>\n",
       "    </tr>\n",
       "  </thead>\n",
       "  <tbody>\n",
       "    <tr>\n",
       "      <th>0</th>\n",
       "      <td>0.0</td>\n",
       "      <td>-7.497655</td>\n",
       "      <td>0.0</td>\n",
       "      <td>-0.000000</td>\n",
       "    </tr>\n",
       "    <tr>\n",
       "      <th>1</th>\n",
       "      <td>1.0</td>\n",
       "      <td>18.426804</td>\n",
       "      <td>1.0</td>\n",
       "      <td>18.426804</td>\n",
       "    </tr>\n",
       "    <tr>\n",
       "      <th>2</th>\n",
       "      <td>2.0</td>\n",
       "      <td>31.530358</td>\n",
       "      <td>4.0</td>\n",
       "      <td>63.060716</td>\n",
       "    </tr>\n",
       "  </tbody>\n",
       "</table>\n",
       "</div>"
      ],
      "text/plain": [
       "     x          y  x_sqr         xy\n",
       "0  0.0  -7.497655    0.0  -0.000000\n",
       "1  1.0  18.426804    1.0  18.426804\n",
       "2  2.0  31.530358    4.0  63.060716"
      ]
     },
     "execution_count": 16,
     "metadata": {},
     "output_type": "execute_result"
    }
   ],
   "source": [
    "#2.1 get xy and x-squred term \n",
    "data.loc[:,\"x_sqr\"]=data.x*data.x\n",
    "data.loc[:,\"xy\"]=data.x*data.y\n",
    "data.head(3)"
   ]
  },
  {
   "cell_type": "code",
   "execution_count": 17,
   "metadata": {
    "collapsed": false
   },
   "outputs": [
    {
     "name": "stdout",
     "output_type": "stream",
     "text": [
      "w1 is : 5.25187988624\n"
     ]
    }
   ],
   "source": [
    "#2.2 Let's calculate w1. \n",
    "w1=(data.xy.sum()-data.y.sum()*data.x.sum()/len(data))/(data.x_sqr.sum()-data.x.sum()*data.x.sum()/len(data))\n",
    "print(\"w1 is : {}\".format(w1))"
   ]
  },
  {
   "cell_type": "code",
   "execution_count": 18,
   "metadata": {
    "collapsed": false
   },
   "outputs": [
    {
     "name": "stdout",
     "output_type": "stream",
     "text": [
      "w0 is : 9.0722367887\n"
     ]
    }
   ],
   "source": [
    "#2.3 let's calculate w0.\n",
    "w0=(data.y-data.x*w1).mean()\n",
    "print(\"w0 is : {}\".format(w0))"
   ]
  },
  {
   "cell_type": "code",
   "execution_count": 19,
   "metadata": {
    "collapsed": false
   },
   "outputs": [
    {
     "data": {
      "text/html": [
       "<div>\n",
       "<table border=\"1\" class=\"dataframe\">\n",
       "  <thead>\n",
       "    <tr style=\"text-align: right;\">\n",
       "      <th></th>\n",
       "      <th>x</th>\n",
       "      <th>y</th>\n",
       "      <th>x_sqr</th>\n",
       "      <th>xy</th>\n",
       "      <th>pred</th>\n",
       "      <th>err</th>\n",
       "    </tr>\n",
       "  </thead>\n",
       "  <tbody>\n",
       "    <tr>\n",
       "      <th>0</th>\n",
       "      <td>0.0</td>\n",
       "      <td>-7.497655</td>\n",
       "      <td>0.0</td>\n",
       "      <td>-0.000000</td>\n",
       "      <td>9.072237</td>\n",
       "      <td>-16.569892</td>\n",
       "    </tr>\n",
       "    <tr>\n",
       "      <th>1</th>\n",
       "      <td>1.0</td>\n",
       "      <td>18.426804</td>\n",
       "      <td>1.0</td>\n",
       "      <td>18.426804</td>\n",
       "      <td>14.324117</td>\n",
       "      <td>4.102687</td>\n",
       "    </tr>\n",
       "    <tr>\n",
       "      <th>2</th>\n",
       "      <td>2.0</td>\n",
       "      <td>31.530358</td>\n",
       "      <td>4.0</td>\n",
       "      <td>63.060716</td>\n",
       "      <td>19.575997</td>\n",
       "      <td>11.954361</td>\n",
       "    </tr>\n",
       "  </tbody>\n",
       "</table>\n",
       "</div>"
      ],
      "text/plain": [
       "     x          y  x_sqr         xy       pred        err\n",
       "0  0.0  -7.497655    0.0  -0.000000   9.072237 -16.569892\n",
       "1  1.0  18.426804    1.0  18.426804  14.324117   4.102687\n",
       "2  2.0  31.530358    4.0  63.060716  19.575997  11.954361"
      ]
     },
     "execution_count": 19,
     "metadata": {},
     "output_type": "execute_result"
    }
   ],
   "source": [
    "#2.4. Let's get predicted values and errors\n",
    "data.loc[:,\"pred\"]=w1*data.x+w0\n",
    "data.loc[:,\"err\"]=data.y-data.pred\n",
    "data.head(3)"
   ]
  },
  {
   "cell_type": "code",
   "execution_count": 20,
   "metadata": {
    "collapsed": false
   },
   "outputs": [
    {
     "data": {
      "text/plain": [
       "0.7637724875971592"
      ]
     },
     "execution_count": 20,
     "metadata": {},
     "output_type": "execute_result"
    }
   ],
   "source": [
    "#2.5. Calculate R-squared.\n",
    "R_2=1-(data.err**2).sum()/((data.y-data.y.mean())**2).sum()\n",
    "R_2"
   ]
  },
  {
   "cell_type": "markdown",
   "metadata": {
    "collapsed": true
   },
   "source": [
    "#### (3)Let's try package from statsmodels to double check our answer"
   ]
  },
  {
   "cell_type": "code",
   "execution_count": 21,
   "metadata": {
    "collapsed": true
   },
   "outputs": [],
   "source": [
    "lm = smf.ols(formula='y ~ x', data = data).fit()"
   ]
  },
  {
   "cell_type": "code",
   "execution_count": 22,
   "metadata": {
    "collapsed": false
   },
   "outputs": [
    {
     "name": "stdout",
     "output_type": "stream",
     "text": [
      "Intercept    9.072237\n",
      "x            5.251880\n",
      "dtype: float64\n",
      "0.763772487597\n"
     ]
    }
   ],
   "source": [
    "print lm.params\n",
    "print lm.rsquared"
   ]
  },
  {
   "cell_type": "code",
   "execution_count": 23,
   "metadata": {
    "collapsed": false
   },
   "outputs": [
    {
     "name": "stdout",
     "output_type": "stream",
     "text": [
      "                            OLS Regression Results                            \n",
      "==============================================================================\n",
      "Dep. Variable:                      y   R-squared:                       0.764\n",
      "Model:                            OLS   Adj. R-squared:                  0.734\n",
      "Method:                 Least Squares   F-statistic:                     25.87\n",
      "Date:                Thu, 15 Sep 2016   Prob (F-statistic):           0.000946\n",
      "Time:                        22:47:01   Log-Likelihood:                -35.459\n",
      "No. Observations:                  10   AIC:                             74.92\n",
      "Df Residuals:                       8   BIC:                             75.52\n",
      "Df Model:                           1                                         \n",
      "Covariance Type:            nonrobust                                         \n",
      "==============================================================================\n",
      "                 coef    std err          t      P>|t|      [95.0% Conf. Int.]\n",
      "------------------------------------------------------------------------------\n",
      "Intercept      9.0722      5.513      1.646      0.138        -3.640    21.785\n",
      "x              5.2519      1.033      5.086      0.001         2.871     7.633\n",
      "==============================================================================\n",
      "Omnibus:                        1.045   Durbin-Watson:                   1.617\n",
      "Prob(Omnibus):                  0.593   Jarque-Bera (JB):                0.630\n",
      "Skew:                          -0.560   Prob(JB):                        0.730\n",
      "Kurtosis:                       2.492   Cond. No.                         10.2\n",
      "==============================================================================\n",
      "\n",
      "Warnings:\n",
      "[1] Standard Errors assume that the covariance matrix of the errors is correctly specified.\n"
     ]
    },
    {
     "name": "stderr",
     "output_type": "stream",
     "text": [
      "/Users/IlanReinstein/anaconda/lib/python2.7/site-packages/scipy/stats/stats.py:1535: UserWarning: kurtosistest only valid for n>=20 ... continuing anyway, n=10\n",
      "  \"anyway, n=%i\" % int(n))\n"
     ]
    }
   ],
   "source": [
    "print lm.summary()"
   ]
  },
  {
   "cell_type": "code",
   "execution_count": null,
   "metadata": {
    "collapsed": true
   },
   "outputs": [],
   "source": []
  },
  {
   "cell_type": "code",
   "execution_count": 24,
   "metadata": {
    "collapsed": false
   },
   "outputs": [
    {
     "data": {
      "image/png": "[encoded data removed]",
      "text/plain": [
       "<matplotlib.figure.Figure at 0x116740310>"
      ]
     },
     "metadata": {},
     "output_type": "display_data"
    }
   ],
   "source": [
    "#7. Visulize the model\n",
    "import matplotlib.pylab as plt\n",
    "%matplotlib inline\n",
    "plt.figure(figsize=(8,8))\n",
    "plt.scatter(X,y)\n",
    "plt.plot(data.pred,c=\"r\")\n",
    "plt.show()"
   ]
  },
  {
   "cell_type": "code",
   "execution_count": null,
   "metadata": {
    "collapsed": true
   },
   "outputs": [],
   "source": []
  },
  {
   "cell_type": "markdown",
   "metadata": {},
   "source": [
    "### Excerise. Real-world example "
   ]
  },
  {
   "cell_type": "markdown",
   "metadata": {},
   "source": [
    "#### q1. Real Estate Prices in NYC"
   ]
  },
  {
   "cell_type": "markdown",
   "metadata": {},
   "source": [
    "This is the data on multi-apartment house sale prices in the zip code 10466 (Bronx). Let's see how sale price depends on the house size (besides other relevant parameters)"
   ]
  },
  {
   "cell_type": "code",
   "execution_count": 25,
   "metadata": {
    "collapsed": false
   },
   "outputs": [
    {
     "data": {
      "text/html": [
       "<div>\n",
       "<table border=\"1\" class=\"dataframe\">\n",
       "  <thead>\n",
       "    <tr style=\"text-align: right;\">\n",
       "      <th></th>\n",
       "      <th>gross_sq_feet</th>\n",
       "      <th>sale_price</th>\n",
       "    </tr>\n",
       "  </thead>\n",
       "  <tbody>\n",
       "    <tr>\n",
       "      <th>0</th>\n",
       "      <td>7745</td>\n",
       "      <td>700000.0</td>\n",
       "    </tr>\n",
       "    <tr>\n",
       "      <th>1</th>\n",
       "      <td>3700</td>\n",
       "      <td>335000.0</td>\n",
       "    </tr>\n",
       "    <tr>\n",
       "      <th>2</th>\n",
       "      <td>5250</td>\n",
       "      <td>510000.0</td>\n",
       "    </tr>\n",
       "    <tr>\n",
       "      <th>3</th>\n",
       "      <td>4082</td>\n",
       "      <td>285000.0</td>\n",
       "    </tr>\n",
       "    <tr>\n",
       "      <th>4</th>\n",
       "      <td>4082</td>\n",
       "      <td>198558.0</td>\n",
       "    </tr>\n",
       "  </tbody>\n",
       "</table>\n",
       "</div>"
      ],
      "text/plain": [
       "   gross_sq_feet  sale_price\n",
       "0           7745    700000.0\n",
       "1           3700    335000.0\n",
       "2           5250    510000.0\n",
       "3           4082    285000.0\n",
       "4           4082    198558.0"
      ]
     },
     "execution_count": 25,
     "metadata": {},
     "output_type": "execute_result"
    }
   ],
   "source": [
    "data_3=pd.read_csv(\"https://serv.cusp.nyu.edu/~lw1474/ADS_Data/data/NYC_RE_10466__multi.csv\",index_col=0)\n",
    "data_3.index=range(len(data_3))\n",
    "data_3.head()"
   ]
  },
  {
   "cell_type": "code",
   "execution_count": 26,
   "metadata": {
    "collapsed": false
   },
   "outputs": [
    {
     "data": {
      "text/html": [
       "<div>\n",
       "<table border=\"1\" class=\"dataframe\">\n",
       "  <thead>\n",
       "    <tr style=\"text-align: right;\">\n",
       "      <th></th>\n",
       "      <th>gross_sq_feet</th>\n",
       "      <th>sale_price</th>\n",
       "    </tr>\n",
       "  </thead>\n",
       "  <tbody>\n",
       "    <tr>\n",
       "      <th>count</th>\n",
       "      <td>136.000000</td>\n",
       "      <td>1.360000e+02</td>\n",
       "    </tr>\n",
       "    <tr>\n",
       "      <th>mean</th>\n",
       "      <td>19734.764706</td>\n",
       "      <td>1.889870e+06</td>\n",
       "    </tr>\n",
       "    <tr>\n",
       "      <th>std</th>\n",
       "      <td>22391.028099</td>\n",
       "      <td>2.081844e+06</td>\n",
       "    </tr>\n",
       "    <tr>\n",
       "      <th>min</th>\n",
       "      <td>1620.000000</td>\n",
       "      <td>1.325000e+05</td>\n",
       "    </tr>\n",
       "    <tr>\n",
       "      <th>25%</th>\n",
       "      <td>4080.250000</td>\n",
       "      <td>4.800000e+05</td>\n",
       "    </tr>\n",
       "    <tr>\n",
       "      <th>50%</th>\n",
       "      <td>6577.500000</td>\n",
       "      <td>6.612500e+05</td>\n",
       "    </tr>\n",
       "    <tr>\n",
       "      <th>75%</th>\n",
       "      <td>37027.500000</td>\n",
       "      <td>3.328860e+06</td>\n",
       "    </tr>\n",
       "    <tr>\n",
       "      <th>max</th>\n",
       "      <td>84340.000000</td>\n",
       "      <td>8.865379e+06</td>\n",
       "    </tr>\n",
       "  </tbody>\n",
       "</table>\n",
       "</div>"
      ],
      "text/plain": [
       "       gross_sq_feet    sale_price\n",
       "count     136.000000  1.360000e+02\n",
       "mean    19734.764706  1.889870e+06\n",
       "std     22391.028099  2.081844e+06\n",
       "min      1620.000000  1.325000e+05\n",
       "25%      4080.250000  4.800000e+05\n",
       "50%      6577.500000  6.612500e+05\n",
       "75%     37027.500000  3.328860e+06\n",
       "max     84340.000000  8.865379e+06"
      ]
     },
     "execution_count": 26,
     "metadata": {},
     "output_type": "execute_result"
    }
   ],
   "source": [
    "#Q0. What is the min/max of gross_sq_feet and sale_price?\n",
    "data_3.describe()"
   ]
  },
  {
   "cell_type": "code",
   "execution_count": 27,
   "metadata": {
    "collapsed": false
   },
   "outputs": [
    {
     "data": {
      "text/html": [
       "<div>\n",
       "<table border=\"1\" class=\"dataframe\">\n",
       "  <thead>\n",
       "    <tr style=\"text-align: right;\">\n",
       "      <th></th>\n",
       "      <th>gross_sq_feet</th>\n",
       "      <th>sale_price</th>\n",
       "    </tr>\n",
       "  </thead>\n",
       "  <tbody>\n",
       "    <tr>\n",
       "      <th>gross_sq_feet</th>\n",
       "      <td>1.000000</td>\n",
       "      <td>0.926478</td>\n",
       "    </tr>\n",
       "    <tr>\n",
       "      <th>sale_price</th>\n",
       "      <td>0.926478</td>\n",
       "      <td>1.000000</td>\n",
       "    </tr>\n",
       "  </tbody>\n",
       "</table>\n",
       "</div>"
      ],
      "text/plain": [
       "               gross_sq_feet  sale_price\n",
       "gross_sq_feet       1.000000    0.926478\n",
       "sale_price          0.926478    1.000000"
      ]
     },
     "execution_count": 27,
     "metadata": {},
     "output_type": "execute_result"
    }
   ],
   "source": [
    "#Q1. What is the correlation of gross_sq_feet and sale_price?\n",
    "data_3.corr()"
   ]
  },
  {
   "cell_type": "code",
   "execution_count": 28,
   "metadata": {
    "collapsed": false
   },
   "outputs": [
    {
     "data": {
      "text/plain": [
       "<matplotlib.collections.PathCollection at 0x11781c090>"
      ]
     },
     "execution_count": 28,
     "metadata": {},
     "output_type": "execute_result"
    },
    {
     "data": {
      "image/png": "[encoded data removed]",
      "text/plain": [
       "<matplotlib.figure.Figure at 0x117359350>"
      ]
     },
     "metadata": {},
     "output_type": "display_data"
    }
   ],
   "source": [
    "#Q2. Visulize the data set as points.\n",
    "plt.scatter(data_3.gross_sq_feet,data_3.sale_price)"
   ]
  },
  {
   "cell_type": "code",
   "execution_count": 29,
   "metadata": {
    "collapsed": true
   },
   "outputs": [],
   "source": [
    "#Change column names\n",
    "data_3.columns = ['x','y']"
   ]
  },
  {
   "cell_type": "code",
   "execution_count": 30,
   "metadata": {
    "collapsed": false
   },
   "outputs": [
    {
     "name": "stdout",
     "output_type": "stream",
     "text": [
      "(86.14086997824569, -354.92821862534163, 0.8499478621780844)\n"
     ]
    },
    {
     "data": {
      "text/html": [
       "<div>\n",
       "<table border=\"1\" class=\"dataframe\">\n",
       "  <thead>\n",
       "    <tr style=\"text-align: right;\">\n",
       "      <th></th>\n",
       "      <th>x</th>\n",
       "      <th>y</th>\n",
       "      <th>x_sq</th>\n",
       "      <th>xy</th>\n",
       "      <th>pred</th>\n",
       "      <th>err</th>\n",
       "    </tr>\n",
       "  </thead>\n",
       "  <tbody>\n",
       "    <tr>\n",
       "      <th>0</th>\n",
       "      <td>7745</td>\n",
       "      <td>700000.0</td>\n",
       "      <td>59985025</td>\n",
       "      <td>5.421500e+09</td>\n",
       "      <td>6.668061e+05</td>\n",
       "      <td>3.319389e+04</td>\n",
       "    </tr>\n",
       "    <tr>\n",
       "      <th>1</th>\n",
       "      <td>3700</td>\n",
       "      <td>335000.0</td>\n",
       "      <td>13690000</td>\n",
       "      <td>1.239500e+09</td>\n",
       "      <td>3.183663e+05</td>\n",
       "      <td>1.663371e+04</td>\n",
       "    </tr>\n",
       "    <tr>\n",
       "      <th>2</th>\n",
       "      <td>5250</td>\n",
       "      <td>510000.0</td>\n",
       "      <td>27562500</td>\n",
       "      <td>2.677500e+09</td>\n",
       "      <td>4.518846e+05</td>\n",
       "      <td>5.811536e+04</td>\n",
       "    </tr>\n",
       "    <tr>\n",
       "      <th>3</th>\n",
       "      <td>4082</td>\n",
       "      <td>285000.0</td>\n",
       "      <td>16662724</td>\n",
       "      <td>1.163370e+09</td>\n",
       "      <td>3.512721e+05</td>\n",
       "      <td>-6.627210e+04</td>\n",
       "    </tr>\n",
       "    <tr>\n",
       "      <th>4</th>\n",
       "      <td>4082</td>\n",
       "      <td>198558.0</td>\n",
       "      <td>16662724</td>\n",
       "      <td>8.105138e+08</td>\n",
       "      <td>3.512721e+05</td>\n",
       "      <td>-1.527141e+05</td>\n",
       "    </tr>\n",
       "    <tr>\n",
       "      <th>5</th>\n",
       "      <td>3150</td>\n",
       "      <td>367500.0</td>\n",
       "      <td>9922500</td>\n",
       "      <td>1.157625e+09</td>\n",
       "      <td>2.709888e+05</td>\n",
       "      <td>9.651119e+04</td>\n",
       "    </tr>\n",
       "    <tr>\n",
       "      <th>6</th>\n",
       "      <td>3544</td>\n",
       "      <td>400000.0</td>\n",
       "      <td>12559936</td>\n",
       "      <td>1.417600e+09</td>\n",
       "      <td>3.049283e+05</td>\n",
       "      <td>9.507169e+04</td>\n",
       "    </tr>\n",
       "    <tr>\n",
       "      <th>7</th>\n",
       "      <td>60200</td>\n",
       "      <td>5900000.0</td>\n",
       "      <td>3624040000</td>\n",
       "      <td>3.551800e+11</td>\n",
       "      <td>5.185325e+06</td>\n",
       "      <td>7.146746e+05</td>\n",
       "    </tr>\n",
       "    <tr>\n",
       "      <th>8</th>\n",
       "      <td>41972</td>\n",
       "      <td>3340441.0</td>\n",
       "      <td>1761648784</td>\n",
       "      <td>1.402050e+11</td>\n",
       "      <td>3.615150e+06</td>\n",
       "      <td>-2.747087e+05</td>\n",
       "    </tr>\n",
       "    <tr>\n",
       "      <th>9</th>\n",
       "      <td>26280</td>\n",
       "      <td>2012500.0</td>\n",
       "      <td>690638400</td>\n",
       "      <td>5.288850e+10</td>\n",
       "      <td>2.263427e+06</td>\n",
       "      <td>-2.509271e+05</td>\n",
       "    </tr>\n",
       "    <tr>\n",
       "      <th>10</th>\n",
       "      <td>42294</td>\n",
       "      <td>3022303.0</td>\n",
       "      <td>1788782436</td>\n",
       "      <td>1.278253e+11</td>\n",
       "      <td>3.642887e+06</td>\n",
       "      <td>-6.205840e+05</td>\n",
       "    </tr>\n",
       "    <tr>\n",
       "      <th>11</th>\n",
       "      <td>22554</td>\n",
       "      <td>2300000.0</td>\n",
       "      <td>508682916</td>\n",
       "      <td>5.187420e+10</td>\n",
       "      <td>1.942466e+06</td>\n",
       "      <td>3.575337e+05</td>\n",
       "    </tr>\n",
       "    <tr>\n",
       "      <th>12</th>\n",
       "      <td>68546</td>\n",
       "      <td>4851592.0</td>\n",
       "      <td>4698554116</td>\n",
       "      <td>3.325572e+11</td>\n",
       "      <td>5.904257e+06</td>\n",
       "      <td>-1.052665e+06</td>\n",
       "    </tr>\n",
       "    <tr>\n",
       "      <th>13</th>\n",
       "      <td>5376</td>\n",
       "      <td>580000.0</td>\n",
       "      <td>28901376</td>\n",
       "      <td>3.118080e+09</td>\n",
       "      <td>4.627384e+05</td>\n",
       "      <td>1.172616e+05</td>\n",
       "    </tr>\n",
       "    <tr>\n",
       "      <th>14</th>\n",
       "      <td>4725</td>\n",
       "      <td>325000.0</td>\n",
       "      <td>22325625</td>\n",
       "      <td>1.535625e+09</td>\n",
       "      <td>4.066607e+05</td>\n",
       "      <td>-8.166068e+04</td>\n",
       "    </tr>\n",
       "    <tr>\n",
       "      <th>15</th>\n",
       "      <td>7155</td>\n",
       "      <td>834502.0</td>\n",
       "      <td>51194025</td>\n",
       "      <td>5.970862e+09</td>\n",
       "      <td>6.159830e+05</td>\n",
       "      <td>2.185190e+05</td>\n",
       "    </tr>\n",
       "    <tr>\n",
       "      <th>16</th>\n",
       "      <td>5700</td>\n",
       "      <td>714354.0</td>\n",
       "      <td>32490000</td>\n",
       "      <td>4.071818e+09</td>\n",
       "      <td>4.906480e+05</td>\n",
       "      <td>2.237060e+05</td>\n",
       "    </tr>\n",
       "    <tr>\n",
       "      <th>17</th>\n",
       "      <td>84340</td>\n",
       "      <td>6225901.0</td>\n",
       "      <td>7113235600</td>\n",
       "      <td>5.250925e+11</td>\n",
       "      <td>7.264766e+06</td>\n",
       "      <td>-1.038865e+06</td>\n",
       "    </tr>\n",
       "    <tr>\n",
       "      <th>18</th>\n",
       "      <td>53601</td>\n",
       "      <td>3459742.0</td>\n",
       "      <td>2873067201</td>\n",
       "      <td>1.854456e+11</td>\n",
       "      <td>4.616882e+06</td>\n",
       "      <td>-1.157140e+06</td>\n",
       "    </tr>\n",
       "    <tr>\n",
       "      <th>19</th>\n",
       "      <td>66710</td>\n",
       "      <td>4135784.0</td>\n",
       "      <td>4450224100</td>\n",
       "      <td>2.758982e+11</td>\n",
       "      <td>5.746103e+06</td>\n",
       "      <td>-1.610319e+06</td>\n",
       "    </tr>\n",
       "    <tr>\n",
       "      <th>20</th>\n",
       "      <td>36916</td>\n",
       "      <td>3850000.0</td>\n",
       "      <td>1362791056</td>\n",
       "      <td>1.421266e+11</td>\n",
       "      <td>3.179621e+06</td>\n",
       "      <td>6.703786e+05</td>\n",
       "    </tr>\n",
       "    <tr>\n",
       "      <th>21</th>\n",
       "      <td>41460</td>\n",
       "      <td>5070000.0</td>\n",
       "      <td>1718931600</td>\n",
       "      <td>2.102022e+11</td>\n",
       "      <td>3.571046e+06</td>\n",
       "      <td>1.498954e+06</td>\n",
       "    </tr>\n",
       "    <tr>\n",
       "      <th>22</th>\n",
       "      <td>5451</td>\n",
       "      <td>570000.0</td>\n",
       "      <td>29713401</td>\n",
       "      <td>3.107070e+09</td>\n",
       "      <td>4.691990e+05</td>\n",
       "      <td>1.008010e+05</td>\n",
       "    </tr>\n",
       "    <tr>\n",
       "      <th>23</th>\n",
       "      <td>84340</td>\n",
       "      <td>8750000.0</td>\n",
       "      <td>7113235600</td>\n",
       "      <td>7.379750e+11</td>\n",
       "      <td>7.264766e+06</td>\n",
       "      <td>1.485234e+06</td>\n",
       "    </tr>\n",
       "    <tr>\n",
       "      <th>24</th>\n",
       "      <td>51354</td>\n",
       "      <td>3550000.0</td>\n",
       "      <td>2637233316</td>\n",
       "      <td>1.823067e+11</td>\n",
       "      <td>4.423323e+06</td>\n",
       "      <td>-8.733233e+05</td>\n",
       "    </tr>\n",
       "    <tr>\n",
       "      <th>25</th>\n",
       "      <td>60717</td>\n",
       "      <td>8865379.0</td>\n",
       "      <td>3686554089</td>\n",
       "      <td>5.382792e+11</td>\n",
       "      <td>5.229860e+06</td>\n",
       "      <td>3.635519e+06</td>\n",
       "    </tr>\n",
       "    <tr>\n",
       "      <th>26</th>\n",
       "      <td>27733</td>\n",
       "      <td>500000.0</td>\n",
       "      <td>769119289</td>\n",
       "      <td>1.386650e+10</td>\n",
       "      <td>2.388590e+06</td>\n",
       "      <td>-1.888590e+06</td>\n",
       "    </tr>\n",
       "    <tr>\n",
       "      <th>27</th>\n",
       "      <td>41972</td>\n",
       "      <td>4500000.0</td>\n",
       "      <td>1761648784</td>\n",
       "      <td>1.888740e+11</td>\n",
       "      <td>3.615150e+06</td>\n",
       "      <td>8.848503e+05</td>\n",
       "    </tr>\n",
       "    <tr>\n",
       "      <th>28</th>\n",
       "      <td>16475</td>\n",
       "      <td>1925000.0</td>\n",
       "      <td>271425625</td>\n",
       "      <td>3.171438e+10</td>\n",
       "      <td>1.418816e+06</td>\n",
       "      <td>5.061841e+05</td>\n",
       "    </tr>\n",
       "    <tr>\n",
       "      <th>29</th>\n",
       "      <td>36000</td>\n",
       "      <td>4600000.0</td>\n",
       "      <td>1296000000</td>\n",
       "      <td>1.656000e+11</td>\n",
       "      <td>3.100716e+06</td>\n",
       "      <td>1.499284e+06</td>\n",
       "    </tr>\n",
       "    <tr>\n",
       "      <th>...</th>\n",
       "      <td>...</td>\n",
       "      <td>...</td>\n",
       "      <td>...</td>\n",
       "      <td>...</td>\n",
       "      <td>...</td>\n",
       "      <td>...</td>\n",
       "    </tr>\n",
       "    <tr>\n",
       "      <th>106</th>\n",
       "      <td>36916</td>\n",
       "      <td>3325000.0</td>\n",
       "      <td>1362791056</td>\n",
       "      <td>1.227457e+11</td>\n",
       "      <td>3.179621e+06</td>\n",
       "      <td>1.453786e+05</td>\n",
       "    </tr>\n",
       "    <tr>\n",
       "      <th>107</th>\n",
       "      <td>46530</td>\n",
       "      <td>4225000.0</td>\n",
       "      <td>2165040900</td>\n",
       "      <td>1.965892e+11</td>\n",
       "      <td>4.007780e+06</td>\n",
       "      <td>2.172202e+05</td>\n",
       "    </tr>\n",
       "    <tr>\n",
       "      <th>108</th>\n",
       "      <td>18470</td>\n",
       "      <td>1250000.0</td>\n",
       "      <td>341140900</td>\n",
       "      <td>2.308750e+10</td>\n",
       "      <td>1.590667e+06</td>\n",
       "      <td>-3.406669e+05</td>\n",
       "    </tr>\n",
       "    <tr>\n",
       "      <th>109</th>\n",
       "      <td>11480</td>\n",
       "      <td>1687500.0</td>\n",
       "      <td>131790400</td>\n",
       "      <td>1.937250e+10</td>\n",
       "      <td>9.885423e+05</td>\n",
       "      <td>6.989577e+05</td>\n",
       "    </tr>\n",
       "    <tr>\n",
       "      <th>110</th>\n",
       "      <td>3276</td>\n",
       "      <td>400000.0</td>\n",
       "      <td>10732176</td>\n",
       "      <td>1.310400e+09</td>\n",
       "      <td>2.818426e+05</td>\n",
       "      <td>1.181574e+05</td>\n",
       "    </tr>\n",
       "    <tr>\n",
       "      <th>111</th>\n",
       "      <td>5160</td>\n",
       "      <td>380000.0</td>\n",
       "      <td>26625600</td>\n",
       "      <td>1.960800e+09</td>\n",
       "      <td>4.441320e+05</td>\n",
       "      <td>-6.413196e+04</td>\n",
       "    </tr>\n",
       "    <tr>\n",
       "      <th>112</th>\n",
       "      <td>42760</td>\n",
       "      <td>2500000.0</td>\n",
       "      <td>1828417600</td>\n",
       "      <td>1.069000e+11</td>\n",
       "      <td>3.683029e+06</td>\n",
       "      <td>-1.183029e+06</td>\n",
       "    </tr>\n",
       "    <tr>\n",
       "      <th>113</th>\n",
       "      <td>5100</td>\n",
       "      <td>770500.0</td>\n",
       "      <td>26010000</td>\n",
       "      <td>3.929550e+09</td>\n",
       "      <td>4.389635e+05</td>\n",
       "      <td>3.315365e+05</td>\n",
       "    </tr>\n",
       "    <tr>\n",
       "      <th>114</th>\n",
       "      <td>3822</td>\n",
       "      <td>480000.0</td>\n",
       "      <td>14607684</td>\n",
       "      <td>1.834560e+09</td>\n",
       "      <td>3.288755e+05</td>\n",
       "      <td>1.511245e+05</td>\n",
       "    </tr>\n",
       "    <tr>\n",
       "      <th>115</th>\n",
       "      <td>13135</td>\n",
       "      <td>1150000.0</td>\n",
       "      <td>172528225</td>\n",
       "      <td>1.510525e+10</td>\n",
       "      <td>1.131105e+06</td>\n",
       "      <td>1.889460e+04</td>\n",
       "    </tr>\n",
       "    <tr>\n",
       "      <th>116</th>\n",
       "      <td>4082</td>\n",
       "      <td>520000.0</td>\n",
       "      <td>16662724</td>\n",
       "      <td>2.122640e+09</td>\n",
       "      <td>3.512721e+05</td>\n",
       "      <td>1.687279e+05</td>\n",
       "    </tr>\n",
       "    <tr>\n",
       "      <th>117</th>\n",
       "      <td>6000</td>\n",
       "      <td>525000.0</td>\n",
       "      <td>36000000</td>\n",
       "      <td>3.150000e+09</td>\n",
       "      <td>5.164903e+05</td>\n",
       "      <td>8.509708e+03</td>\n",
       "    </tr>\n",
       "    <tr>\n",
       "      <th>118</th>\n",
       "      <td>3453</td>\n",
       "      <td>375500.0</td>\n",
       "      <td>11923209</td>\n",
       "      <td>1.296602e+09</td>\n",
       "      <td>2.970895e+05</td>\n",
       "      <td>7.841050e+04</td>\n",
       "    </tr>\n",
       "    <tr>\n",
       "      <th>119</th>\n",
       "      <td>3600</td>\n",
       "      <td>275000.0</td>\n",
       "      <td>12960000</td>\n",
       "      <td>9.900000e+08</td>\n",
       "      <td>3.097522e+05</td>\n",
       "      <td>-3.475220e+04</td>\n",
       "    </tr>\n",
       "    <tr>\n",
       "      <th>120</th>\n",
       "      <td>2772</td>\n",
       "      <td>475000.0</td>\n",
       "      <td>7683984</td>\n",
       "      <td>1.316700e+09</td>\n",
       "      <td>2.384276e+05</td>\n",
       "      <td>2.365724e+05</td>\n",
       "    </tr>\n",
       "    <tr>\n",
       "      <th>121</th>\n",
       "      <td>4075</td>\n",
       "      <td>425000.0</td>\n",
       "      <td>16605625</td>\n",
       "      <td>1.731875e+09</td>\n",
       "      <td>3.506691e+05</td>\n",
       "      <td>7.433088e+04</td>\n",
       "    </tr>\n",
       "    <tr>\n",
       "      <th>122</th>\n",
       "      <td>5544</td>\n",
       "      <td>520000.0</td>\n",
       "      <td>30735936</td>\n",
       "      <td>2.882880e+09</td>\n",
       "      <td>4.772101e+05</td>\n",
       "      <td>4.278995e+04</td>\n",
       "    </tr>\n",
       "    <tr>\n",
       "      <th>123</th>\n",
       "      <td>9104</td>\n",
       "      <td>1255000.0</td>\n",
       "      <td>82882816</td>\n",
       "      <td>1.142552e+10</td>\n",
       "      <td>7.838716e+05</td>\n",
       "      <td>4.711284e+05</td>\n",
       "    </tr>\n",
       "    <tr>\n",
       "      <th>124</th>\n",
       "      <td>3552</td>\n",
       "      <td>480000.0</td>\n",
       "      <td>12616704</td>\n",
       "      <td>1.704960e+09</td>\n",
       "      <td>3.056174e+05</td>\n",
       "      <td>1.743826e+05</td>\n",
       "    </tr>\n",
       "    <tr>\n",
       "      <th>125</th>\n",
       "      <td>3276</td>\n",
       "      <td>565000.0</td>\n",
       "      <td>10732176</td>\n",
       "      <td>1.850940e+09</td>\n",
       "      <td>2.818426e+05</td>\n",
       "      <td>2.831574e+05</td>\n",
       "    </tr>\n",
       "    <tr>\n",
       "      <th>126</th>\n",
       "      <td>5100</td>\n",
       "      <td>735000.0</td>\n",
       "      <td>26010000</td>\n",
       "      <td>3.748500e+09</td>\n",
       "      <td>4.389635e+05</td>\n",
       "      <td>2.960365e+05</td>\n",
       "    </tr>\n",
       "    <tr>\n",
       "      <th>127</th>\n",
       "      <td>2758</td>\n",
       "      <td>520000.0</td>\n",
       "      <td>7606564</td>\n",
       "      <td>1.434160e+09</td>\n",
       "      <td>2.372216e+05</td>\n",
       "      <td>2.827784e+05</td>\n",
       "    </tr>\n",
       "    <tr>\n",
       "      <th>128</th>\n",
       "      <td>3066</td>\n",
       "      <td>570000.0</td>\n",
       "      <td>9400356</td>\n",
       "      <td>1.747620e+09</td>\n",
       "      <td>2.637530e+05</td>\n",
       "      <td>3.062470e+05</td>\n",
       "    </tr>\n",
       "    <tr>\n",
       "      <th>129</th>\n",
       "      <td>4082</td>\n",
       "      <td>662500.0</td>\n",
       "      <td>16662724</td>\n",
       "      <td>2.704325e+09</td>\n",
       "      <td>3.512721e+05</td>\n",
       "      <td>3.112279e+05</td>\n",
       "    </tr>\n",
       "    <tr>\n",
       "      <th>130</th>\n",
       "      <td>3455</td>\n",
       "      <td>480000.0</td>\n",
       "      <td>11937025</td>\n",
       "      <td>1.658400e+09</td>\n",
       "      <td>2.972618e+05</td>\n",
       "      <td>1.827382e+05</td>\n",
       "    </tr>\n",
       "    <tr>\n",
       "      <th>131</th>\n",
       "      <td>2992</td>\n",
       "      <td>600000.0</td>\n",
       "      <td>8952064</td>\n",
       "      <td>1.795200e+09</td>\n",
       "      <td>2.573786e+05</td>\n",
       "      <td>3.426214e+05</td>\n",
       "    </tr>\n",
       "    <tr>\n",
       "      <th>132</th>\n",
       "      <td>3453</td>\n",
       "      <td>572000.0</td>\n",
       "      <td>11923209</td>\n",
       "      <td>1.975116e+09</td>\n",
       "      <td>2.970895e+05</td>\n",
       "      <td>2.749105e+05</td>\n",
       "    </tr>\n",
       "    <tr>\n",
       "      <th>133</th>\n",
       "      <td>20100</td>\n",
       "      <td>2025000.0</td>\n",
       "      <td>404010000</td>\n",
       "      <td>4.070250e+10</td>\n",
       "      <td>1.731077e+06</td>\n",
       "      <td>2.939234e+05</td>\n",
       "    </tr>\n",
       "    <tr>\n",
       "      <th>134</th>\n",
       "      <td>3150</td>\n",
       "      <td>574260.0</td>\n",
       "      <td>9922500</td>\n",
       "      <td>1.808919e+09</td>\n",
       "      <td>2.709888e+05</td>\n",
       "      <td>3.032712e+05</td>\n",
       "    </tr>\n",
       "    <tr>\n",
       "      <th>135</th>\n",
       "      <td>4254</td>\n",
       "      <td>190000.0</td>\n",
       "      <td>18096516</td>\n",
       "      <td>8.082600e+08</td>\n",
       "      <td>3.660883e+05</td>\n",
       "      <td>-1.760883e+05</td>\n",
       "    </tr>\n",
       "  </tbody>\n",
       "</table>\n",
       "<p>136 rows × 6 columns</p>\n",
       "</div>"
      ],
      "text/plain": [
       "         x          y        x_sq            xy          pred           err\n",
       "0     7745   700000.0    59985025  5.421500e+09  6.668061e+05  3.319389e+04\n",
       "1     3700   335000.0    13690000  1.239500e+09  3.183663e+05  1.663371e+04\n",
       "2     5250   510000.0    27562500  2.677500e+09  4.518846e+05  5.811536e+04\n",
       "3     4082   285000.0    16662724  1.163370e+09  3.512721e+05 -6.627210e+04\n",
       "4     4082   198558.0    16662724  8.105138e+08  3.512721e+05 -1.527141e+05\n",
       "5     3150   367500.0     9922500  1.157625e+09  2.709888e+05  9.651119e+04\n",
       "6     3544   400000.0    12559936  1.417600e+09  3.049283e+05  9.507169e+04\n",
       "7    60200  5900000.0  3624040000  3.551800e+11  5.185325e+06  7.146746e+05\n",
       "8    41972  3340441.0  1761648784  1.402050e+11  3.615150e+06 -2.747087e+05\n",
       "9    26280  2012500.0   690638400  5.288850e+10  2.263427e+06 -2.509271e+05\n",
       "10   42294  3022303.0  1788782436  1.278253e+11  3.642887e+06 -6.205840e+05\n",
       "11   22554  2300000.0   508682916  5.187420e+10  1.942466e+06  3.575337e+05\n",
       "12   68546  4851592.0  4698554116  3.325572e+11  5.904257e+06 -1.052665e+06\n",
       "13    5376   580000.0    28901376  3.118080e+09  4.627384e+05  1.172616e+05\n",
       "14    4725   325000.0    22325625  1.535625e+09  4.066607e+05 -8.166068e+04\n",
       "15    7155   834502.0    51194025  5.970862e+09  6.159830e+05  2.185190e+05\n",
       "16    5700   714354.0    32490000  4.071818e+09  4.906480e+05  2.237060e+05\n",
       "17   84340  6225901.0  7113235600  5.250925e+11  7.264766e+06 -1.038865e+06\n",
       "18   53601  3459742.0  2873067201  1.854456e+11  4.616882e+06 -1.157140e+06\n",
       "19   66710  4135784.0  4450224100  2.758982e+11  5.746103e+06 -1.610319e+06\n",
       "20   36916  3850000.0  1362791056  1.421266e+11  3.179621e+06  6.703786e+05\n",
       "21   41460  5070000.0  1718931600  2.102022e+11  3.571046e+06  1.498954e+06\n",
       "22    5451   570000.0    29713401  3.107070e+09  4.691990e+05  1.008010e+05\n",
       "23   84340  8750000.0  7113235600  7.379750e+11  7.264766e+06  1.485234e+06\n",
       "24   51354  3550000.0  2637233316  1.823067e+11  4.423323e+06 -8.733233e+05\n",
       "25   60717  8865379.0  3686554089  5.382792e+11  5.229860e+06  3.635519e+06\n",
       "26   27733   500000.0   769119289  1.386650e+10  2.388590e+06 -1.888590e+06\n",
       "27   41972  4500000.0  1761648784  1.888740e+11  3.615150e+06  8.848503e+05\n",
       "28   16475  1925000.0   271425625  3.171438e+10  1.418816e+06  5.061841e+05\n",
       "29   36000  4600000.0  1296000000  1.656000e+11  3.100716e+06  1.499284e+06\n",
       "..     ...        ...         ...           ...           ...           ...\n",
       "106  36916  3325000.0  1362791056  1.227457e+11  3.179621e+06  1.453786e+05\n",
       "107  46530  4225000.0  2165040900  1.965892e+11  4.007780e+06  2.172202e+05\n",
       "108  18470  1250000.0   341140900  2.308750e+10  1.590667e+06 -3.406669e+05\n",
       "109  11480  1687500.0   131790400  1.937250e+10  9.885423e+05  6.989577e+05\n",
       "110   3276   400000.0    10732176  1.310400e+09  2.818426e+05  1.181574e+05\n",
       "111   5160   380000.0    26625600  1.960800e+09  4.441320e+05 -6.413196e+04\n",
       "112  42760  2500000.0  1828417600  1.069000e+11  3.683029e+06 -1.183029e+06\n",
       "113   5100   770500.0    26010000  3.929550e+09  4.389635e+05  3.315365e+05\n",
       "114   3822   480000.0    14607684  1.834560e+09  3.288755e+05  1.511245e+05\n",
       "115  13135  1150000.0   172528225  1.510525e+10  1.131105e+06  1.889460e+04\n",
       "116   4082   520000.0    16662724  2.122640e+09  3.512721e+05  1.687279e+05\n",
       "117   6000   525000.0    36000000  3.150000e+09  5.164903e+05  8.509708e+03\n",
       "118   3453   375500.0    11923209  1.296602e+09  2.970895e+05  7.841050e+04\n",
       "119   3600   275000.0    12960000  9.900000e+08  3.097522e+05 -3.475220e+04\n",
       "120   2772   475000.0     7683984  1.316700e+09  2.384276e+05  2.365724e+05\n",
       "121   4075   425000.0    16605625  1.731875e+09  3.506691e+05  7.433088e+04\n",
       "122   5544   520000.0    30735936  2.882880e+09  4.772101e+05  4.278995e+04\n",
       "123   9104  1255000.0    82882816  1.142552e+10  7.838716e+05  4.711284e+05\n",
       "124   3552   480000.0    12616704  1.704960e+09  3.056174e+05  1.743826e+05\n",
       "125   3276   565000.0    10732176  1.850940e+09  2.818426e+05  2.831574e+05\n",
       "126   5100   735000.0    26010000  3.748500e+09  4.389635e+05  2.960365e+05\n",
       "127   2758   520000.0     7606564  1.434160e+09  2.372216e+05  2.827784e+05\n",
       "128   3066   570000.0     9400356  1.747620e+09  2.637530e+05  3.062470e+05\n",
       "129   4082   662500.0    16662724  2.704325e+09  3.512721e+05  3.112279e+05\n",
       "130   3455   480000.0    11937025  1.658400e+09  2.972618e+05  1.827382e+05\n",
       "131   2992   600000.0     8952064  1.795200e+09  2.573786e+05  3.426214e+05\n",
       "132   3453   572000.0    11923209  1.975116e+09  2.970895e+05  2.749105e+05\n",
       "133  20100  2025000.0   404010000  4.070250e+10  1.731077e+06  2.939234e+05\n",
       "134   3150   574260.0     9922500  1.808919e+09  2.709888e+05  3.032712e+05\n",
       "135   4254   190000.0    18096516  8.082600e+08  3.660883e+05 -1.760883e+05\n",
       "\n",
       "[136 rows x 6 columns]"
      ]
     },
     "execution_count": 30,
     "metadata": {},
     "output_type": "execute_result"
    }
   ],
   "source": [
    "#Q3. Get w1,w2 and R-squared.(Feel free to calculate by hand or use the package/any packages.)\n",
    "data_3.loc[:,'x_sq'] = data_3.x*data_3.x\n",
    "data_3.loc[:,'xy'] = data_3.x*data_3.y\n",
    "\n",
    "w1=(data_3.xy.sum()-data_3.y.sum()*data_3.x.sum()/len(data_3))/(data_3.x_sq.sum()-data_3.x.sum()*data_3.x.sum()/len(data_3))\n",
    "w0=(data.y-data.x*w1).mean()\n",
    "data_3.loc[:,\"pred\"]=w1*data_3.x+w0\n",
    "data_3.loc[:,\"err\"]=data_3.y-data_3.pred\n",
    "R2 = 1-(data_3.err**2).sum()/((data_3.y-data_3.y.mean())**2).sum()\n",
    "print(w1,w0,R2)\n"
   ]
  },
  {
   "cell_type": "code",
   "execution_count": 31,
   "metadata": {
    "collapsed": false
   },
   "outputs": [
    {
     "data": {
      "text/html": [
       "<div>\n",
       "<table border=\"1\" class=\"dataframe\">\n",
       "  <thead>\n",
       "    <tr style=\"text-align: right;\">\n",
       "      <th></th>\n",
       "      <th>x</th>\n",
       "      <th>y</th>\n",
       "      <th>x_sq</th>\n",
       "      <th>xy</th>\n",
       "      <th>pred</th>\n",
       "      <th>err</th>\n",
       "    </tr>\n",
       "  </thead>\n",
       "  <tbody>\n",
       "    <tr>\n",
       "      <th>x</th>\n",
       "      <td>1.000000e+00</td>\n",
       "      <td>0.926478</td>\n",
       "      <td>0.960975</td>\n",
       "      <td>0.923619</td>\n",
       "      <td>1.000000e+00</td>\n",
       "      <td>1.925539e-11</td>\n",
       "    </tr>\n",
       "    <tr>\n",
       "      <th>y</th>\n",
       "      <td>9.264780e-01</td>\n",
       "      <td>1.000000</td>\n",
       "      <td>0.884915</td>\n",
       "      <td>0.948178</td>\n",
       "      <td>9.264780e-01</td>\n",
       "      <td>3.763490e-01</td>\n",
       "    </tr>\n",
       "    <tr>\n",
       "      <th>x_sq</th>\n",
       "      <td>9.609745e-01</td>\n",
       "      <td>0.884915</td>\n",
       "      <td>1.000000</td>\n",
       "      <td>0.957423</td>\n",
       "      <td>9.609745e-01</td>\n",
       "      <td>-1.436519e-02</td>\n",
       "    </tr>\n",
       "    <tr>\n",
       "      <th>xy</th>\n",
       "      <td>9.236190e-01</td>\n",
       "      <td>0.948178</td>\n",
       "      <td>0.957423</td>\n",
       "      <td>1.000000</td>\n",
       "      <td>9.236190e-01</td>\n",
       "      <td>2.456905e-01</td>\n",
       "    </tr>\n",
       "    <tr>\n",
       "      <th>pred</th>\n",
       "      <td>1.000000e+00</td>\n",
       "      <td>0.926478</td>\n",
       "      <td>0.960975</td>\n",
       "      <td>0.923619</td>\n",
       "      <td>1.000000e+00</td>\n",
       "      <td>1.925542e-11</td>\n",
       "    </tr>\n",
       "    <tr>\n",
       "      <th>err</th>\n",
       "      <td>1.925539e-11</td>\n",
       "      <td>0.376349</td>\n",
       "      <td>-0.014365</td>\n",
       "      <td>0.245690</td>\n",
       "      <td>1.925542e-11</td>\n",
       "      <td>1.000000e+00</td>\n",
       "    </tr>\n",
       "  </tbody>\n",
       "</table>\n",
       "</div>"
      ],
      "text/plain": [
       "                 x         y      x_sq        xy          pred           err\n",
       "x     1.000000e+00  0.926478  0.960975  0.923619  1.000000e+00  1.925539e-11\n",
       "y     9.264780e-01  1.000000  0.884915  0.948178  9.264780e-01  3.763490e-01\n",
       "x_sq  9.609745e-01  0.884915  1.000000  0.957423  9.609745e-01 -1.436519e-02\n",
       "xy    9.236190e-01  0.948178  0.957423  1.000000  9.236190e-01  2.456905e-01\n",
       "pred  1.000000e+00  0.926478  0.960975  0.923619  1.000000e+00  1.925542e-11\n",
       "err   1.925539e-11  0.376349 -0.014365  0.245690  1.925542e-11  1.000000e+00"
      ]
     },
     "execution_count": 31,
     "metadata": {},
     "output_type": "execute_result"
    }
   ],
   "source": [
    "#Q4. write \"error\" and \"pred\" term into the datafram, and what is the correlation between error and gross_sq_feet\n",
    "data_3.corr()"
   ]
  },
  {
   "cell_type": "code",
   "execution_count": 32,
   "metadata": {
    "collapsed": false
   },
   "outputs": [
    {
     "data": {
      "image/png": "[encoded data removed]",
      "text/plain": [
       "<matplotlib.figure.Figure at 0x11725e3d0>"
      ]
     },
     "metadata": {},
     "output_type": "display_data"
    }
   ],
   "source": [
    "#Q5. Plot the predicted values and observations.\n",
    "import matplotlib.pylab as plt\n",
    "%matplotlib inline\n",
    "plt.figure(figsize=(8,8))\n",
    "plt.scatter(data_3.x,data_3.y)\n",
    "plt.plot(data_3.x,data_3.pred,c=\"r\")\n",
    "plt.show()"
   ]
  },
  {
   "cell_type": "code",
   "execution_count": 88,
   "metadata": {
    "collapsed": false
   },
   "outputs": [
    {
     "name": "stdout",
     "output_type": "stream",
     "text": [
      "                            OLS Regression Results                            \n",
      "==============================================================================\n",
      "Dep. Variable:                      y   R-squared:                       0.858\n",
      "Model:                            OLS   Adj. R-squared:                  0.857\n",
      "Method:                 Least Squares   F-statistic:                     812.1\n",
      "Date:                Thu, 15 Sep 2016   Prob (F-statistic):           9.99e-59\n",
      "Time:                        23:48:26   Log-Likelihood:                -2038.2\n",
      "No. Observations:                 136   AIC:                             4080.\n",
      "Df Residuals:                     134   BIC:                             4086.\n",
      "Df Model:                           1                                         \n",
      "Covariance Type:            nonrobust                                         \n",
      "==============================================================================\n",
      "                 coef    std err          t      P>|t|      [95.0% Conf. Int.]\n",
      "------------------------------------------------------------------------------\n",
      "Intercept   1.899e+05      9e+04      2.109      0.037      1.18e+04  3.68e+05\n",
      "x             86.1409      3.023     28.497      0.000        80.162    92.119\n",
      "==============================================================================\n",
      "Omnibus:                       32.516   Durbin-Watson:                   2.109\n",
      "Prob(Omnibus):                  0.000   Jarque-Bera (JB):              392.320\n",
      "Skew:                          -0.039   Prob(JB):                     6.44e-86\n",
      "Kurtosis:                      11.320   Cond. No.                     3.98e+04\n",
      "==============================================================================\n",
      "\n",
      "Warnings:\n",
      "[1] Standard Errors assume that the covariance matrix of the errors is correctly specified.\n",
      "[2] The condition number is large, 3.98e+04. This might indicate that there are\n",
      "strong multicollinearity or other numerical problems.\n"
     ]
    }
   ],
   "source": [
    "#To confirm our previous hand-calculated results, we use the built-in linear model and compare results.\n",
    "lm = smf.ols(formula='y ~ x', data = data_3).fit()\n",
    "print lm.summary()"
   ]
  },
  {
   "cell_type": "code",
   "execution_count": 80,
   "metadata": {
    "collapsed": false
   },
   "outputs": [
    {
     "name": "stdout",
     "output_type": "stream",
     "text": [
      "Intercept    189900.25823\n",
      "x                86.14087\n",
      "dtype: float64\n",
      "0.858361460655\n"
     ]
    }
   ],
   "source": [
    "\n"
   ]
  },
  {
   "cell_type": "code",
   "execution_count": 82,
   "metadata": {
    "collapsed": false
   },
   "outputs": [
    {
     "name": "stdout",
     "output_type": "stream",
     "text": [
      "                            OLS Regression Results                            \n",
      "==============================================================================\n",
      "Dep. Variable:                      y   R-squared:                       0.858\n",
      "Model:                            OLS   Adj. R-squared:                  0.857\n",
      "Method:                 Least Squares   F-statistic:                     812.1\n",
      "Date:                Thu, 15 Sep 2016   Prob (F-statistic):           9.99e-59\n",
      "Time:                        23:38:51   Log-Likelihood:                -2038.2\n",
      "No. Observations:                 136   AIC:                             4080.\n",
      "Df Residuals:                     134   BIC:                             4086.\n",
      "Df Model:                           1                                         \n",
      "Covariance Type:            nonrobust                                         \n",
      "==============================================================================\n",
      "                 coef    std err          t      P>|t|      [95.0% Conf. Int.]\n",
      "------------------------------------------------------------------------------\n",
      "Intercept   1.899e+05      9e+04      2.109      0.037      1.18e+04  3.68e+05\n",
      "x             86.1409      3.023     28.497      0.000        80.162    92.119\n",
      "==============================================================================\n",
      "Omnibus:                       32.516   Durbin-Watson:                   2.109\n",
      "Prob(Omnibus):                  0.000   Jarque-Bera (JB):              392.320\n",
      "Skew:                          -0.039   Prob(JB):                     6.44e-86\n",
      "Kurtosis:                      11.320   Cond. No.                     3.98e+04\n",
      "==============================================================================\n",
      "\n",
      "Warnings:\n",
      "[1] Standard Errors assume that the covariance matrix of the errors is correctly specified.\n",
      "[2] The condition number is large, 3.98e+04. This might indicate that there are\n",
      "strong multicollinearity or other numerical problems.\n"
     ]
    }
   ],
   "source": []
  },
  {
   "cell_type": "markdown",
   "metadata": {},
   "source": [
    "#### q2. Example 2.  (The data set includes total population, and earning per capita for most cities in US.  We want to explore \"Total earning ~ Population\")"
   ]
  },
  {
   "cell_type": "code",
   "execution_count": 33,
   "metadata": {
    "collapsed": false
   },
   "outputs": [],
   "source": [
    "data_4=pd.read_csv(\"https://serv.cusp.nyu.edu/~lw1474/ADS_Data/Session02/population_earning.csv\")"
   ]
  },
  {
   "cell_type": "code",
   "execution_count": 34,
   "metadata": {
    "collapsed": false
   },
   "outputs": [
    {
     "data": {
      "text/html": [
       "<div>\n",
       "<table border=\"1\" class=\"dataframe\">\n",
       "  <thead>\n",
       "    <tr style=\"text-align: right;\">\n",
       "      <th></th>\n",
       "      <th>city</th>\n",
       "      <th>Population</th>\n",
       "      <th>Earning_per_capita</th>\n",
       "    </tr>\n",
       "  </thead>\n",
       "  <tbody>\n",
       "    <tr>\n",
       "      <th>0</th>\n",
       "      <td>Aaronsburg</td>\n",
       "      <td>1267.0</td>\n",
       "      <td>19563.0</td>\n",
       "    </tr>\n",
       "    <tr>\n",
       "      <th>1</th>\n",
       "      <td>Abbeville</td>\n",
       "      <td>53422.0</td>\n",
       "      <td>18485.6</td>\n",
       "    </tr>\n",
       "    <tr>\n",
       "      <th>2</th>\n",
       "      <td>Abbot</td>\n",
       "      <td>717.0</td>\n",
       "      <td>23897.0</td>\n",
       "    </tr>\n",
       "    <tr>\n",
       "      <th>3</th>\n",
       "      <td>Abbotsford</td>\n",
       "      <td>2884.0</td>\n",
       "      <td>23461.0</td>\n",
       "    </tr>\n",
       "    <tr>\n",
       "      <th>4</th>\n",
       "      <td>Abbott</td>\n",
       "      <td>1145.0</td>\n",
       "      <td>26713.0</td>\n",
       "    </tr>\n",
       "  </tbody>\n",
       "</table>\n",
       "</div>"
      ],
      "text/plain": [
       "         city  Population  Earning_per_capita\n",
       "0  Aaronsburg      1267.0             19563.0\n",
       "1   Abbeville     53422.0             18485.6\n",
       "2       Abbot       717.0             23897.0\n",
       "3  Abbotsford      2884.0             23461.0\n",
       "4      Abbott      1145.0             26713.0"
      ]
     },
     "execution_count": 34,
     "metadata": {},
     "output_type": "execute_result"
    }
   ],
   "source": [
    "data_4.head()"
   ]
  },
  {
   "cell_type": "code",
   "execution_count": 35,
   "metadata": {
    "collapsed": false
   },
   "outputs": [
    {
     "data": {
      "text/html": [
       "<div>\n",
       "<table border=\"1\" class=\"dataframe\">\n",
       "  <thead>\n",
       "    <tr style=\"text-align: right;\">\n",
       "      <th></th>\n",
       "      <th>Population</th>\n",
       "      <th>Earning_per_capita</th>\n",
       "    </tr>\n",
       "  </thead>\n",
       "  <tbody>\n",
       "    <tr>\n",
       "      <th>count</th>\n",
       "      <td>1.722500e+04</td>\n",
       "      <td>17225.000000</td>\n",
       "    </tr>\n",
       "    <tr>\n",
       "      <th>mean</th>\n",
       "      <td>1.844530e+04</td>\n",
       "      <td>26075.115473</td>\n",
       "    </tr>\n",
       "    <tr>\n",
       "      <th>std</th>\n",
       "      <td>7.837758e+04</td>\n",
       "      <td>11044.535384</td>\n",
       "    </tr>\n",
       "    <tr>\n",
       "      <th>min</th>\n",
       "      <td>7.000000e+00</td>\n",
       "      <td>409.000000</td>\n",
       "    </tr>\n",
       "    <tr>\n",
       "      <th>25%</th>\n",
       "      <td>7.520000e+02</td>\n",
       "      <td>20168.000000</td>\n",
       "    </tr>\n",
       "    <tr>\n",
       "      <th>50%</th>\n",
       "      <td>2.699000e+03</td>\n",
       "      <td>24152.000000</td>\n",
       "    </tr>\n",
       "    <tr>\n",
       "      <th>75%</th>\n",
       "      <td>1.111400e+04</td>\n",
       "      <td>29375.000000</td>\n",
       "    </tr>\n",
       "    <tr>\n",
       "      <th>max</th>\n",
       "      <td>3.042954e+06</td>\n",
       "      <td>392835.000000</td>\n",
       "    </tr>\n",
       "  </tbody>\n",
       "</table>\n",
       "</div>"
      ],
      "text/plain": [
       "         Population  Earning_per_capita\n",
       "count  1.722500e+04        17225.000000\n",
       "mean   1.844530e+04        26075.115473\n",
       "std    7.837758e+04        11044.535384\n",
       "min    7.000000e+00          409.000000\n",
       "25%    7.520000e+02        20168.000000\n",
       "50%    2.699000e+03        24152.000000\n",
       "75%    1.111400e+04        29375.000000\n",
       "max    3.042954e+06       392835.000000"
      ]
     },
     "execution_count": 35,
     "metadata": {},
     "output_type": "execute_result"
    }
   ],
   "source": [
    "data_4.loc[:,[\"Population\",\"Earning_per_capita\"]].describe()"
   ]
  },
  {
   "cell_type": "code",
   "execution_count": 36,
   "metadata": {
    "collapsed": false
   },
   "outputs": [
    {
     "data": {
      "text/plain": [
       "(17225, 3)"
      ]
     },
     "execution_count": 36,
     "metadata": {},
     "output_type": "execute_result"
    }
   ],
   "source": [
    "#q1.How many observations do we have? (shape)\n",
    "data_4.shape"
   ]
  },
  {
   "cell_type": "code",
   "execution_count": 37,
   "metadata": {
    "collapsed": false
   },
   "outputs": [
    {
     "data": {
      "text/html": [
       "<div>\n",
       "<table border=\"1\" class=\"dataframe\">\n",
       "  <thead>\n",
       "    <tr style=\"text-align: right;\">\n",
       "      <th></th>\n",
       "      <th>city</th>\n",
       "      <th>Population</th>\n",
       "      <th>Earning_per_capita</th>\n",
       "    </tr>\n",
       "  </thead>\n",
       "  <tbody>\n",
       "    <tr>\n",
       "      <th>5727</th>\n",
       "      <td>Gibson Island</td>\n",
       "      <td>249.0</td>\n",
       "      <td>392835.0</td>\n",
       "    </tr>\n",
       "    <tr>\n",
       "      <th>10257</th>\n",
       "      <td>Mount Freedom</td>\n",
       "      <td>132.0</td>\n",
       "      <td>175155.0</td>\n",
       "    </tr>\n",
       "    <tr>\n",
       "      <th>6303</th>\n",
       "      <td>Gwynedd Valley</td>\n",
       "      <td>552.0</td>\n",
       "      <td>142569.0</td>\n",
       "    </tr>\n",
       "    <tr>\n",
       "      <th>600</th>\n",
       "      <td>Atherton</td>\n",
       "      <td>7230.0</td>\n",
       "      <td>142125.0</td>\n",
       "    </tr>\n",
       "    <tr>\n",
       "      <th>17136</th>\n",
       "      <td>Yellow Jacket</td>\n",
       "      <td>94.0</td>\n",
       "      <td>136143.0</td>\n",
       "    </tr>\n",
       "    <tr>\n",
       "      <th>14868</th>\n",
       "      <td>Strathmere</td>\n",
       "      <td>106.0</td>\n",
       "      <td>131424.0</td>\n",
       "    </tr>\n",
       "    <tr>\n",
       "      <th>12419</th>\n",
       "      <td>Portola Valley</td>\n",
       "      <td>6720.0</td>\n",
       "      <td>130451.0</td>\n",
       "    </tr>\n",
       "    <tr>\n",
       "      <th>14374</th>\n",
       "      <td>Solano</td>\n",
       "      <td>50.0</td>\n",
       "      <td>130324.0</td>\n",
       "    </tr>\n",
       "    <tr>\n",
       "      <th>9851</th>\n",
       "      <td>Mill Neck</td>\n",
       "      <td>745.0</td>\n",
       "      <td>127142.0</td>\n",
       "    </tr>\n",
       "    <tr>\n",
       "      <th>5986</th>\n",
       "      <td>Government Camp</td>\n",
       "      <td>81.0</td>\n",
       "      <td>123038.0</td>\n",
       "    </tr>\n",
       "  </tbody>\n",
       "</table>\n",
       "</div>"
      ],
      "text/plain": [
       "                  city  Population  Earning_per_capita\n",
       "5727     Gibson Island       249.0            392835.0\n",
       "10257    Mount Freedom       132.0            175155.0\n",
       "6303    Gwynedd Valley       552.0            142569.0\n",
       "600           Atherton      7230.0            142125.0\n",
       "17136    Yellow Jacket        94.0            136143.0\n",
       "14868       Strathmere       106.0            131424.0\n",
       "12419   Portola Valley      6720.0            130451.0\n",
       "14374           Solano        50.0            130324.0\n",
       "9851         Mill Neck       745.0            127142.0\n",
       "5986   Government Camp        81.0            123038.0"
      ]
     },
     "execution_count": 37,
     "metadata": {},
     "output_type": "execute_result"
    }
   ],
   "source": [
    "#q2. What are the top 10 biggest cities by population?\n",
    "data_4.sort_values('Earning_per_capita', ascending = False).head(10)"
   ]
  },
  {
   "cell_type": "code",
   "execution_count": null,
   "metadata": {
    "collapsed": false
   },
   "outputs": [],
   "source": []
  },
  {
   "cell_type": "markdown",
   "metadata": {
    "collapsed": false
   },
   "source": [
    "#### Prepare data for regression."
   ]
  },
  {
   "cell_type": "code",
   "execution_count": 38,
   "metadata": {
    "collapsed": true
   },
   "outputs": [],
   "source": [
    "#q3. Generate a new column \"Total_earning\"=\"Population\"*\"Earning_per_capita\" in the data frame.\n",
    "data_4.loc[:,'Total_earning'] = data_4['Population']*data_4['Earning_per_capita']"
   ]
  },
  {
   "cell_type": "code",
   "execution_count": 47,
   "metadata": {
    "collapsed": false
   },
   "outputs": [
    {
     "data": {
      "text/html": [
       "<div>\n",
       "<table border=\"1\" class=\"dataframe\">\n",
       "  <thead>\n",
       "    <tr style=\"text-align: right;\">\n",
       "      <th></th>\n",
       "      <th>city</th>\n",
       "      <th>Population</th>\n",
       "      <th>Earning_per_capita</th>\n",
       "      <th>Total_earning</th>\n",
       "      <th>xsq</th>\n",
       "      <th>xy</th>\n",
       "      <th>pred</th>\n",
       "      <th>error</th>\n",
       "    </tr>\n",
       "  </thead>\n",
       "  <tbody>\n",
       "    <tr>\n",
       "      <th>0</th>\n",
       "      <td>Aaronsburg</td>\n",
       "      <td>1267.0</td>\n",
       "      <td>19563.000000</td>\n",
       "      <td>2.478632e+07</td>\n",
       "      <td>1.605289e+06</td>\n",
       "      <td>3.140427e+10</td>\n",
       "      <td>5.211138e+08</td>\n",
       "      <td>4.963275e+08</td>\n",
       "    </tr>\n",
       "    <tr>\n",
       "      <th>1</th>\n",
       "      <td>Abbeville</td>\n",
       "      <td>53422.0</td>\n",
       "      <td>18485.600000</td>\n",
       "      <td>9.875377e+08</td>\n",
       "      <td>2.853910e+09</td>\n",
       "      <td>5.275624e+13</td>\n",
       "      <td>5.211138e+08</td>\n",
       "      <td>-4.664239e+08</td>\n",
       "    </tr>\n",
       "    <tr>\n",
       "      <th>2</th>\n",
       "      <td>Abbot</td>\n",
       "      <td>717.0</td>\n",
       "      <td>23897.000000</td>\n",
       "      <td>1.713415e+07</td>\n",
       "      <td>5.140890e+05</td>\n",
       "      <td>1.228518e+10</td>\n",
       "      <td>5.211138e+08</td>\n",
       "      <td>5.039797e+08</td>\n",
       "    </tr>\n",
       "    <tr>\n",
       "      <th>3</th>\n",
       "      <td>Abbotsford</td>\n",
       "      <td>2884.0</td>\n",
       "      <td>23461.000000</td>\n",
       "      <td>6.766152e+07</td>\n",
       "      <td>8.317456e+06</td>\n",
       "      <td>1.951358e+11</td>\n",
       "      <td>5.211138e+08</td>\n",
       "      <td>4.534523e+08</td>\n",
       "    </tr>\n",
       "    <tr>\n",
       "      <th>4</th>\n",
       "      <td>Abbott</td>\n",
       "      <td>1145.0</td>\n",
       "      <td>26713.000000</td>\n",
       "      <td>3.058638e+07</td>\n",
       "      <td>1.311025e+06</td>\n",
       "      <td>3.502141e+10</td>\n",
       "      <td>5.211138e+08</td>\n",
       "      <td>4.905274e+08</td>\n",
       "    </tr>\n",
       "    <tr>\n",
       "      <th>5</th>\n",
       "      <td>Abbottstown</td>\n",
       "      <td>3870.0</td>\n",
       "      <td>24971.000000</td>\n",
       "      <td>9.663777e+07</td>\n",
       "      <td>1.497690e+07</td>\n",
       "      <td>3.739882e+11</td>\n",
       "      <td>5.211138e+08</td>\n",
       "      <td>4.244760e+08</td>\n",
       "    </tr>\n",
       "    <tr>\n",
       "      <th>6</th>\n",
       "      <td>Abbyville</td>\n",
       "      <td>352.0</td>\n",
       "      <td>27010.000000</td>\n",
       "      <td>9.507520e+06</td>\n",
       "      <td>1.239040e+05</td>\n",
       "      <td>3.346647e+09</td>\n",
       "      <td>5.211138e+08</td>\n",
       "      <td>5.116063e+08</td>\n",
       "    </tr>\n",
       "    <tr>\n",
       "      <th>7</th>\n",
       "      <td>Abell</td>\n",
       "      <td>408.0</td>\n",
       "      <td>24547.000000</td>\n",
       "      <td>1.001518e+07</td>\n",
       "      <td>1.664640e+05</td>\n",
       "      <td>4.086192e+09</td>\n",
       "      <td>5.211138e+08</td>\n",
       "      <td>5.110986e+08</td>\n",
       "    </tr>\n",
       "    <tr>\n",
       "      <th>8</th>\n",
       "      <td>Abercrombie</td>\n",
       "      <td>78.0</td>\n",
       "      <td>39835.000000</td>\n",
       "      <td>3.107130e+06</td>\n",
       "      <td>6.084000e+03</td>\n",
       "      <td>2.423561e+08</td>\n",
       "      <td>5.211138e+08</td>\n",
       "      <td>5.180067e+08</td>\n",
       "    </tr>\n",
       "    <tr>\n",
       "      <th>9</th>\n",
       "      <td>Aberdeen</td>\n",
       "      <td>106992.0</td>\n",
       "      <td>21432.857143</td>\n",
       "      <td>2.293144e+09</td>\n",
       "      <td>1.144729e+10</td>\n",
       "      <td>2.453481e+14</td>\n",
       "      <td>5.211138e+08</td>\n",
       "      <td>-1.772030e+09</td>\n",
       "    </tr>\n",
       "  </tbody>\n",
       "</table>\n",
       "</div>"
      ],
      "text/plain": [
       "          city  Population  Earning_per_capita  Total_earning           xsq  \\\n",
       "0   Aaronsburg      1267.0        19563.000000   2.478632e+07  1.605289e+06   \n",
       "1    Abbeville     53422.0        18485.600000   9.875377e+08  2.853910e+09   \n",
       "2        Abbot       717.0        23897.000000   1.713415e+07  5.140890e+05   \n",
       "3   Abbotsford      2884.0        23461.000000   6.766152e+07  8.317456e+06   \n",
       "4       Abbott      1145.0        26713.000000   3.058638e+07  1.311025e+06   \n",
       "5  Abbottstown      3870.0        24971.000000   9.663777e+07  1.497690e+07   \n",
       "6    Abbyville       352.0        27010.000000   9.507520e+06  1.239040e+05   \n",
       "7        Abell       408.0        24547.000000   1.001518e+07  1.664640e+05   \n",
       "8  Abercrombie        78.0        39835.000000   3.107130e+06  6.084000e+03   \n",
       "9     Aberdeen    106992.0        21432.857143   2.293144e+09  1.144729e+10   \n",
       "\n",
       "             xy          pred         error  \n",
       "0  3.140427e+10  5.211138e+08  4.963275e+08  \n",
       "1  5.275624e+13  5.211138e+08 -4.664239e+08  \n",
       "2  1.228518e+10  5.211138e+08  5.039797e+08  \n",
       "3  1.951358e+11  5.211138e+08  4.534523e+08  \n",
       "4  3.502141e+10  5.211138e+08  4.905274e+08  \n",
       "5  3.739882e+11  5.211138e+08  4.244760e+08  \n",
       "6  3.346647e+09  5.211138e+08  5.116063e+08  \n",
       "7  4.086192e+09  5.211138e+08  5.110986e+08  \n",
       "8  2.423561e+08  5.211138e+08  5.180067e+08  \n",
       "9  2.453481e+14  5.211138e+08 -1.772030e+09  "
      ]
     },
     "execution_count": 47,
     "metadata": {},
     "output_type": "execute_result"
    }
   ],
   "source": [
    "#q4. Rank data_4 by population and take the top 6-105 cities.  Save this 100 cities data as data_5.\n",
    "data_5 = data_4.sort_values('Population',ascending = False)[5:105]\n",
    "len(data_5)\n"
   ]
  },
  {
   "cell_type": "code",
   "execution_count": 40,
   "metadata": {
    "collapsed": false
   },
   "outputs": [
    {
     "data": {
      "image/png": "[encoded data removed]",
      "text/plain": [
       "<matplotlib.figure.Figure at 0x1179b95d0>"
      ]
     },
     "metadata": {},
     "output_type": "display_data"
    }
   ],
   "source": [
    "# q5. Visulize the data. (Population, Total_earning) \n",
    "import matplotlib.pylab as plt\n",
    "%matplotlib inline\n",
    "plt.figure(figsize=(8,8))\n",
    "plt.scatter(data_4.Population,data_4.Total_earning)\n",
    "plt.show()\n"
   ]
  },
  {
   "cell_type": "markdown",
   "metadata": {},
   "source": [
    "#### Linear regression"
   ]
  },
  {
   "cell_type": "code",
   "execution_count": 53,
   "metadata": {
    "collapsed": false
   },
   "outputs": [
    {
     "name": "stdout",
     "output_type": "stream",
     "text": [
      "30257.0354484 -36986224.8792\n",
      "0.91388860157\n"
     ]
    },
    {
     "data": {
      "image/png": "[encoded data removed]",
      "text/plain": [
       "<matplotlib.figure.Figure at 0x102dabd50>"
      ]
     },
     "metadata": {},
     "output_type": "display_data"
    }
   ],
   "source": [
    "# q6. Linear Model: Total_earning=w1*Population+w0  and get w1,w0 and R-squared. And plot the result.\n",
    "data_4.head(10)\n",
    "data_4.loc[:,'xsq'] = data_4.Population**2\n",
    "data_4.loc[:,'xy'] = data_4.Population * data_4.Total_earning\n",
    "\n",
    "w1 = (data_4.xy.sum() - data_4.Population.sum()*data_4.Total_earning.sum()/len(data_4))/(data_4.xsq.sum()-data_4.Population.sum()*data_4.Population.sum()/len(data_4))\n",
    "w0 = (data_4.Total_earning-w1*data_4.Population).mean()\n",
    "print w1,w0\n",
    "\n",
    "\n",
    "data_4.loc[:,'pred'] = w1*data_4.Population + w0\n",
    "data_4.loc[:,'error'] = data_4.pred - data_4.Total_earning\n",
    "R2 = 1 - (data_4.error**2).sum()/((data_4.Total_earning - data_4.Total_earning.mean())**2).sum()\n",
    "print R2\n",
    "\n",
    "\n",
    "import matplotlib.pylab as plt\n",
    "%matplotlib inline\n",
    "plt.figure(figsize=(8,8))\n",
    "plt.scatter(data_4.Population,data_4.Total_earning)\n",
    "plt.plot(data_4.Population,data_4.pred,c='r')\n",
    "plt.show()\n",
    "\n",
    "\n"
   ]
  },
  {
   "cell_type": "code",
   "execution_count": 84,
   "metadata": {
    "collapsed": false
   },
   "outputs": [
    {
     "name": "stdout",
     "output_type": "stream",
     "text": [
      "                            OLS Regression Results                            \n",
      "==============================================================================\n",
      "Dep. Variable:          Total_earning   R-squared:                       0.914\n",
      "Model:                            OLS   Adj. R-squared:                  0.914\n",
      "Method:                 Least Squares   F-statistic:                 1.828e+05\n",
      "Date:                Thu, 15 Sep 2016   Prob (F-statistic):               0.00\n",
      "Time:                        23:43:52   Log-Likelihood:            -3.7593e+05\n",
      "No. Observations:               17225   AIC:                         7.519e+05\n",
      "Df Residuals:                   17223   BIC:                         7.519e+05\n",
      "Df Model:                           1                                         \n",
      "Covariance Type:            nonrobust                                         \n",
      "==============================================================================\n",
      "                 coef    std err          t      P>|t|      [95.0% Conf. Int.]\n",
      "------------------------------------------------------------------------------\n",
      "Intercept  -3.699e+07    5.7e+06     -6.491      0.000     -4.82e+07 -2.58e+07\n",
      "Population  3.026e+04     70.771    427.534      0.000      3.01e+04  3.04e+04\n",
      "==============================================================================\n",
      "Omnibus:                    57468.469   Durbin-Watson:                   2.028\n",
      "Prob(Omnibus):                  0.000   Jarque-Bera (JB):      23490319728.475\n",
      "Skew:                          58.620   Prob(JB):                         0.00\n",
      "Kurtosis:                    5722.779   Cond. No.                     8.27e+04\n",
      "==============================================================================\n",
      "\n",
      "Warnings:\n",
      "[1] Standard Errors assume that the covariance matrix of the errors is correctly specified.\n",
      "[2] The condition number is large, 8.27e+04. This might indicate that there are\n",
      "strong multicollinearity or other numerical problems.\n"
     ]
    }
   ],
   "source": [
    "#To confirm our previous hand-calculated results, we use the built-in linear model and compare results.\n",
    "lm1 = smf.ols(formula = 'Total_earning ~ Population', data = data_4).fit()\n",
    "print lm1.summary()"
   ]
  },
  {
   "cell_type": "markdown",
   "metadata": {
    "collapsed": true
   },
   "source": [
    "#### Log Scale matters. Let's model this:  $y=w_0*x^{w_1}$ or $lny=w_1*lnx+lnw_0$"
   ]
  },
  {
   "cell_type": "code",
   "execution_count": 54,
   "metadata": {
    "collapsed": false
   },
   "outputs": [
    {
     "data": {
      "text/html": [
       "<div>\n",
       "<table border=\"1\" class=\"dataframe\">\n",
       "  <thead>\n",
       "    <tr style=\"text-align: right;\">\n",
       "      <th></th>\n",
       "      <th>city</th>\n",
       "      <th>Population</th>\n",
       "      <th>Earning_per_capita</th>\n",
       "      <th>Total_earning</th>\n",
       "      <th>xsq</th>\n",
       "      <th>xy</th>\n",
       "      <th>pred</th>\n",
       "      <th>error</th>\n",
       "      <th>log_pop</th>\n",
       "      <th>log_total</th>\n",
       "    </tr>\n",
       "  </thead>\n",
       "  <tbody>\n",
       "    <tr>\n",
       "      <th>13599</th>\n",
       "      <td>San Antonio</td>\n",
       "      <td>1665478.0</td>\n",
       "      <td>25250.000000</td>\n",
       "      <td>4.205332e+10</td>\n",
       "      <td>2.773817e+12</td>\n",
       "      <td>7.003888e+16</td>\n",
       "      <td>5.211140e+08</td>\n",
       "      <td>-4.153221e+10</td>\n",
       "      <td>14.325623</td>\n",
       "      <td>24.462204</td>\n",
       "    </tr>\n",
       "    <tr>\n",
       "      <th>10767</th>\n",
       "      <td>New York</td>\n",
       "      <td>1608966.0</td>\n",
       "      <td>75086.044444</td>\n",
       "      <td>1.208109e+11</td>\n",
       "      <td>2.588772e+12</td>\n",
       "      <td>1.943806e+17</td>\n",
       "      <td>5.211140e+08</td>\n",
       "      <td>-1.202898e+11</td>\n",
       "      <td>14.291102</td>\n",
       "      <td>25.517492</td>\n",
       "    </tr>\n",
       "    <tr>\n",
       "      <th>12000</th>\n",
       "      <td>Philadelphia</td>\n",
       "      <td>1581957.0</td>\n",
       "      <td>26438.666667</td>\n",
       "      <td>4.182483e+10</td>\n",
       "      <td>2.502588e+12</td>\n",
       "      <td>6.616509e+16</td>\n",
       "      <td>5.211140e+08</td>\n",
       "      <td>-4.130372e+10</td>\n",
       "      <td>14.274173</td>\n",
       "      <td>24.456756</td>\n",
       "    </tr>\n",
       "    <tr>\n",
       "      <th>8338</th>\n",
       "      <td>Las Vegas</td>\n",
       "      <td>1471662.0</td>\n",
       "      <td>27822.000000</td>\n",
       "      <td>4.094458e+10</td>\n",
       "      <td>2.165789e+12</td>\n",
       "      <td>6.025658e+16</td>\n",
       "      <td>5.211139e+08</td>\n",
       "      <td>-4.042347e+10</td>\n",
       "      <td>14.201903</td>\n",
       "      <td>24.435485</td>\n",
       "    </tr>\n",
       "    <tr>\n",
       "      <th>3644</th>\n",
       "      <td>Dallas</td>\n",
       "      <td>1451105.0</td>\n",
       "      <td>31640.946429</td>\n",
       "      <td>4.591434e+10</td>\n",
       "      <td>2.105706e+12</td>\n",
       "      <td>6.662652e+16</td>\n",
       "      <td>5.211139e+08</td>\n",
       "      <td>-4.539322e+10</td>\n",
       "      <td>14.187836</td>\n",
       "      <td>24.550043</td>\n",
       "    </tr>\n",
       "  </tbody>\n",
       "</table>\n",
       "</div>"
      ],
      "text/plain": [
       "               city  Population  Earning_per_capita  Total_earning  \\\n",
       "13599   San Antonio   1665478.0        25250.000000   4.205332e+10   \n",
       "10767      New York   1608966.0        75086.044444   1.208109e+11   \n",
       "12000  Philadelphia   1581957.0        26438.666667   4.182483e+10   \n",
       "8338      Las Vegas   1471662.0        27822.000000   4.094458e+10   \n",
       "3644         Dallas   1451105.0        31640.946429   4.591434e+10   \n",
       "\n",
       "                xsq            xy          pred         error    log_pop  \\\n",
       "13599  2.773817e+12  7.003888e+16  5.211140e+08 -4.153221e+10  14.325623   \n",
       "10767  2.588772e+12  1.943806e+17  5.211140e+08 -1.202898e+11  14.291102   \n",
       "12000  2.502588e+12  6.616509e+16  5.211140e+08 -4.130372e+10  14.274173   \n",
       "8338   2.165789e+12  6.025658e+16  5.211139e+08 -4.042347e+10  14.201903   \n",
       "3644   2.105706e+12  6.662652e+16  5.211139e+08 -4.539322e+10  14.187836   \n",
       "\n",
       "       log_total  \n",
       "13599  24.462204  \n",
       "10767  25.517492  \n",
       "12000  24.456756  \n",
       "8338   24.435485  \n",
       "3644   24.550043  "
      ]
     },
     "execution_count": 54,
     "metadata": {},
     "output_type": "execute_result"
    }
   ],
   "source": [
    "#q7. generate two new columns: log_Population and log_Total_earning in data_5 using np.log() function.\n",
    "data_5.loc[:,'log_pop'] = np.log(data_4.Population)\n",
    "data_5.loc[:,'log_total'] = np.log(data_4.Total_earning)\n",
    "data_5.head(5)"
   ]
  },
  {
   "cell_type": "code",
   "execution_count": 71,
   "metadata": {
    "collapsed": false
   },
   "outputs": [
    {
     "name": "stdout",
     "output_type": "stream",
     "text": [
      "8.35529249291 1.14069117302 0.837189229567\n"
     ]
    },
    {
     "data": {
      "image/png": "[encoded data removed]",
      "text/plain": [
       "<matplotlib.figure.Figure at 0x1188972d0>"
      ]
     },
     "metadata": {},
     "output_type": "display_data"
    }
   ],
   "source": [
    "#q8. Estimate the linear model on the log scale data. Get w1, and plot the result.\n",
    "data_5.loc[:,'log_xy'] = data_5.log_pop*data_5.log_total\n",
    "data_5.loc[:,'log_xsq'] = data_5.log_pop**2\n",
    "\n",
    "w1 = (data_5.log_xy.mean() - data_5.log_pop.mean()*data_5.log_total.mean())/(data_5.log_xsq.mean()-data_5.log_pop.mean()**2)\n",
    "w0 = data_5.log_total.mean() - w1*data_5.log_pop.mean()\n",
    "data_5.loc[:,'log_pred'] = w1*data_5.log_pop + w0\n",
    "data_5.loc[:,'log_error'] = data_5.log_pred - data_5.log_total\n",
    "R2 = 1 - (data_5.log_error**2).sum()/((data_5.log_total - data_5.log_total.mean())**2).sum()\n",
    "\n",
    "print w0,w1,R2\n",
    "\n",
    "import matplotlib.pylab as plt\n",
    "%matplotlib inline\n",
    "plt.figure(figsize = (8,8))\n",
    "plt.scatter(data_5.log_pop,data_5.log_total)\n",
    "plt.plot(data_5.log_pop, data_5.log_pred,c='r')\n",
    "plt.show()\n",
    "\n",
    "\n"
   ]
  },
  {
   "cell_type": "markdown",
   "metadata": {},
   "source": [
    "### What does w1 you get mean? "
   ]
  },
  {
   "cell_type": "code",
   "execution_count": null,
   "metadata": {
    "collapsed": true
   },
   "outputs": [],
   "source": [
    "#w1 menas the exponent of the power law model. \n",
    "#In agreement with the lecture and other examples and excercises, the value is close to 1.15"
   ]
  },
  {
   "cell_type": "code",
   "execution_count": 87,
   "metadata": {
    "collapsed": false
   },
   "outputs": [
    {
     "name": "stdout",
     "output_type": "stream",
     "text": [
      "                            OLS Regression Results                            \n",
      "==============================================================================\n",
      "Dep. Variable:              log_total   R-squared:                       0.837\n",
      "Model:                            OLS   Adj. R-squared:                  0.836\n",
      "Method:                 Least Squares   F-statistic:                     503.9\n",
      "Date:                Thu, 15 Sep 2016   Prob (F-statistic):           2.07e-40\n",
      "Time:                        23:46:21   Log-Likelihood:                 15.824\n",
      "No. Observations:                 100   AIC:                            -27.65\n",
      "Df Residuals:                      98   BIC:                            -22.44\n",
      "Df Model:                           1                                         \n",
      "Covariance Type:            nonrobust                                         \n",
      "==============================================================================\n",
      "                 coef    std err          t      P>|t|      [95.0% Conf. Int.]\n",
      "------------------------------------------------------------------------------\n",
      "Intercept      8.3553      0.679     12.302      0.000         7.008     9.703\n",
      "log_pop        1.1407      0.051     22.448      0.000         1.040     1.242\n",
      "==============================================================================\n",
      "Omnibus:                       20.465   Durbin-Watson:                   2.081\n",
      "Prob(Omnibus):                  0.000   Jarque-Bera (JB):               50.681\n",
      "Skew:                           0.687   Prob(JB):                     9.88e-12\n",
      "Kurtosis:                       6.206   Cond. No.                         437.\n",
      "==============================================================================\n",
      "\n",
      "Warnings:\n",
      "[1] Standard Errors assume that the covariance matrix of the errors is correctly specified.\n"
     ]
    }
   ],
   "source": [
    "#To confirm our previous hand-calculated results, we use the built-in linear model and compare results.\n",
    "lm2 = smf.ols(formula = 'log_total ~ log_pop', data = data_5).fit()\n",
    "print lm2.summary()"
   ]
  },
  {
   "cell_type": "code",
   "execution_count": null,
   "metadata": {
    "collapsed": true
   },
   "outputs": [],
   "source": []
  },
  {
   "cell_type": "markdown",
   "metadata": {
    "collapsed": true
   },
   "source": [
    "## Additional Exercise (If we have time, we will see this example on a special artificial data set) As usual, we want to explore:  y~x. If we do not have time, please do it at home."
   ]
  },
  {
   "cell_type": "code",
   "execution_count": 73,
   "metadata": {
    "collapsed": false
   },
   "outputs": [],
   "source": [
    "x=range(30)"
   ]
  },
  {
   "cell_type": "code",
   "execution_count": 74,
   "metadata": {
    "collapsed": false
   },
   "outputs": [],
   "source": [
    "y=[10.510002888546763,12.763363507489128,227.31000343834808,22.859913338863414,\n",
    " 29.791177713218744,34.083946028994752,36.500469053890605,45.870326976245785,\n",
    " 51.345441611419325,251.73761940797698,62.306071605127286,265.55676014854777,\n",
    " 283.6155612514533,76.962641573902459,79.496241721573568,86.028437682788763,\n",
    " 88.937439246296179,94.495127926957224,103.23796332135052,107.05946537026669,\n",
    " 110.4423593384428,114.62100833835365,118.31512852349741,123.83280989935467,\n",
    "130.3690373811279,344.37082201108956,143.08321034902681,145.68536080665501,\n",
    " 149.2372875459116,156.63369414337157]"
   ]
  },
  {
   "cell_type": "code",
   "execution_count": 75,
   "metadata": {
    "collapsed": true
   },
   "outputs": [],
   "source": [
    "#Question: y=w1*x+w0. Model it and analyze your result. What is your w1 and R-squared? Plot the result with data points.Do you find any problem?"
   ]
  },
  {
   "cell_type": "code",
   "execution_count": 95,
   "metadata": {
    "collapsed": false
   },
   "outputs": [
    {
     "data": {
      "text/html": [
       "<div>\n",
       "<table border=\"1\" class=\"dataframe\">\n",
       "  <thead>\n",
       "    <tr style=\"text-align: right;\">\n",
       "      <th></th>\n",
       "      <th>x</th>\n",
       "      <th>y</th>\n",
       "    </tr>\n",
       "  </thead>\n",
       "  <tbody>\n",
       "    <tr>\n",
       "      <th>0</th>\n",
       "      <td>0.0</td>\n",
       "      <td>10.510003</td>\n",
       "    </tr>\n",
       "    <tr>\n",
       "      <th>1</th>\n",
       "      <td>1.0</td>\n",
       "      <td>12.763364</td>\n",
       "    </tr>\n",
       "    <tr>\n",
       "      <th>2</th>\n",
       "      <td>2.0</td>\n",
       "      <td>227.310003</td>\n",
       "    </tr>\n",
       "    <tr>\n",
       "      <th>3</th>\n",
       "      <td>3.0</td>\n",
       "      <td>22.859913</td>\n",
       "    </tr>\n",
       "    <tr>\n",
       "      <th>4</th>\n",
       "      <td>4.0</td>\n",
       "      <td>29.791178</td>\n",
       "    </tr>\n",
       "  </tbody>\n",
       "</table>\n",
       "</div>"
      ],
      "text/plain": [
       "     x           y\n",
       "0  0.0   10.510003\n",
       "1  1.0   12.763364\n",
       "2  2.0  227.310003\n",
       "3  3.0   22.859913\n",
       "4  4.0   29.791178"
      ]
     },
     "execution_count": 95,
     "metadata": {},
     "output_type": "execute_result"
    }
   ],
   "source": [
    "df = pd.DataFrame([list(x),list(y)]).T\n",
    "df.columns = ['x','y']\n"
   ]
  },
  {
   "cell_type": "code",
   "execution_count": 97,
   "metadata": {
    "collapsed": false
   },
   "outputs": [
    {
     "data": {
      "text/html": [
       "<div>\n",
       "<table border=\"1\" class=\"dataframe\">\n",
       "  <thead>\n",
       "    <tr style=\"text-align: right;\">\n",
       "      <th></th>\n",
       "      <th>x</th>\n",
       "      <th>y</th>\n",
       "      <th>x_sq</th>\n",
       "      <th>xy</th>\n",
       "    </tr>\n",
       "  </thead>\n",
       "  <tbody>\n",
       "    <tr>\n",
       "      <th>0</th>\n",
       "      <td>0.0</td>\n",
       "      <td>10.510003</td>\n",
       "      <td>0.0</td>\n",
       "      <td>0.000000</td>\n",
       "    </tr>\n",
       "    <tr>\n",
       "      <th>1</th>\n",
       "      <td>1.0</td>\n",
       "      <td>12.763364</td>\n",
       "      <td>1.0</td>\n",
       "      <td>12.763364</td>\n",
       "    </tr>\n",
       "    <tr>\n",
       "      <th>2</th>\n",
       "      <td>2.0</td>\n",
       "      <td>227.310003</td>\n",
       "      <td>4.0</td>\n",
       "      <td>454.620007</td>\n",
       "    </tr>\n",
       "    <tr>\n",
       "      <th>3</th>\n",
       "      <td>3.0</td>\n",
       "      <td>22.859913</td>\n",
       "      <td>9.0</td>\n",
       "      <td>68.579740</td>\n",
       "    </tr>\n",
       "    <tr>\n",
       "      <th>4</th>\n",
       "      <td>4.0</td>\n",
       "      <td>29.791178</td>\n",
       "      <td>16.0</td>\n",
       "      <td>119.164711</td>\n",
       "    </tr>\n",
       "  </tbody>\n",
       "</table>\n",
       "</div>"
      ],
      "text/plain": [
       "     x           y  x_sq          xy\n",
       "0  0.0   10.510003   0.0    0.000000\n",
       "1  1.0   12.763364   1.0   12.763364\n",
       "2  2.0  227.310003   4.0  454.620007\n",
       "3  3.0   22.859913   9.0   68.579740\n",
       "4  4.0   29.791178  16.0  119.164711"
      ]
     },
     "execution_count": 97,
     "metadata": {},
     "output_type": "execute_result"
    }
   ],
   "source": [
    "df['x_sq'] = df.x*df.x\n",
    "df['xy'] = df.y*df.x\n",
    "df.head()"
   ]
  },
  {
   "cell_type": "code",
   "execution_count": 99,
   "metadata": {
    "collapsed": false
   },
   "outputs": [
    {
     "name": "stdout",
     "output_type": "stream",
     "text": [
      "61.1421120839 3.8455065049\n"
     ]
    }
   ],
   "source": [
    "#Linear parameters w0,w1\n",
    "w1 = (df.xy.mean()-df.y.mean()*df.x.mean())/(df.x_sq.mean()-df.x.mean()**2)\n",
    "w0 = df.y.mean()-w1*df.x.mean()\n",
    "\n",
    "print w0,w1"
   ]
  },
  {
   "cell_type": "code",
   "execution_count": 103,
   "metadata": {
    "collapsed": false
   },
   "outputs": [
    {
     "name": "stdout",
     "output_type": "stream",
     "text": [
      "0.161198739985\n"
     ]
    }
   ],
   "source": [
    "#Calculation of R-squared\n",
    "\n",
    "df['pred'] = w0 + w1*df.x\n",
    "df['error'] = df.pred - df.y\n",
    "R_sq = 1 - (df.error**2).sum()/((df.y - df.y.mean())**2).sum()\n",
    "print R_sq"
   ]
  },
  {
   "cell_type": "code",
   "execution_count": 110,
   "metadata": {
    "collapsed": false
   },
   "outputs": [
    {
     "name": "stdout",
     "output_type": "stream",
     "text": [
      "                            OLS Regression Results                            \n",
      "==============================================================================\n",
      "Dep. Variable:                      y   R-squared:                       0.161\n",
      "Model:                            OLS   Adj. R-squared:                  0.131\n",
      "Method:                 Least Squares   F-statistic:                     5.381\n",
      "Date:                Fri, 16 Sep 2016   Prob (F-statistic):             0.0279\n",
      "Time:                        09:48:38   Log-Likelihood:                -172.46\n",
      "No. Observations:                  30   AIC:                             348.9\n",
      "Df Residuals:                      28   BIC:                             351.7\n",
      "Df Model:                           1                                         \n",
      "Covariance Type:            nonrobust                                         \n",
      "==============================================================================\n",
      "                 coef    std err          t      P>|t|      [95.0% Conf. Int.]\n",
      "------------------------------------------------------------------------------\n",
      "Intercept     61.1421     27.994      2.184      0.037         3.798   118.486\n",
      "x              3.8455      1.658      2.320      0.028         0.450     7.241\n",
      "==============================================================================\n",
      "Omnibus:                       15.714   Durbin-Watson:                   1.934\n",
      "Prob(Omnibus):                  0.000   Jarque-Bera (JB):               16.816\n",
      "Skew:                           1.738   Prob(JB):                     0.000223\n",
      "Kurtosis:                       4.171   Cond. No.                         33.0\n",
      "==============================================================================\n",
      "\n",
      "Warnings:\n",
      "[1] Standard Errors assume that the covariance matrix of the errors is correctly specified.\n"
     ]
    }
   ],
   "source": [
    "lm = smf.ols(formula = 'y~x',data = df).fit()\n",
    "print lm.summary()\n"
   ]
  },
  {
   "cell_type": "code",
   "execution_count": 111,
   "metadata": {
    "collapsed": false
   },
   "outputs": [
    {
     "data": {
      "image/png": "[encoded data removed]",
      "text/plain": [
       "<matplotlib.figure.Figure at 0x118678d10>"
      ]
     },
     "metadata": {},
     "output_type": "display_data"
    }
   ],
   "source": [
    "#Plot results\n",
    "import matplotlib.pylab as plt\n",
    "%matplotlib inline\n",
    "plt.figure(figsize = (8,8))\n",
    "plt.scatter(data.x,data.y)\n",
    "plt.plot(data.x,data.pred,c='g')\n",
    "plt.show()"
   ]
  },
  {
   "cell_type": "markdown",
   "metadata": {},
   "source": [
    "#### * outliers (google those models to take a look). Just run the code to take a look.\n",
    "sklearn.linear_model.RANSACRegressor\n",
    "\n",
    "sklearn.linear_model.TheilSenRegressor"
   ]
  },
  {
   "cell_type": "code",
   "execution_count": 113,
   "metadata": {
    "collapsed": false
   },
   "outputs": [
    {
     "ename": "NameError",
     "evalue": "name 'data2' is not defined",
     "output_type": "error",
     "traceback": [
      "\u001b[0;31m---------------------------------------------------------------------------\u001b[0m",
      "\u001b[0;31mNameError\u001b[0m                                 Traceback (most recent call last)",
      "\u001b[0;32m<ipython-input-113-6283a063da5b>\u001b[0m in \u001b[0;36m<module>\u001b[0;34m()\u001b[0m\n\u001b[1;32m      1\u001b[0m \u001b[0;31m#  Use \"Ctrl+A\" to select all codes in this cell.\u001b[0m\u001b[0;34m\u001b[0m\u001b[0;34m\u001b[0m\u001b[0m\n\u001b[1;32m      2\u001b[0m \u001b[0;31m#  Use \"Ctrl+/\" to remove/add comments.\u001b[0m\u001b[0;34m\u001b[0m\u001b[0;34m\u001b[0m\u001b[0m\n\u001b[0;32m----> 3\u001b[0;31m \u001b[0mdf\u001b[0m \u001b[0;34m=\u001b[0m \u001b[0mdata2\u001b[0m\u001b[0;34m\u001b[0m\u001b[0m\n\u001b[0m\u001b[1;32m      4\u001b[0m \u001b[0;31m#Q6\u001b[0m\u001b[0;34m\u001b[0m\u001b[0;34m\u001b[0m\u001b[0m\n\u001b[1;32m      5\u001b[0m \u001b[0;32mfrom\u001b[0m \u001b[0msklearn\u001b[0m \u001b[0;32mimport\u001b[0m \u001b[0mlinear_model\u001b[0m\u001b[0;34m\u001b[0m\u001b[0m\n",
      "\u001b[0;31mNameError\u001b[0m: name 'data2' is not defined"
     ]
    }
   ],
   "source": [
    "#  Use \"Ctrl+A\" to select all codes in this cell.\n",
    "#  Use \"Ctrl+/\" to remove/add comments.\n",
    "\n",
    "#Q6\n",
    "from sklearn import linear_model\n",
    "#this step is important since the API of this model only take this shape of data\n",
    "X=np.asarray(data2.x).reshape(len(data2),1)\n",
    "y=np.asarray(data2.y)\n",
    "# Fit line using all data\n",
    "model = linear_model.LinearRegression()\n",
    "model.fit(X, y)\n",
    "\n",
    "# Robustly fit linear model with RANSAC algorithm\n",
    "model_ransac = linear_model.RANSACRegressor(linear_model.LinearRegression())\n",
    "model_ransac.fit(X, y)\n",
    "inlier_mask = model_ransac.inlier_mask_\n",
    "outlier_mask = np.logical_not(inlier_mask)\n",
    "\n",
    "# Predict data of estimated models\n",
    "line_X = np.arange(0, 30)\n",
    "line_y = model.predict(line_X[:, np.newaxis])\n",
    "line_y_ransac = model_ransac.predict(line_X[:, np.newaxis])\n",
    "\n",
    "# Compare estimated coefficients\n",
    "print(\"Estimated coefficients (true, normal, RANSAC):\")\n",
    "print(5, model.coef_, model_ransac.estimator_.coef_)\n",
    "\n",
    "plt.figure(figsize=(8,8))\n",
    "plt.plot(X[inlier_mask], y[inlier_mask], '.g', label='Inliers')\n",
    "plt.plot(X[outlier_mask], y[outlier_mask], '.r', label='Outliers')\n",
    "plt.plot(line_X, line_y, '-k', label='Linear regressor')\n",
    "plt.plot(line_X, line_y_ransac, '-b', label='RANSAC regressor')\n",
    "plt.legend(loc='lower right')\n",
    "plt.show()"
   ]
  },
  {
   "cell_type": "code",
   "execution_count": null,
   "metadata": {
    "collapsed": true
   },
   "outputs": [],
   "source": []
  }
 ],
 "metadata": {
  "anaconda-cloud": {},
  "kernelspec": {
   "display_name": "Python [Root]",
   "language": "python",
   "name": "Python [Root]"
  },
  "language_info": {
   "codemirror_mode": {
    "name": "ipython",
    "version": 2
   },
   "file_extension": ".py",
   "mimetype": "text/x-python",
   "name": "python",
   "nbconvert_exporter": "python",
   "pygments_lexer": "ipython2",
   "version": "2.7.12"
  }
 },
 "nbformat": 4,
 "nbformat_minor": 0
}
