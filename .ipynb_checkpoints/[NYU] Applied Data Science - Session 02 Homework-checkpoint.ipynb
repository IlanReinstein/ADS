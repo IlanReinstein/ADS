{
 "cells": [
  {
   "cell_type": "markdown",
   "metadata": {},
   "source": [
    "# Question (1): (10pt)\n",
    "\n",
    "Suppose that the independent variable $x$ has n observations: $(x_1,x_2,...x_n)$ and the dependent variable $y$ has corresponding observations: $(y_1, y_2,...,y_n)$. If the correlation between these two sequences $corr(x,y)=0.01$, which of the following statements are true? Please select all the right answers.\n",
    "\n",
    "(a) There should be no strong relation between $x$ and $y$.\n",
    "\n",
    "(b) There could be some strong linear relationship between $x$ and $y$.\n",
    "\n",
    "(c) If we build a linear regression between $y$ and $x$ as $y=wx$, we could conclude that the OLS estimation for $w$ should be around 0.01.\n",
    "\n",
    "(d) Certain relation between $x$ and $y$ could still exist, but it should be non-linear."
   ]
  },
  {
   "cell_type": "markdown",
   "metadata": {},
   "source": [
    "### Answer\n",
    "(a), (c) and (d) we don't know."
   ]
  },
  {
   "cell_type": "markdown",
   "metadata": {},
   "source": [
    "### Question (2): (10pt)\n",
    "\n"
   ]
  },
  {
   "cell_type": "markdown",
   "metadata": {},
   "source": [
    "Consider a model\n",
    "\n",
    "$y=x^{b}$ where $b>0$. \n",
    "\n",
    "Now, suppose x doubles (originally $x>0$). How would y change with respect to this change of x? Let us denote new $y$ as $y'$. Please select all the right answers from below. \n",
    "\n",
    "(a) $y'>2y$ if b is bigger than one.\n",
    "\n",
    "(b) $y'<2y$ if b is less than one.\n",
    "\n",
    "(c) $y'=2y$ in any case.\n",
    "\n",
    "(d) $y'$ increases by $(2^b-1)*100\\%$."
   ]
  },
  {
   "cell_type": "markdown",
   "metadata": {
    "collapsed": true
   },
   "source": [
    "### Answer\n",
    "\n",
    "(a), (b) and (d)\n",
    "\n",
    "$$\\frac{y'}{y} = \\frac{(2x)^b}{x^b}$$\n",
    "\n",
    "$$\\frac{y'}{y} - 1 = \\frac{(2x)^b}{x^b} - 1$$\n",
    "\n",
    "$$\\frac{y'-y}{y} = \\frac{(2x)^b-x^b}{x^b}$$\n",
    "\n",
    "$$\\frac{y'-y}{y} = \\frac{(x^b)*(2^b-1)}{x^b}$$\n",
    "\n",
    "$$\\frac{y'-y}{y} = (2^b-1)*100\\%$$"
   ]
  },
  {
   "cell_type": "code",
   "execution_count": 8,
   "metadata": {
    "collapsed": false
   },
   "outputs": [],
   "source": [
    "import pandas as pd\n",
    "import numpy as np\n",
    "import statsmodels.formula.api as smf\n",
    "import matplotlib.pylab as plt\n",
    "%matplotlib inline"
   ]
  },
  {
   "cell_type": "markdown",
   "metadata": {},
   "source": [
    "### Question (3): (30 pt)\n"
   ]
  },
  {
   "cell_type": "code",
   "execution_count": 2,
   "metadata": {
    "collapsed": true
   },
   "outputs": [],
   "source": [
    "x=[0, 1, 2, 3, 4, 5, 6, 7, 8, 9, 10, 11, 12, 13, 14, 15, 16, 17, 18, 19]"
   ]
  },
  {
   "cell_type": "code",
   "execution_count": 3,
   "metadata": {
    "collapsed": true
   },
   "outputs": [],
   "source": [
    "y=[28.0, 24.0, 37.0, -7.0, 28.0, 71.0, 89.0, 60.0, 100.0, 108.0, 116.0, \n",
    "   110.0, 114.0, 123.0, 124.0, 165.0, 169.0, 211.0, 211.0, 208.0]"
   ]
  },
  {
   "cell_type": "markdown",
   "metadata": {},
   "source": [
    "#### (a) Calculate corr(x,y) without using a build-in function for the correlation coefficient."
   ]
  },
  {
   "cell_type": "markdown",
   "metadata": {},
   "source": [
    "#### (b) Estimate linear model $y=w_1*x+w_0$ using OLS formulas and without using build-in functions for the linear regression. What is  $w_1$ and $w_0$? What is $R^2$?"
   ]
  },
  {
   "cell_type": "markdown",
   "metadata": {},
   "source": [
    "#### (c) Use regression function to double check your answer making sure that your calculation is correct. "
   ]
  },
  {
   "cell_type": "code",
   "execution_count": 4,
   "metadata": {
    "collapsed": false
   },
   "outputs": [
    {
     "data": {
      "text/html": [
       "<div>\n",
       "<table border=\"1\" class=\"dataframe\">\n",
       "  <thead>\n",
       "    <tr style=\"text-align: right;\">\n",
       "      <th></th>\n",
       "      <th>x</th>\n",
       "      <th>y</th>\n",
       "    </tr>\n",
       "  </thead>\n",
       "  <tbody>\n",
       "    <tr>\n",
       "      <th>x</th>\n",
       "      <td>1.000000</td>\n",
       "      <td>0.957143</td>\n",
       "    </tr>\n",
       "    <tr>\n",
       "      <th>y</th>\n",
       "      <td>0.957143</td>\n",
       "      <td>1.000000</td>\n",
       "    </tr>\n",
       "  </tbody>\n",
       "</table>\n",
       "</div>"
      ],
      "text/plain": [
       "          x         y\n",
       "x  1.000000  0.957143\n",
       "y  0.957143  1.000000"
      ]
     },
     "execution_count": 4,
     "metadata": {},
     "output_type": "execute_result"
    }
   ],
   "source": [
    "# (a) Calculate corr(x,y) without using a built-in function for the correlation coefficient.\n",
    "\n",
    "data = pd.DataFrame([list(x),list(y)]).T\n",
    "data.columns = [\"x\",\"y\"]\n",
    "data.corr() # to compare coeff later"
   ]
  },
  {
   "cell_type": "markdown",
   "metadata": {},
   "source": [
    "Sample correlation coefficient formula\n",
    "\n",
    "${\\displaystyle r_{xy}={\\frac {\\sum x_{i}y_{i}-n{\\bar {x}}{\\bar {y}}}{ns_{x}s_{y}}}={\\frac {n\\sum x_{i}y_{i}-\\sum x_{i}\\sum y_{i}}{{\\sqrt {n\\sum x_{i}^{2}-(\\sum x_{i})^{2}}}~{\\sqrt {n\\sum y_{i}^{2}-(\\sum y_{i})^{2}}}}}.}$"
   ]
  },
  {
   "cell_type": "code",
   "execution_count": 5,
   "metadata": {
    "collapsed": false
   },
   "outputs": [
    {
     "name": "stdout",
     "output_type": "stream",
     "text": [
      "Pearson correlation coefficient is : 0.957143492915\n"
     ]
    }
   ],
   "source": [
    "data.loc[:,\"xy\"] = data.x*data.y\n",
    "data.loc[:,\"x_sqr\"] = data.x*data.x\n",
    "data.loc[:,\"y_sqr\"] = data.y*data.y\n",
    "\n",
    "correlation_coefficient = (len(data)*data.xy.sum()-\n",
    "                           data.x.sum()*data.y.sum())/((len(data)*data.x_sqr.sum()-\n",
    "                                                        (data.x.sum())**2)**(0.5)*(len(data)*data.y_sqr.sum()-\n",
    "                                                                                   (data.y.sum())**2)**(0.5))\n",
    "\n",
    "print \"Pearson correlation coefficient is : {}\".format(correlation_coefficient)"
   ]
  },
  {
   "cell_type": "code",
   "execution_count": 6,
   "metadata": {
    "collapsed": false
   },
   "outputs": [
    {
     "name": "stdout",
     "output_type": "stream",
     "text": [
      "w1 is : 10.5466165414\n",
      "w0 is : 4.25714285714\n",
      "R_sqr is : 0.91612366603\n"
     ]
    }
   ],
   "source": [
    "# (b) Estimate linear model y=w1âx+w0 using OLS formulas and without using build-in functions for \n",
    "# the linear regression. What is w1 and w0? What is R2?\n",
    "\n",
    "w1=(data.xy.sum()-data.y.sum()*data.x.sum()/len(data))/(data.x_sqr.sum()-data.x.sum()*data.x.sum()/len(data))\n",
    "\n",
    "w0=(data.y-data.x*w1).mean()\n",
    "\n",
    "data.loc[:,\"pred\"]=w1*data.x+w0\n",
    "data.loc[:,\"err\"]=data.y-data.pred\n",
    "\n",
    "R_sqr=1-(data.err**2).sum()/((data.y-data.y.mean())**2).sum()\n",
    "\n",
    "print(\"w1 is : {}\".format(w1))\n",
    "print(\"w0 is : {}\".format(w0))\n",
    "print(\"R_sqr is : {}\".format(R_sqr))"
   ]
  },
  {
   "cell_type": "markdown",
   "metadata": {},
   "source": [
    "Coefficient formula by OLS\n",
    "$$\n",
    "\\left\\{\\begin{array}{c}\\hat{w}_1=\\frac{\\sum\\limits_i x_i y_i-\\left(\\sum\\limits_i y_i\\right)\\left(\\sum\\limits_i x_i\\right)/N}{\\sum\\limits_i (x_i)^2-\\left(\\sum\\limits_i x_i\\right)^2/N}\\\\\n",
    "\\hat{w}_0=\\frac{\\sum\\limits_i y_i-\\hat{w}_1\\left(\\sum\\limits_i x_i\\right)}{N}\\end{array}\\right.\n",
    "$$"
   ]
  },
  {
   "cell_type": "code",
   "execution_count": 7,
   "metadata": {
    "collapsed": false
   },
   "outputs": [
    {
     "name": "stdout",
     "output_type": "stream",
     "text": [
      "w1 and w0 values are : \n",
      "Intercept     4.257143\n",
      "x            10.546617\n",
      "dtype: float64\n",
      "\n",
      "R_sqr is : 0.91612366603\n"
     ]
    }
   ],
   "source": [
    "# (c) Use regression function to double check your answer making sure that your calculation is correct. \n",
    "\n",
    "lm = smf.ols(formula='y ~ x', data = data).fit()\n",
    "\n",
    "print \"w1 and w0 values are : \\n{}\".format(lm.params)\n",
    "print\n",
    "print \"R_sqr is : {}\".format(lm.rsquared)"
   ]
  },
  {
   "cell_type": "markdown",
   "metadata": {},
   "source": [
    "### Question (4): (30pt) "
   ]
  },
  {
   "cell_type": "markdown",
   "metadata": {},
   "source": [
    "For the data below estimate a model: AssessTot = w* LotArea (with and without intercept)\n",
    "\n",
    "LotArea: Total area of the tax lot\n",
    "\n",
    "AssessTot: The actual assessed total value of Final Year 2015"
   ]
  },
  {
   "cell_type": "code",
   "execution_count": 9,
   "metadata": {
    "collapsed": false
   },
   "outputs": [],
   "source": [
    "from azureml import Workspace\n",
    "\n",
    "ws = Workspace()\n",
    "ds = ws.datasets['Housing_Pluto_Session2.csv']\n",
    "df = ds.to_dataframe()"
   ]
  },
  {
   "cell_type": "code",
   "execution_count": 10,
   "metadata": {
    "collapsed": false
   },
   "outputs": [
    {
     "name": "stdout",
     "output_type": "stream",
     "text": [
      "Number of rows is : 277572\n"
     ]
    },
    {
     "data": {
      "text/html": [
       "<div>\n",
       "<table border=\"1\" class=\"dataframe\">\n",
       "  <thead>\n",
       "    <tr style=\"text-align: right;\">\n",
       "      <th></th>\n",
       "      <th>ZipCode</th>\n",
       "      <th>LotArea</th>\n",
       "      <th>AssessTot</th>\n",
       "    </tr>\n",
       "  </thead>\n",
       "  <tbody>\n",
       "    <tr>\n",
       "      <th>0</th>\n",
       "      <td>11201</td>\n",
       "      <td>151930</td>\n",
       "      <td>1164645</td>\n",
       "    </tr>\n",
       "    <tr>\n",
       "      <th>1</th>\n",
       "      <td>11201</td>\n",
       "      <td>9620</td>\n",
       "      <td>5864850</td>\n",
       "    </tr>\n",
       "    <tr>\n",
       "      <th>2</th>\n",
       "      <td>11201</td>\n",
       "      <td>19682</td>\n",
       "      <td>12019950</td>\n",
       "    </tr>\n",
       "    <tr>\n",
       "      <th>3</th>\n",
       "      <td>NaN</td>\n",
       "      <td>0</td>\n",
       "      <td>0</td>\n",
       "    </tr>\n",
       "    <tr>\n",
       "      <th>4</th>\n",
       "      <td>11201</td>\n",
       "      <td>387060</td>\n",
       "      <td>0</td>\n",
       "    </tr>\n",
       "  </tbody>\n",
       "</table>\n",
       "</div>"
      ],
      "text/plain": [
       "   ZipCode  LotArea  AssessTot\n",
       "0    11201   151930    1164645\n",
       "1    11201     9620    5864850\n",
       "2    11201    19682   12019950\n",
       "3      NaN        0          0\n",
       "4    11201   387060          0"
      ]
     },
     "execution_count": 10,
     "metadata": {},
     "output_type": "execute_result"
    }
   ],
   "source": [
    "len_0 = len(df)\n",
    "print \"Number of rows is : %d\" %len(df)\n",
    "\n",
    "df.head()"
   ]
  },
  {
   "cell_type": "markdown",
   "metadata": {},
   "source": [
    "#### (a). As we see, this data set is not clean.  Drop all the rows which contain \"NaN\" and 0 terms."
   ]
  },
  {
   "cell_type": "markdown",
   "metadata": {},
   "source": [
    "#### (b). Visualize the data set."
   ]
  },
  {
   "cell_type": "markdown",
   "metadata": {},
   "source": [
    "#### (c).  Build a model : AssessTot=$w_1$*LotArea + $w_2$. Get $w_1$, $w_2$ and $R^2$.  Plot your results together with observations. "
   ]
  },
  {
   "cell_type": "markdown",
   "metadata": {},
   "source": [
    "#### (d) Repeat (c) without intercept, i.e. with $w_2=0$."
   ]
  },
  {
   "cell_type": "code",
   "execution_count": 11,
   "metadata": {
    "collapsed": false
   },
   "outputs": [],
   "source": [
    "# (a). As we see, this data set is not clean.  Drop all the rows which contain \"NaN\" and 0 terms.\n",
    "\n",
    "df = df.dropna()\n",
    "df = df[(df.T != 0).all()]\n",
    "len_1 = len(df)"
   ]
  },
  {
   "cell_type": "code",
   "execution_count": 12,
   "metadata": {
    "collapsed": false
   },
   "outputs": [
    {
     "name": "stdout",
     "output_type": "stream",
     "text": [
      "1590 rows were dropped after data cleaning\n"
     ]
    },
    {
     "data": {
      "text/html": [
       "<div>\n",
       "<table border=\"1\" class=\"dataframe\">\n",
       "  <thead>\n",
       "    <tr style=\"text-align: right;\">\n",
       "      <th></th>\n",
       "      <th>ZipCode</th>\n",
       "      <th>LotArea</th>\n",
       "      <th>AssessTot</th>\n",
       "    </tr>\n",
       "  </thead>\n",
       "  <tbody>\n",
       "    <tr>\n",
       "      <th>0</th>\n",
       "      <td>11201</td>\n",
       "      <td>151930</td>\n",
       "      <td>1164645</td>\n",
       "    </tr>\n",
       "    <tr>\n",
       "      <th>1</th>\n",
       "      <td>11201</td>\n",
       "      <td>9620</td>\n",
       "      <td>5864850</td>\n",
       "    </tr>\n",
       "    <tr>\n",
       "      <th>2</th>\n",
       "      <td>11201</td>\n",
       "      <td>19682</td>\n",
       "      <td>12019950</td>\n",
       "    </tr>\n",
       "    <tr>\n",
       "      <th>5</th>\n",
       "      <td>11201</td>\n",
       "      <td>6384</td>\n",
       "      <td>21150</td>\n",
       "    </tr>\n",
       "    <tr>\n",
       "      <th>10</th>\n",
       "      <td>11201</td>\n",
       "      <td>66889</td>\n",
       "      <td>11700</td>\n",
       "    </tr>\n",
       "  </tbody>\n",
       "</table>\n",
       "</div>"
      ],
      "text/plain": [
       "    ZipCode  LotArea  AssessTot\n",
       "0     11201   151930    1164645\n",
       "1     11201     9620    5864850\n",
       "2     11201    19682   12019950\n",
       "5     11201     6384      21150\n",
       "10    11201    66889      11700"
      ]
     },
     "execution_count": 12,
     "metadata": {},
     "output_type": "execute_result"
    }
   ],
   "source": [
    "# (b). Visualize the data set.\n",
    "\n",
    "print \"%d rows were dropped after data cleaning\" %(len_0 - len_1)\n",
    "df.head()"
   ]
  },
  {
   "cell_type": "code",
   "execution_count": 13,
   "metadata": {
    "collapsed": false
   },
   "outputs": [
    {
     "name": "stdout",
     "output_type": "stream",
     "text": [
      "w1 is : 21\n",
      "w2 is : 77766.8581321\n",
      "R_sqr is : 0.384438019677\n"
     ]
    },
    {
     "data": {
      "image/png": "[encoded data removed]",
      "text/plain": [
       "<matplotlib.figure.Figure at 0x7f22fda7af50>"
      ]
     },
     "metadata": {},
     "output_type": "display_data"
    }
   ],
   "source": [
    "# (c). Build a model : AssessTot=w1*LotArea + w2. Get w1, w2 and R2. Plot your results together with observations.\n",
    "\n",
    "df = df.rename(columns={'LotArea':'x'})\n",
    "df = df.rename(columns={'AssessTot':'y'})\n",
    "\n",
    "df.loc[:,\"xy\"] = df.x*df.y\n",
    "df.loc[:,\"x_sqr\"] = df.x*df.x\n",
    "df.loc[:,\"y_sqr\"] = df.y*df.y\n",
    "\n",
    "w1=(df.xy.sum()-df.y.sum()*df.x.sum()/len(df))/(df.x_sqr.sum()-df.x.sum()*df.x.sum()/len(df))\n",
    "\n",
    "w2=(df.y-df.x*w1).mean()\n",
    "\n",
    "df.loc[:,\"pred\"]=w1*df.x+w2\n",
    "df.loc[:,\"err\"]=df.y-df.pred\n",
    "\n",
    "R_sqr=1-(df.err**2).sum()/((df.y-df.y.mean())**2).sum()\n",
    "\n",
    "print(\"w1 is : {}\".format(w1))\n",
    "print(\"w2 is : {}\".format(w2))\n",
    "print(\"R_sqr is : {}\".format(R_sqr))\n",
    "\n",
    "import matplotlib.pylab as plt\n",
    "%matplotlib inline\n",
    "plt.figure(figsize=(8,8))\n",
    "plt.scatter(df.x,df.y)\n",
    "plt.plot(df.x,df.pred,c=\"r\")\n",
    "plt.show()"
   ]
  },
  {
   "cell_type": "code",
   "execution_count": 14,
   "metadata": {
    "collapsed": false
   },
   "outputs": [
    {
     "name": "stdout",
     "output_type": "stream",
     "text": [
      "w1 is : 21\n",
      "w2 is : 0\n",
      "R_sqr is : 0.384257524203\n"
     ]
    },
    {
     "data": {
      "image/png": "[encoded data removed]",
      "text/plain": [
       "<matplotlib.figure.Figure at 0x7f22fda7a450>"
      ]
     },
     "metadata": {},
     "output_type": "display_data"
    }
   ],
   "source": [
    "# (d) Repeat (c) without intercept, i.e. with w2=0.\n",
    "\n",
    "w2=0\n",
    "\n",
    "df.loc[:,\"pred\"]=w1*df.x+w2\n",
    "df.loc[:,\"err\"]=df.y-df.pred\n",
    "\n",
    "R_sqr=1-(df.err**2).sum()/((df.y-df.y.mean())**2).sum()\n",
    "\n",
    "print(\"w1 is : {}\".format(w1))\n",
    "print(\"w2 is : {}\".format(w2))\n",
    "print(\"R_sqr is : {}\".format(R_sqr))\n",
    "\n",
    "import matplotlib.pylab as plt\n",
    "%matplotlib inline\n",
    "plt.figure(figsize=(8,8))\n",
    "plt.scatter(df.x,df.y)\n",
    "plt.plot(df.x,df.pred,c=\"r\")\n",
    "plt.show()"
   ]
  },
  {
   "cell_type": "markdown",
   "metadata": {
    "collapsed": true
   },
   "source": [
    "### Question (5): (20pt)\n",
    "\n",
    "For the same data as above try the model: log_AssessTot=$w_1$*log_LotArea + $w_2$. Get $w_1$, $w_2$ and $R^2$.  And plot your results together with observations. Explain the result - what does the estimated \"$w_1$\" means to you?"
   ]
  },
  {
   "cell_type": "code",
   "execution_count": 17,
   "metadata": {
    "collapsed": false
   },
   "outputs": [
    {
     "name": "stdout",
     "output_type": "stream",
     "text": [
      "w1 is : 1.32514911392\n",
      "w2 is : 0.207381598949\n",
      "Intercept    0.207382\n",
      "x_log        1.325149\n",
      "dtype: float64\n",
      "0.490743686492\n",
      "\n"
     ]
    },
    {
     "data": {
      "image/png": "[encoded data removed]",
      "text/plain": [
       "<matplotlib.figure.Figure at 0x7f22fd8cf050>"
      ]
     },
     "metadata": {},
     "output_type": "display_data"
    }
   ],
   "source": [
    "df_log = df\n",
    "\n",
    "df_log.loc[:,\"x_log\"]=np.log(df.x)\n",
    "df_log.loc[:,\"y_log\"]=np.log(df.y)\n",
    "\n",
    "df_log.loc[:,\"x_sqr\"]=df_log.x_log*df_log.x_log\n",
    "df_log.loc[:,\"xy\"]=df_log.x_log*df_log.y_log\n",
    "\n",
    "w1_log=(df_log.xy.sum()-df_log.y_log.sum()*df_log.x_log.sum()/len(df_log))/(df_log.x_sqr.sum()-\n",
    "                                                                        df_log.x_log.sum()*df_log.x_log.sum()/len(df_log))\n",
    "print(\"w1 is : {}\".format(w1_log))\n",
    "\n",
    "w0_log=(df_log.y_log-df_log.x_log*w1_log).mean()\n",
    "print(\"w2 is : {}\".format(w0_log))\n",
    "\n",
    "lm_log = smf.ols(formula='y_log ~ x_log', data = df_log).fit()\n",
    "\n",
    "print lm_log.params\n",
    "print lm_log.rsquared\n",
    "\n",
    "df_log.loc[:,\"pred\"]=w1_log*df_log.x_log+w0_log\n",
    "df_log.loc[:,\"err\"]=df_log.y_log-df_log.pred\n",
    "df_log.head(3)\n",
    "print\n",
    "\n",
    "import matplotlib.pylab as plt\n",
    "%matplotlib inline\n",
    "plt.figure(figsize=(10,10))\n",
    "plt.scatter(df_log.x_log,df_log.y_log)\n",
    "plt.plot(df_log.x_log,df_log.pred,c=\"r\")\n",
    "plt.show()"
   ]
  },
  {
   "cell_type": "markdown",
   "metadata": {},
   "source": [
    "### *Additional extra-credit question (Using the housing price data set from question (4)) (40 pt to be added to the cumulative homework score up to the maximum of 100%(for whole semester))"
   ]
  },
  {
   "cell_type": "markdown",
   "metadata": {},
   "source": [
    "#### (a) How many different zip codes are in the data? report the number of observations for each zipcode.\n",
    "\n",
    "#### (b) For each zip code having over 1000 observations, report the average assessed total value of houses.\n",
    "\n",
    "#### (c) For each zip code estimate the log scale model 'log_AssessTot ~ log_LotArea' and report the slope coefficient (scaling exponent).\n",
    "\n",
    "#### (d) Visualize the spatial distribution of the values from (b) and (c). Report the top 5 zip code with highest scaling exponents."
   ]
  },
  {
   "cell_type": "code",
   "execution_count": 8,
   "metadata": {
    "collapsed": false
   },
   "outputs": [
    {
     "name": "stdout",
     "output_type": "stream",
     "text": [
      "There are 41 unique zip codes in the dataset\n",
      "\n",
      "Number of observations:\n"
     ]
    },
    {
     "data": {
      "text/plain": [
       "ZipCode\n",
       "11201     3361\n",
       "11203    11011\n",
       "11204     9946\n",
       "11205     3196\n",
       "11206     4665\n",
       "11207    11413\n",
       "11208    11284\n",
       "11209     8451\n",
       "11210     8540\n",
       "11211     5462\n",
       "11212     6578\n",
       "11213     5076\n",
       "11214     9513\n",
       "11215     9056\n",
       "11216     6113\n",
       "11217     4035\n",
       "11218     6905\n",
       "11219     8656\n",
       "11220     9015\n",
       "11221     9186\n",
       "11222     5311\n",
       "11223    10322\n",
       "11224     2798\n",
       "11225     3920\n",
       "11226     5336\n",
       "11228     7857\n",
       "11229    12063\n",
       "11230     7987\n",
       "11231     4838\n",
       "11232     2946\n",
       "11233     8014\n",
       "11234    19318\n",
       "11235     7941\n",
       "11236    14612\n",
       "11237     4390\n",
       "11238     4876\n",
       "11239      424\n",
       "11241        1\n",
       "11249     1561\n",
       "11251        1\n",
       "11416        4\n",
       "dtype: int64"
      ]
     },
     "execution_count": 8,
     "metadata": {},
     "output_type": "execute_result"
    }
   ],
   "source": [
    "# (a) How many different zip codes are in the data? report the number of observations for each zipcode.\n",
    "\n",
    "print \"There are %d unique zip codes in the dataset\" % len(df.ZipCode.unique())\n",
    "print\n",
    "print \"Number of observations:\"\n",
    "df.groupby('ZipCode').size()"
   ]
  },
  {
   "cell_type": "code",
   "execution_count": 68,
   "metadata": {
    "collapsed": false
   },
   "outputs": [
    {
     "data": {
      "text/html": [
       "<div>\n",
       "<table border=\"1\" class=\"dataframe\">\n",
       "  <thead>\n",
       "    <tr style=\"text-align: right;\">\n",
       "      <th></th>\n",
       "      <th>ZipCode</th>\n",
       "      <th>Lot Area</th>\n",
       "      <th>Average Assessed Total</th>\n",
       "    </tr>\n",
       "  </thead>\n",
       "  <tbody>\n",
       "    <tr>\n",
       "      <th>0</th>\n",
       "      <td>11201</td>\n",
       "      <td>7849.991669</td>\n",
       "      <td>1672253.175543</td>\n",
       "    </tr>\n",
       "    <tr>\n",
       "      <th>1</th>\n",
       "      <td>11217</td>\n",
       "      <td>4104.499380</td>\n",
       "      <td>483297.803470</td>\n",
       "    </tr>\n",
       "    <tr>\n",
       "      <th>2</th>\n",
       "      <td>11231</td>\n",
       "      <td>6117.280074</td>\n",
       "      <td>187081.372881</td>\n",
       "    </tr>\n",
       "    <tr>\n",
       "      <th>3</th>\n",
       "      <td>11215</td>\n",
       "      <td>2823.805543</td>\n",
       "      <td>169718.446996</td>\n",
       "    </tr>\n",
       "    <tr>\n",
       "      <th>4</th>\n",
       "      <td>11232</td>\n",
       "      <td>14976.904616</td>\n",
       "      <td>386084.401222</td>\n",
       "    </tr>\n",
       "    <tr>\n",
       "      <th>5</th>\n",
       "      <td>11220</td>\n",
       "      <td>3368.629506</td>\n",
       "      <td>134545.878092</td>\n",
       "    </tr>\n",
       "    <tr>\n",
       "      <th>6</th>\n",
       "      <td>11218</td>\n",
       "      <td>3754.477046</td>\n",
       "      <td>130887.364084</td>\n",
       "    </tr>\n",
       "    <tr>\n",
       "      <th>7</th>\n",
       "      <td>11238</td>\n",
       "      <td>3767.332034</td>\n",
       "      <td>265260.626743</td>\n",
       "    </tr>\n",
       "    <tr>\n",
       "      <th>8</th>\n",
       "      <td>11226</td>\n",
       "      <td>7863.942654</td>\n",
       "      <td>259168.549288</td>\n",
       "    </tr>\n",
       "    <tr>\n",
       "      <th>9</th>\n",
       "      <td>11225</td>\n",
       "      <td>4692.626531</td>\n",
       "      <td>219101.944898</td>\n",
       "    </tr>\n",
       "    <tr>\n",
       "      <th>10</th>\n",
       "      <td>11216</td>\n",
       "      <td>2962.456077</td>\n",
       "      <td>125110.447571</td>\n",
       "    </tr>\n",
       "    <tr>\n",
       "      <th>11</th>\n",
       "      <td>11213</td>\n",
       "      <td>4139.969267</td>\n",
       "      <td>169621.154846</td>\n",
       "    </tr>\n",
       "    <tr>\n",
       "      <th>12</th>\n",
       "      <td>11203</td>\n",
       "      <td>3588.370993</td>\n",
       "      <td>121020.278994</td>\n",
       "    </tr>\n",
       "    <tr>\n",
       "      <th>13</th>\n",
       "      <td>11233</td>\n",
       "      <td>2931.271899</td>\n",
       "      <td>83359.828800</td>\n",
       "    </tr>\n",
       "    <tr>\n",
       "      <th>14</th>\n",
       "      <td>11212</td>\n",
       "      <td>4417.043174</td>\n",
       "      <td>166426.244147</td>\n",
       "    </tr>\n",
       "    <tr>\n",
       "      <th>15</th>\n",
       "      <td>11221</td>\n",
       "      <td>2785.933486</td>\n",
       "      <td>90601.832571</td>\n",
       "    </tr>\n",
       "    <tr>\n",
       "      <th>16</th>\n",
       "      <td>11207</td>\n",
       "      <td>4481.561728</td>\n",
       "      <td>100342.272934</td>\n",
       "    </tr>\n",
       "    <tr>\n",
       "      <th>17</th>\n",
       "      <td>11206</td>\n",
       "      <td>5822.614791</td>\n",
       "      <td>311533.268167</td>\n",
       "    </tr>\n",
       "    <tr>\n",
       "      <th>18</th>\n",
       "      <td>11205</td>\n",
       "      <td>5601.588861</td>\n",
       "      <td>350940.932728</td>\n",
       "    </tr>\n",
       "    <tr>\n",
       "      <th>19</th>\n",
       "      <td>11211</td>\n",
       "      <td>4331.272794</td>\n",
       "      <td>249301.736726</td>\n",
       "    </tr>\n",
       "    <tr>\n",
       "      <th>20</th>\n",
       "      <td>11249</td>\n",
       "      <td>9018.428571</td>\n",
       "      <td>714632.458040</td>\n",
       "    </tr>\n",
       "    <tr>\n",
       "      <th>21</th>\n",
       "      <td>11237</td>\n",
       "      <td>4367.003189</td>\n",
       "      <td>152954.290205</td>\n",
       "    </tr>\n",
       "    <tr>\n",
       "      <th>22</th>\n",
       "      <td>11222</td>\n",
       "      <td>5876.024101</td>\n",
       "      <td>203406.643758</td>\n",
       "    </tr>\n",
       "    <tr>\n",
       "      <th>23</th>\n",
       "      <td>11236</td>\n",
       "      <td>4346.939844</td>\n",
       "      <td>77653.764919</td>\n",
       "    </tr>\n",
       "    <tr>\n",
       "      <th>24</th>\n",
       "      <td>11208</td>\n",
       "      <td>4661.630096</td>\n",
       "      <td>86440.452056</td>\n",
       "    </tr>\n",
       "    <tr>\n",
       "      <th>25</th>\n",
       "      <td>11234</td>\n",
       "      <td>10751.862770</td>\n",
       "      <td>154839.124599</td>\n",
       "    </tr>\n",
       "    <tr>\n",
       "      <th>26</th>\n",
       "      <td>11210</td>\n",
       "      <td>3703.556206</td>\n",
       "      <td>119467.800585</td>\n",
       "    </tr>\n",
       "    <tr>\n",
       "      <th>27</th>\n",
       "      <td>11230</td>\n",
       "      <td>3998.232127</td>\n",
       "      <td>148870.195317</td>\n",
       "    </tr>\n",
       "    <tr>\n",
       "      <th>28</th>\n",
       "      <td>11229</td>\n",
       "      <td>7010.305728</td>\n",
       "      <td>308220.279035</td>\n",
       "    </tr>\n",
       "    <tr>\n",
       "      <th>29</th>\n",
       "      <td>11219</td>\n",
       "      <td>2968.183457</td>\n",
       "      <td>140740.943392</td>\n",
       "    </tr>\n",
       "    <tr>\n",
       "      <th>30</th>\n",
       "      <td>11204</td>\n",
       "      <td>3004.730243</td>\n",
       "      <td>104542.541323</td>\n",
       "    </tr>\n",
       "    <tr>\n",
       "      <th>31</th>\n",
       "      <td>11209</td>\n",
       "      <td>5749.371317</td>\n",
       "      <td>173187.026742</td>\n",
       "    </tr>\n",
       "    <tr>\n",
       "      <th>32</th>\n",
       "      <td>11228</td>\n",
       "      <td>4168.265114</td>\n",
       "      <td>67127.979381</td>\n",
       "    </tr>\n",
       "    <tr>\n",
       "      <th>33</th>\n",
       "      <td>11214</td>\n",
       "      <td>4438.990224</td>\n",
       "      <td>127064.431515</td>\n",
       "    </tr>\n",
       "    <tr>\n",
       "      <th>34</th>\n",
       "      <td>11223</td>\n",
       "      <td>3440.045534</td>\n",
       "      <td>103472.525092</td>\n",
       "    </tr>\n",
       "    <tr>\n",
       "      <th>35</th>\n",
       "      <td>11224</td>\n",
       "      <td>15126.590064</td>\n",
       "      <td>309679.677984</td>\n",
       "    </tr>\n",
       "    <tr>\n",
       "      <th>36</th>\n",
       "      <td>11235</td>\n",
       "      <td>5758.717542</td>\n",
       "      <td>216932.072661</td>\n",
       "    </tr>\n",
       "  </tbody>\n",
       "</table>\n",
       "</div>"
      ],
      "text/plain": [
       "    ZipCode      Lot Area  Average Assessed Total\n",
       "0     11201   7849.991669          1672253.175543\n",
       "1     11217   4104.499380           483297.803470\n",
       "2     11231   6117.280074           187081.372881\n",
       "3     11215   2823.805543           169718.446996\n",
       "4     11232  14976.904616           386084.401222\n",
       "5     11220   3368.629506           134545.878092\n",
       "6     11218   3754.477046           130887.364084\n",
       "7     11238   3767.332034           265260.626743\n",
       "8     11226   7863.942654           259168.549288\n",
       "9     11225   4692.626531           219101.944898\n",
       "10    11216   2962.456077           125110.447571\n",
       "11    11213   4139.969267           169621.154846\n",
       "12    11203   3588.370993           121020.278994\n",
       "13    11233   2931.271899            83359.828800\n",
       "14    11212   4417.043174           166426.244147\n",
       "15    11221   2785.933486            90601.832571\n",
       "16    11207   4481.561728           100342.272934\n",
       "17    11206   5822.614791           311533.268167\n",
       "18    11205   5601.588861           350940.932728\n",
       "19    11211   4331.272794           249301.736726\n",
       "20    11249   9018.428571           714632.458040\n",
       "21    11237   4367.003189           152954.290205\n",
       "22    11222   5876.024101           203406.643758\n",
       "23    11236   4346.939844            77653.764919\n",
       "24    11208   4661.630096            86440.452056\n",
       "25    11234  10751.862770           154839.124599\n",
       "26    11210   3703.556206           119467.800585\n",
       "27    11230   3998.232127           148870.195317\n",
       "28    11229   7010.305728           308220.279035\n",
       "29    11219   2968.183457           140740.943392\n",
       "30    11204   3004.730243           104542.541323\n",
       "31    11209   5749.371317           173187.026742\n",
       "32    11228   4168.265114            67127.979381\n",
       "33    11214   4438.990224           127064.431515\n",
       "34    11223   3440.045534           103472.525092\n",
       "35    11224  15126.590064           309679.677984\n",
       "36    11235   5758.717542           216932.072661"
      ]
     },
     "execution_count": 68,
     "metadata": {},
     "output_type": "execute_result"
    }
   ],
   "source": [
    "# (b) For each zip code having over 1000 observations, report the average assessed total value of houses.\n",
    "\n",
    "df_filtered = df.groupby('ZipCode').filter(lambda x: len(x['ZipCode']) > 1000)\n",
    "new_df = df_filtered.rename(columns={'y':'AssessTot'})\n",
    "df_assesstot = new_df.groupby('ZipCode').mean()\n",
    "df_assesstot.drop(['xy','x_sqr','y_sqr','pred','err'],1)\n",
    "\n",
    "zip_unique = df_filtered.ZipCode.unique()\n",
    "\n",
    "assesstot_mean = []\n",
    "x_avg = []\n",
    "for zip in zip_unique:\n",
    "    index = (new_df.ZipCode == zip)\n",
    "    x_lotarea = new_df[index].x.mean()\n",
    "    x_avg = np.append(x_avg,x_lotarea)\n",
    "    mean_df = new_df[index].AssessTot.mean()\n",
    "    assesstot_mean = np.append(assesstot_mean,mean_df)\n",
    "    \n",
    "new_df_mean = pd.DataFrame([list(zip_unique),list(x_avg),list(assesstot_mean)]).T\n",
    "new_df_mean.columns = [\"ZipCode\",\"Lot Area\",\"Average Assessed Total\"]\n",
    "\n",
    "new_df_mean"
   ]
  },
  {
   "cell_type": "code",
   "execution_count": 73,
   "metadata": {
    "collapsed": false,
    "scrolled": false
   },
   "outputs": [
    {
     "data": {
      "text/html": [
       "<div>\n",
       "<table border=\"1\" class=\"dataframe\">\n",
       "  <thead>\n",
       "    <tr style=\"text-align: right;\">\n",
       "      <th></th>\n",
       "      <th>ZipCode</th>\n",
       "      <th>Slope Coefficient</th>\n",
       "    </tr>\n",
       "  </thead>\n",
       "  <tbody>\n",
       "    <tr>\n",
       "      <th>0</th>\n",
       "      <td>11201</td>\n",
       "      <td>1.405662</td>\n",
       "    </tr>\n",
       "    <tr>\n",
       "      <th>1</th>\n",
       "      <td>11217</td>\n",
       "      <td>1.415730</td>\n",
       "    </tr>\n",
       "    <tr>\n",
       "      <th>2</th>\n",
       "      <td>11231</td>\n",
       "      <td>1.135323</td>\n",
       "    </tr>\n",
       "    <tr>\n",
       "      <th>3</th>\n",
       "      <td>11215</td>\n",
       "      <td>1.541013</td>\n",
       "    </tr>\n",
       "    <tr>\n",
       "      <th>4</th>\n",
       "      <td>11232</td>\n",
       "      <td>1.378675</td>\n",
       "    </tr>\n",
       "  </tbody>\n",
       "</table>\n",
       "</div>"
      ],
      "text/plain": [
       "   ZipCode  Slope Coefficient\n",
       "0    11201           1.405662\n",
       "1    11217           1.415730\n",
       "2    11231           1.135323\n",
       "3    11215           1.541013\n",
       "4    11232           1.378675"
      ]
     },
     "execution_count": 73,
     "metadata": {},
     "output_type": "execute_result"
    }
   ],
   "source": [
    "# (c) For each zip code estimate the log scale model 'log_AssessTot ~ log_LotArea' \n",
    "# and report the slope coefficient (scaling exponent).\n",
    "\n",
    "# df_filtered = df.groupby('ZipCode').filter(lambda x: len(x['ZipCode']) > 1000)\n",
    "zip_unique = df_filtered.ZipCode.unique()\n",
    "\n",
    "df_filtered.loc[:,\"log_x\"]=np.log(df_filtered.x)\n",
    "df_filtered.loc[:,\"log_y\"]=np.log(df_filtered.y)\n",
    "\n",
    "slope_coeff = []\n",
    "for zip in zip_unique:\n",
    "    index = (df_filtered.ZipCode == zip)\n",
    "    log_df = df_filtered[index]\n",
    "    lm = smf.ols(formula='log_y ~ log_x', data=log_df).fit()\n",
    "    slope_coeff = np.append(slope_coeff,lm.params.log_x)\n",
    "    \n",
    "new_df_filtered = pd.DataFrame([list(zip_unique),list(slope_coeff)]).T\n",
    "\n",
    "new_df_filtered.columns = [\"ZipCode\",\"Slope Coefficient\"]\n",
    "\n",
    "new_df_filtered.head()"
   ]
  },
  {
   "cell_type": "code",
   "execution_count": 71,
   "metadata": {
    "collapsed": false
   },
   "outputs": [
    {
     "data": {
      "text/html": [
       "<div>\n",
       "<table border=\"1\" class=\"dataframe\">\n",
       "  <thead>\n",
       "    <tr style=\"text-align: right;\">\n",
       "      <th></th>\n",
       "      <th>ZipCode</th>\n",
       "      <th>Lot Area</th>\n",
       "      <th>Average Assessed Total</th>\n",
       "      <th>Slope Coefficient</th>\n",
       "    </tr>\n",
       "  </thead>\n",
       "  <tbody>\n",
       "    <tr>\n",
       "      <th>0</th>\n",
       "      <td>11201</td>\n",
       "      <td>7849.991669</td>\n",
       "      <td>1672253.175543</td>\n",
       "      <td>1.405662</td>\n",
       "    </tr>\n",
       "    <tr>\n",
       "      <th>1</th>\n",
       "      <td>11217</td>\n",
       "      <td>4104.499380</td>\n",
       "      <td>483297.803470</td>\n",
       "      <td>1.415730</td>\n",
       "    </tr>\n",
       "    <tr>\n",
       "      <th>2</th>\n",
       "      <td>11231</td>\n",
       "      <td>6117.280074</td>\n",
       "      <td>187081.372881</td>\n",
       "      <td>1.135323</td>\n",
       "    </tr>\n",
       "    <tr>\n",
       "      <th>3</th>\n",
       "      <td>11215</td>\n",
       "      <td>2823.805543</td>\n",
       "      <td>169718.446996</td>\n",
       "      <td>1.541013</td>\n",
       "    </tr>\n",
       "    <tr>\n",
       "      <th>4</th>\n",
       "      <td>11232</td>\n",
       "      <td>14976.904616</td>\n",
       "      <td>386084.401222</td>\n",
       "      <td>1.378675</td>\n",
       "    </tr>\n",
       "    <tr>\n",
       "      <th>5</th>\n",
       "      <td>11220</td>\n",
       "      <td>3368.629506</td>\n",
       "      <td>134545.878092</td>\n",
       "      <td>1.500793</td>\n",
       "    </tr>\n",
       "    <tr>\n",
       "      <th>6</th>\n",
       "      <td>11218</td>\n",
       "      <td>3754.477046</td>\n",
       "      <td>130887.364084</td>\n",
       "      <td>1.282553</td>\n",
       "    </tr>\n",
       "    <tr>\n",
       "      <th>7</th>\n",
       "      <td>11238</td>\n",
       "      <td>3767.332034</td>\n",
       "      <td>265260.626743</td>\n",
       "      <td>1.621558</td>\n",
       "    </tr>\n",
       "    <tr>\n",
       "      <th>8</th>\n",
       "      <td>11226</td>\n",
       "      <td>7863.942654</td>\n",
       "      <td>259168.549288</td>\n",
       "      <td>1.386247</td>\n",
       "    </tr>\n",
       "    <tr>\n",
       "      <th>9</th>\n",
       "      <td>11225</td>\n",
       "      <td>4692.626531</td>\n",
       "      <td>219101.944898</td>\n",
       "      <td>1.578187</td>\n",
       "    </tr>\n",
       "    <tr>\n",
       "      <th>10</th>\n",
       "      <td>11216</td>\n",
       "      <td>2962.456077</td>\n",
       "      <td>125110.447571</td>\n",
       "      <td>1.649113</td>\n",
       "    </tr>\n",
       "    <tr>\n",
       "      <th>11</th>\n",
       "      <td>11213</td>\n",
       "      <td>4139.969267</td>\n",
       "      <td>169621.154846</td>\n",
       "      <td>1.584304</td>\n",
       "    </tr>\n",
       "    <tr>\n",
       "      <th>12</th>\n",
       "      <td>11203</td>\n",
       "      <td>3588.370993</td>\n",
       "      <td>121020.278994</td>\n",
       "      <td>1.391849</td>\n",
       "    </tr>\n",
       "    <tr>\n",
       "      <th>13</th>\n",
       "      <td>11233</td>\n",
       "      <td>2931.271899</td>\n",
       "      <td>83359.828800</td>\n",
       "      <td>1.521394</td>\n",
       "    </tr>\n",
       "    <tr>\n",
       "      <th>14</th>\n",
       "      <td>11212</td>\n",
       "      <td>4417.043174</td>\n",
       "      <td>166426.244147</td>\n",
       "      <td>1.484992</td>\n",
       "    </tr>\n",
       "    <tr>\n",
       "      <th>15</th>\n",
       "      <td>11221</td>\n",
       "      <td>2785.933486</td>\n",
       "      <td>90601.832571</td>\n",
       "      <td>1.592814</td>\n",
       "    </tr>\n",
       "    <tr>\n",
       "      <th>16</th>\n",
       "      <td>11207</td>\n",
       "      <td>4481.561728</td>\n",
       "      <td>100342.272934</td>\n",
       "      <td>1.341991</td>\n",
       "    </tr>\n",
       "    <tr>\n",
       "      <th>17</th>\n",
       "      <td>11206</td>\n",
       "      <td>5822.614791</td>\n",
       "      <td>311533.268167</td>\n",
       "      <td>1.487366</td>\n",
       "    </tr>\n",
       "    <tr>\n",
       "      <th>18</th>\n",
       "      <td>11205</td>\n",
       "      <td>5601.588861</td>\n",
       "      <td>350940.932728</td>\n",
       "      <td>1.503683</td>\n",
       "    </tr>\n",
       "    <tr>\n",
       "      <th>19</th>\n",
       "      <td>11211</td>\n",
       "      <td>4331.272794</td>\n",
       "      <td>249301.736726</td>\n",
       "      <td>1.412142</td>\n",
       "    </tr>\n",
       "    <tr>\n",
       "      <th>20</th>\n",
       "      <td>11249</td>\n",
       "      <td>9018.428571</td>\n",
       "      <td>714632.458040</td>\n",
       "      <td>1.242015</td>\n",
       "    </tr>\n",
       "    <tr>\n",
       "      <th>21</th>\n",
       "      <td>11237</td>\n",
       "      <td>4367.003189</td>\n",
       "      <td>152954.290205</td>\n",
       "      <td>1.368369</td>\n",
       "    </tr>\n",
       "    <tr>\n",
       "      <th>22</th>\n",
       "      <td>11222</td>\n",
       "      <td>5876.024101</td>\n",
       "      <td>203406.643758</td>\n",
       "      <td>1.159196</td>\n",
       "    </tr>\n",
       "    <tr>\n",
       "      <th>23</th>\n",
       "      <td>11236</td>\n",
       "      <td>4346.939844</td>\n",
       "      <td>77653.764919</td>\n",
       "      <td>1.118443</td>\n",
       "    </tr>\n",
       "    <tr>\n",
       "      <th>24</th>\n",
       "      <td>11208</td>\n",
       "      <td>4661.630096</td>\n",
       "      <td>86440.452056</td>\n",
       "      <td>1.164593</td>\n",
       "    </tr>\n",
       "    <tr>\n",
       "      <th>25</th>\n",
       "      <td>11234</td>\n",
       "      <td>10751.862770</td>\n",
       "      <td>154839.124599</td>\n",
       "      <td>1.019636</td>\n",
       "    </tr>\n",
       "    <tr>\n",
       "      <th>26</th>\n",
       "      <td>11210</td>\n",
       "      <td>3703.556206</td>\n",
       "      <td>119467.800585</td>\n",
       "      <td>1.245899</td>\n",
       "    </tr>\n",
       "    <tr>\n",
       "      <th>27</th>\n",
       "      <td>11230</td>\n",
       "      <td>3998.232127</td>\n",
       "      <td>148870.195317</td>\n",
       "      <td>1.306245</td>\n",
       "    </tr>\n",
       "    <tr>\n",
       "      <th>28</th>\n",
       "      <td>11229</td>\n",
       "      <td>7010.305728</td>\n",
       "      <td>308220.279035</td>\n",
       "      <td>1.336506</td>\n",
       "    </tr>\n",
       "    <tr>\n",
       "      <th>29</th>\n",
       "      <td>11219</td>\n",
       "      <td>2968.183457</td>\n",
       "      <td>140740.943392</td>\n",
       "      <td>1.452945</td>\n",
       "    </tr>\n",
       "    <tr>\n",
       "      <th>30</th>\n",
       "      <td>11204</td>\n",
       "      <td>3004.730243</td>\n",
       "      <td>104542.541323</td>\n",
       "      <td>1.280166</td>\n",
       "    </tr>\n",
       "    <tr>\n",
       "      <th>31</th>\n",
       "      <td>11209</td>\n",
       "      <td>5749.371317</td>\n",
       "      <td>173187.026742</td>\n",
       "      <td>1.249751</td>\n",
       "    </tr>\n",
       "    <tr>\n",
       "      <th>32</th>\n",
       "      <td>11228</td>\n",
       "      <td>4168.265114</td>\n",
       "      <td>67127.979381</td>\n",
       "      <td>0.923342</td>\n",
       "    </tr>\n",
       "    <tr>\n",
       "      <th>33</th>\n",
       "      <td>11214</td>\n",
       "      <td>4438.990224</td>\n",
       "      <td>127064.431515</td>\n",
       "      <td>1.118207</td>\n",
       "    </tr>\n",
       "    <tr>\n",
       "      <th>34</th>\n",
       "      <td>11223</td>\n",
       "      <td>3440.045534</td>\n",
       "      <td>103472.525092</td>\n",
       "      <td>1.258820</td>\n",
       "    </tr>\n",
       "    <tr>\n",
       "      <th>35</th>\n",
       "      <td>11224</td>\n",
       "      <td>15126.590064</td>\n",
       "      <td>309679.677984</td>\n",
       "      <td>1.057399</td>\n",
       "    </tr>\n",
       "    <tr>\n",
       "      <th>36</th>\n",
       "      <td>11235</td>\n",
       "      <td>5758.717542</td>\n",
       "      <td>216932.072661</td>\n",
       "      <td>1.299189</td>\n",
       "    </tr>\n",
       "  </tbody>\n",
       "</table>\n",
       "</div>"
      ],
      "text/plain": [
       "    ZipCode      Lot Area  Average Assessed Total  Slope Coefficient\n",
       "0     11201   7849.991669          1672253.175543           1.405662\n",
       "1     11217   4104.499380           483297.803470           1.415730\n",
       "2     11231   6117.280074           187081.372881           1.135323\n",
       "3     11215   2823.805543           169718.446996           1.541013\n",
       "4     11232  14976.904616           386084.401222           1.378675\n",
       "5     11220   3368.629506           134545.878092           1.500793\n",
       "6     11218   3754.477046           130887.364084           1.282553\n",
       "7     11238   3767.332034           265260.626743           1.621558\n",
       "8     11226   7863.942654           259168.549288           1.386247\n",
       "9     11225   4692.626531           219101.944898           1.578187\n",
       "10    11216   2962.456077           125110.447571           1.649113\n",
       "11    11213   4139.969267           169621.154846           1.584304\n",
       "12    11203   3588.370993           121020.278994           1.391849\n",
       "13    11233   2931.271899            83359.828800           1.521394\n",
       "14    11212   4417.043174           166426.244147           1.484992\n",
       "15    11221   2785.933486            90601.832571           1.592814\n",
       "16    11207   4481.561728           100342.272934           1.341991\n",
       "17    11206   5822.614791           311533.268167           1.487366\n",
       "18    11205   5601.588861           350940.932728           1.503683\n",
       "19    11211   4331.272794           249301.736726           1.412142\n",
       "20    11249   9018.428571           714632.458040           1.242015\n",
       "21    11237   4367.003189           152954.290205           1.368369\n",
       "22    11222   5876.024101           203406.643758           1.159196\n",
       "23    11236   4346.939844            77653.764919           1.118443\n",
       "24    11208   4661.630096            86440.452056           1.164593\n",
       "25    11234  10751.862770           154839.124599           1.019636\n",
       "26    11210   3703.556206           119467.800585           1.245899\n",
       "27    11230   3998.232127           148870.195317           1.306245\n",
       "28    11229   7010.305728           308220.279035           1.336506\n",
       "29    11219   2968.183457           140740.943392           1.452945\n",
       "30    11204   3004.730243           104542.541323           1.280166\n",
       "31    11209   5749.371317           173187.026742           1.249751\n",
       "32    11228   4168.265114            67127.979381           0.923342\n",
       "33    11214   4438.990224           127064.431515           1.118207\n",
       "34    11223   3440.045534           103472.525092           1.258820\n",
       "35    11224  15126.590064           309679.677984           1.057399\n",
       "36    11235   5758.717542           216932.072661           1.299189"
      ]
     },
     "execution_count": 71,
     "metadata": {},
     "output_type": "execute_result"
    }
   ],
   "source": [
    "# (d) Visualize the spatial distribution of the values from (b) and (c). \n",
    "# Report the top 5 zip code with highest scaling exponents.\n",
    "\n",
    "final_df = new_df_mean.merge(new_df_filtered, left_on='ZipCode', right_on='ZipCode', how='inner')\n",
    "\n",
    "final_df"
   ]
  }
 ],
 "metadata": {
  "kernelspec": {
   "display_name": "Python 2",
   "language": "python",
   "name": "python2"
  },
  "language_info": {
   "codemirror_mode": {
    "name": "ipython",
    "version": 2
   },
   "file_extension": ".py",
   "mimetype": "text/x-python",
   "name": "python",
   "nbconvert_exporter": "python",
   "pygments_lexer": "ipython2",
   "version": "2.7.11"
  }
 },
 "nbformat": 4,
 "nbformat_minor": 0
}
