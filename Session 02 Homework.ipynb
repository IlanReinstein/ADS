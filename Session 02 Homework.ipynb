{
 "cells": [
  {
   "cell_type": "markdown",
   "metadata": {},
   "source": [
    "### Question (1): (10pt)\n",
    "\n",
    "Suppose that the independent variable $x$ has n observations: $(x_1,x_2,...x_n)$ and the dependent variable $y$ has corresponding observations: $(y_1, y_2,...,y_n)$. If the correlation between these two sequences $corr(x,y)=0.01$, which of the following statements are true? Please select all the right answers.\n",
    "\n",
    "(a) There should be no strong relation between $x$ and $y$.\n",
    "\n",
    "(b) There could be some strong linear relationship between $x$ and $y$.\n",
    "\n",
    "(c) If we build a linear regression between $y$ and $x$ as $y=wx$, we could conclude that the OLS estimation for $w$ should be around 0.01.\n",
    "\n",
    "(d) Certain relation between $x$ and $y$ could still exist, but it should be non-linear."
   ]
  },
  {
   "cell_type": "markdown",
   "metadata": {},
   "source": [
    "The correct answers are: (a), (c) and (d)"
   ]
  },
  {
   "cell_type": "markdown",
   "metadata": {},
   "source": [
    "### Question (2): (10pt)\n",
    "\n"
   ]
  },
  {
   "cell_type": "markdown",
   "metadata": {},
   "source": [
    "Consider a model\n",
    "\n",
    "$y=x^{b}$ where $b>0$. \n",
    "\n",
    "Now, suppose x doubles (originally $x>0$). How would y change with respect to this change of x? Let us denote new $y$ as $y'$. Please select all the right answers from below. \n",
    "\n",
    "(a) $y'>2y$ if b is bigger than one.\n",
    "\n",
    "(b) $y'<2y$ if b is less than one.\n",
    "\n",
    "(c) $y'=2y$ in any case.\n",
    "\n",
    "(d) $y'$ increases by $(2^b-1)*100\\%$."
   ]
  },
  {
   "cell_type": "markdown",
   "metadata": {
    "collapsed": true
   },
   "source": [
    "y' = (2x)^b = 2^b * x^b = 2^b * y\n",
    "\n",
    "The correct answers are (a), (b) and (d)\n",
    "\n",
    "y' - y = 2^b * x^b - x^b = x^b(2^b - 1)"
   ]
  },
  {
   "cell_type": "code",
   "execution_count": 1,
   "metadata": {
    "collapsed": true
   },
   "outputs": [],
   "source": [
    "import pandas as pd\n",
    "import numpy as np\n",
    "import statsmodels.formula.api as smf\n",
    "import matplotlib.pylab as plt\n",
    "%matplotlib inline"
   ]
  },
  {
   "cell_type": "markdown",
   "metadata": {},
   "source": [
    "### Question (3): (30 pt)\n"
   ]
  },
  {
   "cell_type": "code",
   "execution_count": 2,
   "metadata": {
    "collapsed": true
   },
   "outputs": [],
   "source": [
    "x=[0, 1, 2, 3, 4, 5, 6, 7, 8, 9, 10, 11, 12, 13, 14, 15, 16, 17, 18, 19]"
   ]
  },
  {
   "cell_type": "code",
   "execution_count": 3,
   "metadata": {
    "collapsed": true
   },
   "outputs": [],
   "source": [
    "y=[28.0, 24.0, 37.0, -7.0, 28.0, 71.0, 89.0, 60.0, 100.0, 108.0, 116.0, \n",
    "   110.0, 114.0, 123.0, 124.0, 165.0, 169.0, 211.0, 211.0, 208.0]"
   ]
  },
  {
   "cell_type": "code",
   "execution_count": null,
   "metadata": {
    "collapsed": false
   },
   "outputs": [],
   "source": []
  },
  {
   "cell_type": "markdown",
   "metadata": {},
   "source": [
    "#### (a) Calculate corr(x,y) without using a build-in function for the correlation coefficient."
   ]
  },
  {
   "cell_type": "markdown",
   "metadata": {},
   "source": [
    "#### (b) Estimate linear model $y=w_1*x+w_0$ using OLS formulas and without using build-in functions for the linear regression. What is  $w_1$ and $w_0$? What is $R^2$?"
   ]
  },
  {
   "cell_type": "markdown",
   "metadata": {},
   "source": [
    "#### (c) Use regression function to double check your answer making sure that your calculation is correct. "
   ]
  },
  {
   "cell_type": "code",
   "execution_count": 4,
   "metadata": {
    "collapsed": false
   },
   "outputs": [
    {
     "name": "stdout",
     "output_type": "stream",
     "text": [
      "The correlation coefficient is: 0.957143492915\n"
     ]
    }
   ],
   "source": [
    "x = np.array(x)\n",
    "y = np.array(y)\n",
    "xbar = np.mean(x)\n",
    "ybar = np.mean(y)\n",
    "#Using x and y as vectors we cn calculate the covariance between these two and therefore,\n",
    "#calculate the correlation coefficient.\n",
    "Cov = np.mean((x-xbar)*(y-ybar).T)\n",
    "rho = Cov/(np.std(x)*np.std(y))\n",
    "print 'The correlation coefficient is:', rho"
   ]
  },
  {
   "cell_type": "code",
   "execution_count": 5,
   "metadata": {
    "collapsed": false
   },
   "outputs": [
    {
     "name": "stdout",
     "output_type": "stream",
     "text": [
      "The parameters w0,w1,R2 are: 4.25714285714 10.5466165414 0.91612366603 , respectively.\n"
     ]
    }
   ],
   "source": [
    "w1 = Cov/np.var(x)\n",
    "w0 = np.mean(y) - w1*np.mean(x)\n",
    "R2 = rho**2\n",
    "print 'The parameters w0,w1,R2 are:', w0,w1,R2, ', respectively.'"
   ]
  },
  {
   "cell_type": "code",
   "execution_count": 6,
   "metadata": {
    "collapsed": false
   },
   "outputs": [
    {
     "name": "stdout",
     "output_type": "stream",
     "text": [
      "Intercept     4.257143\n",
      "x            10.546617\n",
      "dtype: float64 0.91612366603\n"
     ]
    }
   ],
   "source": [
    "#Question 3, part c:\n",
    "#We expect the results from the built-in linear model \n",
    "#to be the same as the ones we calculated by hand using the definitions.\n",
    "data = pd.DataFrame([x,y]).T\n",
    "data.columns = ['x','y']\n",
    "data.loc[:,'xy'] = data.x*data.y\n",
    "\n",
    "lm = smf.ols(formula = 'y~x',data = data).fit()\n",
    "print lm.params, lm.rsquared"
   ]
  },
  {
   "cell_type": "code",
   "execution_count": null,
   "metadata": {
    "collapsed": false
   },
   "outputs": [],
   "source": [
    "\n"
   ]
  },
  {
   "cell_type": "markdown",
   "metadata": {},
   "source": [
    "### Question (4): (30pt) "
   ]
  },
  {
   "cell_type": "markdown",
   "metadata": {},
   "source": [
    "For the data below estimate a model: AssessTot = w* LotArea (with and without intercept)\n",
    "\n",
    "LotArea: Total area of the tax lot\n",
    "\n",
    "AssessTot: The actual assessed total value of Final Year 2015"
   ]
  },
  {
   "cell_type": "code",
   "execution_count": 7,
   "metadata": {
    "collapsed": false
   },
   "outputs": [],
   "source": [
    "data_4=pd.read_csv(\"https://serv.cusp.nyu.edu/~lw1474/ADS_Data/Session02/Housing_Pluto_Session2.csv\")"
   ]
  },
  {
   "cell_type": "code",
   "execution_count": 8,
   "metadata": {
    "collapsed": false
   },
   "outputs": [
    {
     "data": {
      "text/html": [
       "<div>\n",
       "<table border=\"1\" class=\"dataframe\">\n",
       "  <thead>\n",
       "    <tr style=\"text-align: right;\">\n",
       "      <th></th>\n",
       "      <th>ZipCode</th>\n",
       "      <th>LotArea</th>\n",
       "      <th>AssessTot</th>\n",
       "    </tr>\n",
       "  </thead>\n",
       "  <tbody>\n",
       "    <tr>\n",
       "      <th>0</th>\n",
       "      <td>11201.0</td>\n",
       "      <td>151930</td>\n",
       "      <td>1164645</td>\n",
       "    </tr>\n",
       "    <tr>\n",
       "      <th>1</th>\n",
       "      <td>11201.0</td>\n",
       "      <td>9620</td>\n",
       "      <td>5864850</td>\n",
       "    </tr>\n",
       "    <tr>\n",
       "      <th>2</th>\n",
       "      <td>11201.0</td>\n",
       "      <td>19682</td>\n",
       "      <td>12019950</td>\n",
       "    </tr>\n",
       "    <tr>\n",
       "      <th>3</th>\n",
       "      <td>NaN</td>\n",
       "      <td>0</td>\n",
       "      <td>0</td>\n",
       "    </tr>\n",
       "    <tr>\n",
       "      <th>4</th>\n",
       "      <td>11201.0</td>\n",
       "      <td>387060</td>\n",
       "      <td>0</td>\n",
       "    </tr>\n",
       "  </tbody>\n",
       "</table>\n",
       "</div>"
      ],
      "text/plain": [
       "   ZipCode  LotArea  AssessTot\n",
       "0  11201.0   151930    1164645\n",
       "1  11201.0     9620    5864850\n",
       "2  11201.0    19682   12019950\n",
       "3      NaN        0          0\n",
       "4  11201.0   387060          0"
      ]
     },
     "execution_count": 8,
     "metadata": {},
     "output_type": "execute_result"
    }
   ],
   "source": [
    "data_4.head()"
   ]
  },
  {
   "cell_type": "markdown",
   "metadata": {},
   "source": [
    "#### (a). As we see, this data set is not clean.  Drop all the rows which contain \"NaN\" and 0 terms."
   ]
  },
  {
   "cell_type": "code",
   "execution_count": 9,
   "metadata": {
    "collapsed": false
   },
   "outputs": [],
   "source": [
    "df = data_4\n",
    "df = df[df > 0]\n",
    "df = df.dropna()\n",
    "df.head(5)\n",
    "\n",
    "#Data renormalization\n",
    "df.loc[:,'LotR'] = df.LotArea/df.LotArea.std()\n",
    "df.loc[:,'AssessR'] = df.AssessTot/df.AssessTot.std()\n",
    "\n"
   ]
  },
  {
   "cell_type": "markdown",
   "metadata": {},
   "source": [
    "#### (b). Visualize the data set."
   ]
  },
  {
   "cell_type": "code",
   "execution_count": 10,
   "metadata": {
    "collapsed": false
   },
   "outputs": [
    {
     "data": {
      "image/png": "[encoded data removed]",
      "text/plain": [
       "<matplotlib.figure.Figure at 0x115f01490>"
      ]
     },
     "metadata": {},
     "output_type": "display_data"
    }
   ],
   "source": [
    "import matplotlib.pylab as plt\n",
    "%matplotlib inline\n",
    "plt.figure(figsize = (7,7))\n",
    "plt.scatter(df.LotArea,df.AssessTot)\n",
    "plt.show()"
   ]
  },
  {
   "cell_type": "markdown",
   "metadata": {},
   "source": [
    "#### (c).  Build a model : AssessTot=$w_1$*LotArea + $w_2$. Get $w_1$, $w_2$ and $R^2$.  Plot your results together with observations. "
   ]
  },
  {
   "cell_type": "code",
   "execution_count": 11,
   "metadata": {
    "collapsed": false
   },
   "outputs": [
    {
     "name": "stdout",
     "output_type": "stream",
     "text": [
      "The correlation coefficient is: 0.620048468496\n"
     ]
    }
   ],
   "source": [
    "x = np.array(df.LotArea)\n",
    "y = np.array(df.AssessTot)\n",
    "xbar = np.mean(x)\n",
    "ybar = np.mean(y)\n",
    "#Using x and y as vectors we cn calculate the covariance between these two and therefore,\n",
    "#calculate the correlation coefficient.\n",
    "Cov = np.mean((x-xbar)*(y-ybar).T)\n",
    "rho = Cov/(np.std(x)*np.std(y))\n",
    "print 'The correlation coefficient is:', rho"
   ]
  },
  {
   "cell_type": "code",
   "execution_count": 12,
   "metadata": {
    "collapsed": false
   },
   "outputs": [
    {
     "name": "stdout",
     "output_type": "stream",
     "text": [
      "The parameters w0,w1,R2 are: 76944.2978378 21.160373533 0.384460103284 , respectively.\n"
     ]
    }
   ],
   "source": [
    "w1 = Cov/np.var(x)\n",
    "w0 = np.mean(y) - w1*np.mean(x)\n",
    "#R2 = rho**2\n",
    "\n",
    "df.loc[:,'pred1'] = w0 + df.LotArea*w1\n",
    "df.loc[:,'err1'] = df.AssessTot - df.pred1 \n",
    "R_sq = 1 - (df.err1**2).sum()/((df.AssessTot-df.AssessTot.mean())**2).sum()\n",
    "\n",
    "print 'The parameters w0,w1,R2 are:', w0,w1,R_sq, ', respectively.'\n"
   ]
  },
  {
   "cell_type": "code",
   "execution_count": 13,
   "metadata": {
    "collapsed": false
   },
   "outputs": [
    {
     "name": "stdout",
     "output_type": "stream",
     "text": [
      "Intercept    76944.297838\n",
      "LotArea         21.160374\n",
      "dtype: float64 0.384460103284\n"
     ]
    }
   ],
   "source": [
    "lm1 = smf.ols(formula = 'AssessTot~LotArea',data = df).fit()\n",
    "print lm1.params, lm1.rsquared"
   ]
  },
  {
   "cell_type": "code",
   "execution_count": 14,
   "metadata": {
    "collapsed": false
   },
   "outputs": [
    {
     "data": {
      "image/png": "[encoded data removed]",
      "text/plain": [
       "<matplotlib.figure.Figure at 0x11633fb10>"
      ]
     },
     "metadata": {},
     "output_type": "display_data"
    }
   ],
   "source": [
    "import matplotlib.pylab as plt\n",
    "%matplotlib inline\n",
    "plt.figure(figsize = (7,7))\n",
    "plt.scatter(df.LotArea,df.AssessTot)\n",
    "plt.plot(df.LotArea,df.pred1,c='r')\n",
    "plt.show()"
   ]
  },
  {
   "cell_type": "markdown",
   "metadata": {},
   "source": [
    "#### (d) Repeat (c) without intercept, i.e. with $w_2=0$."
   ]
  },
  {
   "cell_type": "code",
   "execution_count": 15,
   "metadata": {
    "collapsed": false
   },
   "outputs": [],
   "source": [
    "x = np.array(df.LotArea)\n",
    "y = np.array(df.AssessTot)\n",
    "#Using x and y as vectors we cn calculate the covariance between these two and therefore,\n",
    "#calculate the correlation coefficient.\n",
    "W1 = np.mean(y)/np.mean(x)\n",
    "#print 'The correlation coefficient is:', W1\n"
   ]
  },
  {
   "cell_type": "code",
   "execution_count": 16,
   "metadata": {
    "collapsed": false
   },
   "outputs": [
    {
     "name": "stdout",
     "output_type": "stream",
     "text": [
      "The parameters w0,w1,R2 are 0 36.1621052867 0.191224383228 , respectively.\n"
     ]
    }
   ],
   "source": [
    "#If w0 = 0 then we can assume the following:\n",
    "W0 = 0\n",
    "df.loc[:,'pred2'] = df.LotArea*W1\n",
    "df.loc[:,'err2'] = df.AssessTot - df.pred2\n",
    "R_sq2 = 1 - (df.err2**2).sum()/((df.AssessTot-df.AssessTot.mean())**2).sum()\n",
    "\n",
    "print 'The parameters w0,w1,R2 are', W0,W1,R_sq2, ', respectively.'"
   ]
  },
  {
   "cell_type": "code",
   "execution_count": 17,
   "metadata": {
    "collapsed": false
   },
   "outputs": [
    {
     "data": {
      "image/png": "[encoded data removed]",
      "text/plain": [
       "<matplotlib.figure.Figure at 0x116443750>"
      ]
     },
     "metadata": {},
     "output_type": "display_data"
    }
   ],
   "source": [
    "plt.figure(figsize = (7,7))\n",
    "plt.scatter(x,y)\n",
    "plt.plot(x,df.pred2,c='r')\n",
    "plt.show()"
   ]
  },
  {
   "cell_type": "markdown",
   "metadata": {},
   "source": [
    "As we can see from the final plot, the slope without intercept is higher than that of the complete model when w0 is not zero. Therefore, because of the scale and the outliers of the data, the zero-intercept model seems to be better fitted to the data than the complete nonzero w0 model. Also, note that because the scale of the y-axis goes as high as 10^9 power, the intercept that we found on the first model is almost negligible, so it looks very close to zero. The real difference here is the slope."
   ]
  },
  {
   "cell_type": "markdown",
   "metadata": {
    "collapsed": true
   },
   "source": [
    "### Question (5): (20pt)\n",
    "\n",
    "For the same data as above try the model: log_AssessTot=$w_1$*log_LotArea + $w_2$. Get $w_1$, $w_2$ and $R^2$.  And plot your results together with observations. Explain the result - what does the estimated \"$w_1$\" means to you?"
   ]
  },
  {
   "cell_type": "code",
   "execution_count": 18,
   "metadata": {
    "collapsed": false
   },
   "outputs": [],
   "source": [
    "df.loc[:,'log_AssessTot'] = np.log(df.AssessTot)\n",
    "df.loc[:,'log_LotArea'] = np.log(df.LotArea)\n",
    "\n",
    "a = np.array(df.log_LotArea)\n",
    "b = np.array(df.log_AssessTot)\n",
    "abar = np.mean(a)\n",
    "bbar = np.mean(b)\n",
    "#Using x and y as vectors we cn calculate the covariance between these two and therefore,\n",
    "#calculate the correlation coefficient.\n",
    "Cov1 = np.mean((a-abar)*(b-bbar).T)\n",
    "rho1 = Cov/(np.std(a)*np.std(b))\n",
    "#print 'The correlation coefficient is:', rho1"
   ]
  },
  {
   "cell_type": "code",
   "execution_count": 19,
   "metadata": {
    "collapsed": false
   },
   "outputs": [
    {
     "name": "stdout",
     "output_type": "stream",
     "text": [
      "The parameters w0,w1,R2 are 0.207381598949 1.32514911392 0.490743686492 , respectively.\n"
     ]
    }
   ],
   "source": [
    "w2 = Cov1/np.var(a)\n",
    "w3 = np.mean(b) - w2*np.mean(a)\n",
    "\n",
    "df.loc[:,'pred3'] = w3 + df.log_LotArea*w2\n",
    "df.loc[:,'err3'] = df.log_AssessTot - df.pred3 \n",
    "R_sq2 = 1 - (df.err3**2).sum()/((df.log_AssessTot-df.log_AssessTot.mean())**2).sum()\n",
    "\n",
    "print 'The parameters w0,w1,R2 are', w3,w2,R_sq2, ', respectively.'"
   ]
  },
  {
   "cell_type": "code",
   "execution_count": 20,
   "metadata": {
    "collapsed": false
   },
   "outputs": [
    {
     "name": "stdout",
     "output_type": "stream",
     "text": [
      "Intercept      0.207382\n",
      "log_LotArea    1.325149\n",
      "dtype: float64 0.490743686492\n"
     ]
    }
   ],
   "source": [
    "lm2 = smf.ols(formula = 'log_AssessTot~ log_LotArea', data = df).fit()\n",
    "print lm2.params, lm2.rsquared #lm2.summary"
   ]
  },
  {
   "cell_type": "code",
   "execution_count": 21,
   "metadata": {
    "collapsed": false
   },
   "outputs": [
    {
     "data": {
      "image/png": "[encoded data removed]",
      "text/plain": [
       "<matplotlib.figure.Figure at 0x1164e6c50>"
      ]
     },
     "metadata": {},
     "output_type": "display_data"
    }
   ],
   "source": [
    "plt.figure(figsize = (7,7))\n",
    "plt.scatter(a,b)\n",
    "plt.plot(a,df.pred3,c='r')\n",
    "plt.show()"
   ]
  },
  {
   "cell_type": "markdown",
   "metadata": {},
   "source": [
    "### *Additional extra-credit question (Using the housing price data set from question (4)) (40 pt to be added to the cumulative homework score up to the maximum of 100%(for whole semester))"
   ]
  },
  {
   "cell_type": "markdown",
   "metadata": {},
   "source": [
    "#### (a) How many different zip codes are in the data? report the number of observations for each zipcode.\n",
    "\n",
    "#### (b) For each zip code having over 1000 observations, report the average assessed total value of houses.\n",
    "\n",
    "#### (c) For each zip code estimate the log scale model 'log_AssessTot ~ log_LotArea' and report the slope coefficient (scaling exponent).\n",
    "\n",
    "#### (d) Visualize the spatial distribution of the values from (b) and (c). Report the top 5 zip code with highest scaling exponents."
   ]
  },
  {
   "cell_type": "code",
   "execution_count": 22,
   "metadata": {
    "collapsed": false
   },
   "outputs": [
    {
     "data": {
      "text/html": [
       "<div>\n",
       "<table border=\"1\" class=\"dataframe\">\n",
       "  <thead>\n",
       "    <tr style=\"text-align: right;\">\n",
       "      <th></th>\n",
       "      <th>ZipCode</th>\n",
       "      <th>LotArea</th>\n",
       "      <th>AssessTot</th>\n",
       "    </tr>\n",
       "  </thead>\n",
       "  <tbody>\n",
       "    <tr>\n",
       "      <th>0</th>\n",
       "      <td>11201.0</td>\n",
       "      <td>151930.0</td>\n",
       "      <td>1164645.0</td>\n",
       "    </tr>\n",
       "    <tr>\n",
       "      <th>1</th>\n",
       "      <td>11201.0</td>\n",
       "      <td>9620.0</td>\n",
       "      <td>5864850.0</td>\n",
       "    </tr>\n",
       "    <tr>\n",
       "      <th>2</th>\n",
       "      <td>11201.0</td>\n",
       "      <td>19682.0</td>\n",
       "      <td>12019950.0</td>\n",
       "    </tr>\n",
       "    <tr>\n",
       "      <th>5</th>\n",
       "      <td>11201.0</td>\n",
       "      <td>6384.0</td>\n",
       "      <td>21150.0</td>\n",
       "    </tr>\n",
       "    <tr>\n",
       "      <th>10</th>\n",
       "      <td>11201.0</td>\n",
       "      <td>66889.0</td>\n",
       "      <td>11700.0</td>\n",
       "    </tr>\n",
       "  </tbody>\n",
       "</table>\n",
       "</div>"
      ],
      "text/plain": [
       "    ZipCode   LotArea   AssessTot\n",
       "0   11201.0  151930.0   1164645.0\n",
       "1   11201.0    9620.0   5864850.0\n",
       "2   11201.0   19682.0  12019950.0\n",
       "5   11201.0    6384.0     21150.0\n",
       "10  11201.0   66889.0     11700.0"
      ]
     },
     "execution_count": 22,
     "metadata": {},
     "output_type": "execute_result"
    }
   ],
   "source": [
    "#Question additional credit, part a:\n",
    "df1 = data_4\n",
    "df1 = df1[df1 > 0]\n",
    "df1 = df1.dropna()\n",
    "df1.head(5)\n"
   ]
  },
  {
   "cell_type": "code",
   "execution_count": 23,
   "metadata": {
    "collapsed": false,
    "scrolled": false
   },
   "outputs": [
    {
     "data": {
      "text/plain": [
       "41"
      ]
     },
     "execution_count": 23,
     "metadata": {},
     "output_type": "execute_result"
    }
   ],
   "source": [
    "filteredDF = df1.groupby(['ZipCode']).apply(len).copy()\n",
    "len(filteredDF)"
   ]
  },
  {
   "cell_type": "code",
   "execution_count": 24,
   "metadata": {
    "collapsed": false
   },
   "outputs": [
    {
     "data": {
      "text/plain": [
       "(ZipCode\n",
       " 11201.0     3361\n",
       " 11203.0    11011\n",
       " 11204.0     9946\n",
       " 11205.0     3196\n",
       " 11206.0     4665\n",
       " 11207.0    11413\n",
       " 11208.0    11284\n",
       " 11209.0     8451\n",
       " 11210.0     8540\n",
       " 11211.0     5462\n",
       " 11212.0     6578\n",
       " 11213.0     5076\n",
       " 11214.0     9513\n",
       " 11215.0     9056\n",
       " 11216.0     6113\n",
       " 11217.0     4035\n",
       " 11218.0     6905\n",
       " 11219.0     8656\n",
       " 11220.0     9015\n",
       " 11221.0     9186\n",
       " 11222.0     5311\n",
       " 11223.0    10322\n",
       " 11224.0     2798\n",
       " 11225.0     3920\n",
       " 11226.0     5336\n",
       " 11228.0     7857\n",
       " 11229.0    12063\n",
       " 11230.0     7987\n",
       " 11231.0     4838\n",
       " 11232.0     2946\n",
       " 11233.0     8014\n",
       " 11234.0    19318\n",
       " 11235.0     7941\n",
       " 11236.0    14612\n",
       " 11237.0     4390\n",
       " 11238.0     4876\n",
       " 11249.0     1561\n",
       " dtype: int64, 37)"
      ]
     },
     "execution_count": 24,
     "metadata": {},
     "output_type": "execute_result"
    }
   ],
   "source": [
    "filterZip = filteredDF[filteredDF > 1000]\n",
    "filterZip, len(filterZip)\n"
   ]
  },
  {
   "cell_type": "code",
   "execution_count": 45,
   "metadata": {
    "collapsed": false
   },
   "outputs": [
    {
     "data": {
      "text/html": [
       "<div>\n",
       "<table border=\"1\" class=\"dataframe\">\n",
       "  <thead>\n",
       "    <tr style=\"text-align: right;\">\n",
       "      <th></th>\n",
       "      <th>ZipCode</th>\n",
       "      <th>LotArea_x</th>\n",
       "      <th>AssessTot_x</th>\n",
       "    </tr>\n",
       "  </thead>\n",
       "  <tbody>\n",
       "    <tr>\n",
       "      <th>0</th>\n",
       "      <td>11201.0</td>\n",
       "      <td>151930.0</td>\n",
       "      <td>1164645.0</td>\n",
       "    </tr>\n",
       "    <tr>\n",
       "      <th>1</th>\n",
       "      <td>11201.0</td>\n",
       "      <td>9620.0</td>\n",
       "      <td>5864850.0</td>\n",
       "    </tr>\n",
       "    <tr>\n",
       "      <th>2</th>\n",
       "      <td>11201.0</td>\n",
       "      <td>19682.0</td>\n",
       "      <td>12019950.0</td>\n",
       "    </tr>\n",
       "    <tr>\n",
       "      <th>3</th>\n",
       "      <td>11201.0</td>\n",
       "      <td>6384.0</td>\n",
       "      <td>21150.0</td>\n",
       "    </tr>\n",
       "    <tr>\n",
       "      <th>4</th>\n",
       "      <td>11201.0</td>\n",
       "      <td>66889.0</td>\n",
       "      <td>11700.0</td>\n",
       "    </tr>\n",
       "  </tbody>\n",
       "</table>\n",
       "</div>"
      ],
      "text/plain": [
       "   ZipCode  LotArea_x  AssessTot_x\n",
       "0  11201.0   151930.0    1164645.0\n",
       "1  11201.0     9620.0    5864850.0\n",
       "2  11201.0    19682.0   12019950.0\n",
       "3  11201.0     6384.0      21150.0\n",
       "4  11201.0    66889.0      11700.0"
      ]
     },
     "execution_count": 45,
     "metadata": {},
     "output_type": "execute_result"
    }
   ],
   "source": [
    "#Question 5 part b\n",
    "gp = df1.groupby('ZipCode').aggregate(np.count_nonzero)\n",
    "tf = gp[gp.LotArea > 1000].reset_index()\n",
    "newDF = pd.merge(df1, tf, left_on='ZipCode', right_on='ZipCode', how='inner')\n",
    "newDF = newDF.drop(['LotArea_y','AssessTot_y'], 1)\n",
    "newDF.head()"
   ]
  },
  {
   "cell_type": "code",
   "execution_count": 46,
   "metadata": {
    "collapsed": false
   },
   "outputs": [
    {
     "data": {
      "text/html": [
       "<div>\n",
       "<table border=\"1\" class=\"dataframe\">\n",
       "  <thead>\n",
       "    <tr style=\"text-align: right;\">\n",
       "      <th></th>\n",
       "      <th>ZipCode</th>\n",
       "      <th>LotArea_x</th>\n",
       "      <th>AssessTot_x</th>\n",
       "    </tr>\n",
       "  </thead>\n",
       "  <tbody>\n",
       "    <tr>\n",
       "      <th>0</th>\n",
       "      <td>11201.0</td>\n",
       "      <td>7849.991669</td>\n",
       "      <td>1.672253e+06</td>\n",
       "    </tr>\n",
       "    <tr>\n",
       "      <th>1</th>\n",
       "      <td>11203.0</td>\n",
       "      <td>3588.370993</td>\n",
       "      <td>1.210203e+05</td>\n",
       "    </tr>\n",
       "    <tr>\n",
       "      <th>2</th>\n",
       "      <td>11204.0</td>\n",
       "      <td>3004.730243</td>\n",
       "      <td>1.045425e+05</td>\n",
       "    </tr>\n",
       "    <tr>\n",
       "      <th>3</th>\n",
       "      <td>11205.0</td>\n",
       "      <td>5601.588861</td>\n",
       "      <td>3.509409e+05</td>\n",
       "    </tr>\n",
       "    <tr>\n",
       "      <th>4</th>\n",
       "      <td>11206.0</td>\n",
       "      <td>5822.614791</td>\n",
       "      <td>3.115333e+05</td>\n",
       "    </tr>\n",
       "    <tr>\n",
       "      <th>5</th>\n",
       "      <td>11207.0</td>\n",
       "      <td>4481.561728</td>\n",
       "      <td>1.003423e+05</td>\n",
       "    </tr>\n",
       "    <tr>\n",
       "      <th>6</th>\n",
       "      <td>11208.0</td>\n",
       "      <td>4661.630096</td>\n",
       "      <td>8.644045e+04</td>\n",
       "    </tr>\n",
       "    <tr>\n",
       "      <th>7</th>\n",
       "      <td>11209.0</td>\n",
       "      <td>5749.371317</td>\n",
       "      <td>1.731870e+05</td>\n",
       "    </tr>\n",
       "    <tr>\n",
       "      <th>8</th>\n",
       "      <td>11210.0</td>\n",
       "      <td>3703.556206</td>\n",
       "      <td>1.194678e+05</td>\n",
       "    </tr>\n",
       "    <tr>\n",
       "      <th>9</th>\n",
       "      <td>11211.0</td>\n",
       "      <td>4331.272794</td>\n",
       "      <td>2.493017e+05</td>\n",
       "    </tr>\n",
       "    <tr>\n",
       "      <th>10</th>\n",
       "      <td>11212.0</td>\n",
       "      <td>4417.043174</td>\n",
       "      <td>1.664262e+05</td>\n",
       "    </tr>\n",
       "    <tr>\n",
       "      <th>11</th>\n",
       "      <td>11213.0</td>\n",
       "      <td>4139.969267</td>\n",
       "      <td>1.696212e+05</td>\n",
       "    </tr>\n",
       "    <tr>\n",
       "      <th>12</th>\n",
       "      <td>11214.0</td>\n",
       "      <td>4438.990224</td>\n",
       "      <td>1.270644e+05</td>\n",
       "    </tr>\n",
       "    <tr>\n",
       "      <th>13</th>\n",
       "      <td>11215.0</td>\n",
       "      <td>2823.805543</td>\n",
       "      <td>1.697184e+05</td>\n",
       "    </tr>\n",
       "    <tr>\n",
       "      <th>14</th>\n",
       "      <td>11216.0</td>\n",
       "      <td>2962.456077</td>\n",
       "      <td>1.251104e+05</td>\n",
       "    </tr>\n",
       "    <tr>\n",
       "      <th>15</th>\n",
       "      <td>11217.0</td>\n",
       "      <td>4104.499380</td>\n",
       "      <td>4.832978e+05</td>\n",
       "    </tr>\n",
       "    <tr>\n",
       "      <th>16</th>\n",
       "      <td>11218.0</td>\n",
       "      <td>3754.477046</td>\n",
       "      <td>1.308874e+05</td>\n",
       "    </tr>\n",
       "    <tr>\n",
       "      <th>17</th>\n",
       "      <td>11219.0</td>\n",
       "      <td>2968.183457</td>\n",
       "      <td>1.407409e+05</td>\n",
       "    </tr>\n",
       "    <tr>\n",
       "      <th>18</th>\n",
       "      <td>11220.0</td>\n",
       "      <td>3368.629506</td>\n",
       "      <td>1.345459e+05</td>\n",
       "    </tr>\n",
       "    <tr>\n",
       "      <th>19</th>\n",
       "      <td>11221.0</td>\n",
       "      <td>2785.933486</td>\n",
       "      <td>9.060183e+04</td>\n",
       "    </tr>\n",
       "    <tr>\n",
       "      <th>20</th>\n",
       "      <td>11222.0</td>\n",
       "      <td>5876.024101</td>\n",
       "      <td>2.034066e+05</td>\n",
       "    </tr>\n",
       "    <tr>\n",
       "      <th>21</th>\n",
       "      <td>11223.0</td>\n",
       "      <td>3440.045534</td>\n",
       "      <td>1.034725e+05</td>\n",
       "    </tr>\n",
       "    <tr>\n",
       "      <th>22</th>\n",
       "      <td>11224.0</td>\n",
       "      <td>15126.590064</td>\n",
       "      <td>3.096797e+05</td>\n",
       "    </tr>\n",
       "    <tr>\n",
       "      <th>23</th>\n",
       "      <td>11225.0</td>\n",
       "      <td>4692.626531</td>\n",
       "      <td>2.191019e+05</td>\n",
       "    </tr>\n",
       "    <tr>\n",
       "      <th>24</th>\n",
       "      <td>11226.0</td>\n",
       "      <td>7863.942654</td>\n",
       "      <td>2.591685e+05</td>\n",
       "    </tr>\n",
       "    <tr>\n",
       "      <th>25</th>\n",
       "      <td>11228.0</td>\n",
       "      <td>4168.265114</td>\n",
       "      <td>6.712798e+04</td>\n",
       "    </tr>\n",
       "    <tr>\n",
       "      <th>26</th>\n",
       "      <td>11229.0</td>\n",
       "      <td>7010.305728</td>\n",
       "      <td>3.082203e+05</td>\n",
       "    </tr>\n",
       "    <tr>\n",
       "      <th>27</th>\n",
       "      <td>11230.0</td>\n",
       "      <td>3998.232127</td>\n",
       "      <td>1.488702e+05</td>\n",
       "    </tr>\n",
       "    <tr>\n",
       "      <th>28</th>\n",
       "      <td>11231.0</td>\n",
       "      <td>6117.280074</td>\n",
       "      <td>1.870814e+05</td>\n",
       "    </tr>\n",
       "    <tr>\n",
       "      <th>29</th>\n",
       "      <td>11232.0</td>\n",
       "      <td>14976.904616</td>\n",
       "      <td>3.860844e+05</td>\n",
       "    </tr>\n",
       "    <tr>\n",
       "      <th>30</th>\n",
       "      <td>11233.0</td>\n",
       "      <td>2931.271899</td>\n",
       "      <td>8.335983e+04</td>\n",
       "    </tr>\n",
       "    <tr>\n",
       "      <th>31</th>\n",
       "      <td>11234.0</td>\n",
       "      <td>10751.862770</td>\n",
       "      <td>1.548391e+05</td>\n",
       "    </tr>\n",
       "    <tr>\n",
       "      <th>32</th>\n",
       "      <td>11235.0</td>\n",
       "      <td>5758.717542</td>\n",
       "      <td>2.169321e+05</td>\n",
       "    </tr>\n",
       "    <tr>\n",
       "      <th>33</th>\n",
       "      <td>11236.0</td>\n",
       "      <td>4346.939844</td>\n",
       "      <td>7.765376e+04</td>\n",
       "    </tr>\n",
       "    <tr>\n",
       "      <th>34</th>\n",
       "      <td>11237.0</td>\n",
       "      <td>4367.003189</td>\n",
       "      <td>1.529543e+05</td>\n",
       "    </tr>\n",
       "    <tr>\n",
       "      <th>35</th>\n",
       "      <td>11238.0</td>\n",
       "      <td>3767.332034</td>\n",
       "      <td>2.652606e+05</td>\n",
       "    </tr>\n",
       "    <tr>\n",
       "      <th>36</th>\n",
       "      <td>11249.0</td>\n",
       "      <td>9018.428571</td>\n",
       "      <td>7.146325e+05</td>\n",
       "    </tr>\n",
       "  </tbody>\n",
       "</table>\n",
       "</div>"
      ],
      "text/plain": [
       "    ZipCode     LotArea_x   AssessTot_x\n",
       "0   11201.0   7849.991669  1.672253e+06\n",
       "1   11203.0   3588.370993  1.210203e+05\n",
       "2   11204.0   3004.730243  1.045425e+05\n",
       "3   11205.0   5601.588861  3.509409e+05\n",
       "4   11206.0   5822.614791  3.115333e+05\n",
       "5   11207.0   4481.561728  1.003423e+05\n",
       "6   11208.0   4661.630096  8.644045e+04\n",
       "7   11209.0   5749.371317  1.731870e+05\n",
       "8   11210.0   3703.556206  1.194678e+05\n",
       "9   11211.0   4331.272794  2.493017e+05\n",
       "10  11212.0   4417.043174  1.664262e+05\n",
       "11  11213.0   4139.969267  1.696212e+05\n",
       "12  11214.0   4438.990224  1.270644e+05\n",
       "13  11215.0   2823.805543  1.697184e+05\n",
       "14  11216.0   2962.456077  1.251104e+05\n",
       "15  11217.0   4104.499380  4.832978e+05\n",
       "16  11218.0   3754.477046  1.308874e+05\n",
       "17  11219.0   2968.183457  1.407409e+05\n",
       "18  11220.0   3368.629506  1.345459e+05\n",
       "19  11221.0   2785.933486  9.060183e+04\n",
       "20  11222.0   5876.024101  2.034066e+05\n",
       "21  11223.0   3440.045534  1.034725e+05\n",
       "22  11224.0  15126.590064  3.096797e+05\n",
       "23  11225.0   4692.626531  2.191019e+05\n",
       "24  11226.0   7863.942654  2.591685e+05\n",
       "25  11228.0   4168.265114  6.712798e+04\n",
       "26  11229.0   7010.305728  3.082203e+05\n",
       "27  11230.0   3998.232127  1.488702e+05\n",
       "28  11231.0   6117.280074  1.870814e+05\n",
       "29  11232.0  14976.904616  3.860844e+05\n",
       "30  11233.0   2931.271899  8.335983e+04\n",
       "31  11234.0  10751.862770  1.548391e+05\n",
       "32  11235.0   5758.717542  2.169321e+05\n",
       "33  11236.0   4346.939844  7.765376e+04\n",
       "34  11237.0   4367.003189  1.529543e+05\n",
       "35  11238.0   3767.332034  2.652606e+05\n",
       "36  11249.0   9018.428571  7.146325e+05"
      ]
     },
     "execution_count": 46,
     "metadata": {},
     "output_type": "execute_result"
    }
   ],
   "source": [
    "#the mean by Zip code\n",
    "newDF.groupby('ZipCode').mean().reset_index()"
   ]
  },
  {
   "cell_type": "code",
   "execution_count": 47,
   "metadata": {
    "collapsed": false
   },
   "outputs": [],
   "source": [
    "newDF.loc[:,'log_LotArea'] = np.log(newDF.LotArea_x)\n",
    "newDF.loc[:,'log_AssessTot'] = np.log(newDF.AssessTot_x)\n"
   ]
  },
  {
   "cell_type": "code",
   "execution_count": 48,
   "metadata": {
    "collapsed": false
   },
   "outputs": [],
   "source": [
    "log_DF = newDF.loc[:,['ZipCode','log_AssessTot','log_LotArea']]\n"
   ]
  },
  {
   "cell_type": "code",
   "execution_count": 56,
   "metadata": {
    "collapsed": false
   },
   "outputs": [
    {
     "data": {
      "text/html": [
       "<div>\n",
       "<table border=\"1\" class=\"dataframe\">\n",
       "  <thead>\n",
       "    <tr style=\"text-align: right;\">\n",
       "      <th></th>\n",
       "      <th>Slope Coefficient</th>\n",
       "      <th>ZipCode</th>\n",
       "    </tr>\n",
       "  </thead>\n",
       "  <tbody>\n",
       "    <tr>\n",
       "      <th>0</th>\n",
       "      <td>1.405662</td>\n",
       "      <td>11201.0</td>\n",
       "    </tr>\n",
       "    <tr>\n",
       "      <th>1</th>\n",
       "      <td>1.415730</td>\n",
       "      <td>11217.0</td>\n",
       "    </tr>\n",
       "    <tr>\n",
       "      <th>2</th>\n",
       "      <td>1.135323</td>\n",
       "      <td>11231.0</td>\n",
       "    </tr>\n",
       "    <tr>\n",
       "      <th>3</th>\n",
       "      <td>1.541013</td>\n",
       "      <td>11215.0</td>\n",
       "    </tr>\n",
       "    <tr>\n",
       "      <th>4</th>\n",
       "      <td>1.378675</td>\n",
       "      <td>11232.0</td>\n",
       "    </tr>\n",
       "  </tbody>\n",
       "</table>\n",
       "</div>"
      ],
      "text/plain": [
       "   Slope Coefficient  ZipCode\n",
       "0           1.405662  11201.0\n",
       "1           1.415730  11217.0\n",
       "2           1.135323  11231.0\n",
       "3           1.541013  11215.0\n",
       "4           1.378675  11232.0"
      ]
     },
     "execution_count": 56,
     "metadata": {},
     "output_type": "execute_result"
    }
   ],
   "source": [
    "Z = log_DF.ZipCode.unique()\n",
    "slope = []\n",
    "for item in Z:\n",
    "    index = (log_DF.ZipCode == item)\n",
    "    lm3 = smf.ols('log_AssessTot~log_LotArea',data = log_DF[index]).fit()\n",
    "    slope.append(lm3.params.log_LotArea)\n",
    "\n",
    "finalDF = pd.DataFrame({'ZipCode':Z,'Slope Coefficient':slope})\n",
    "finalDF.head()"
   ]
  },
  {
   "cell_type": "code",
   "execution_count": 31,
   "metadata": {
    "collapsed": false
   },
   "outputs": [],
   "source": []
  },
  {
   "cell_type": "code",
   "execution_count": null,
   "metadata": {
    "collapsed": true
   },
   "outputs": [],
   "source": []
  }
 ],
 "metadata": {
  "anaconda-cloud": {},
  "kernelspec": {
   "display_name": "Python [Root]",
   "language": "python",
   "name": "Python [Root]"
  },
  "language_info": {
   "codemirror_mode": {
    "name": "ipython",
    "version": 2
   },
   "file_extension": ".py",
   "mimetype": "text/x-python",
   "name": "python",
   "nbconvert_exporter": "python",
   "pygments_lexer": "ipython2",
   "version": "2.7.12"
  }
 },
 "nbformat": 4,
 "nbformat_minor": 0
}
